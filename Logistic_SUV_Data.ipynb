{
 "cells": [
  {
   "cell_type": "code",
   "execution_count": 1,
   "metadata": {},
   "outputs": [],
   "source": [
    "import pandas as pd\n",
    "import numpy as np\n",
    "import matplotlib.pyplot as plt\n",
    "import seaborn as sns\n",
    "import os as os\n",
    "import warnings\n",
    "warnings.filterwarnings(\"ignore\")"
   ]
  },
  {
   "cell_type": "code",
   "execution_count": 2,
   "metadata": {},
   "outputs": [],
   "source": [
    "filepath = r\"C:\\Users\\user\\Downloads\\Dataset\"\n",
    "filename = \"suv_data.csv\"\n",
    "df = pd.read_csv(os.path.join(filepath,filename), encoding= \"unicode escape\")"
   ]
  },
  {
   "cell_type": "code",
   "execution_count": 3,
   "metadata": {},
   "outputs": [
    {
     "data": {
      "text/html": [
       "<div>\n",
       "<style scoped>\n",
       "    .dataframe tbody tr th:only-of-type {\n",
       "        vertical-align: middle;\n",
       "    }\n",
       "\n",
       "    .dataframe tbody tr th {\n",
       "        vertical-align: top;\n",
       "    }\n",
       "\n",
       "    .dataframe thead th {\n",
       "        text-align: right;\n",
       "    }\n",
       "</style>\n",
       "<table border=\"1\" class=\"dataframe\">\n",
       "  <thead>\n",
       "    <tr style=\"text-align: right;\">\n",
       "      <th></th>\n",
       "      <th>User ID</th>\n",
       "      <th>Gender</th>\n",
       "      <th>Age</th>\n",
       "      <th>EstimatedSalary</th>\n",
       "      <th>Purchased</th>\n",
       "    </tr>\n",
       "  </thead>\n",
       "  <tbody>\n",
       "    <tr>\n",
       "      <th>0</th>\n",
       "      <td>15624510</td>\n",
       "      <td>Male</td>\n",
       "      <td>19</td>\n",
       "      <td>19000</td>\n",
       "      <td>0</td>\n",
       "    </tr>\n",
       "    <tr>\n",
       "      <th>1</th>\n",
       "      <td>15810944</td>\n",
       "      <td>Male</td>\n",
       "      <td>35</td>\n",
       "      <td>20000</td>\n",
       "      <td>0</td>\n",
       "    </tr>\n",
       "    <tr>\n",
       "      <th>2</th>\n",
       "      <td>15668575</td>\n",
       "      <td>Female</td>\n",
       "      <td>26</td>\n",
       "      <td>43000</td>\n",
       "      <td>0</td>\n",
       "    </tr>\n",
       "    <tr>\n",
       "      <th>3</th>\n",
       "      <td>15603246</td>\n",
       "      <td>Female</td>\n",
       "      <td>27</td>\n",
       "      <td>57000</td>\n",
       "      <td>0</td>\n",
       "    </tr>\n",
       "    <tr>\n",
       "      <th>4</th>\n",
       "      <td>15804002</td>\n",
       "      <td>Male</td>\n",
       "      <td>19</td>\n",
       "      <td>76000</td>\n",
       "      <td>0</td>\n",
       "    </tr>\n",
       "  </tbody>\n",
       "</table>\n",
       "</div>"
      ],
      "text/plain": [
       "    User ID  Gender  Age  EstimatedSalary  Purchased\n",
       "0  15624510    Male   19            19000          0\n",
       "1  15810944    Male   35            20000          0\n",
       "2  15668575  Female   26            43000          0\n",
       "3  15603246  Female   27            57000          0\n",
       "4  15804002    Male   19            76000          0"
      ]
     },
     "execution_count": 3,
     "metadata": {},
     "output_type": "execute_result"
    }
   ],
   "source": [
    "df.head()"
   ]
  },
  {
   "cell_type": "code",
   "execution_count": 4,
   "metadata": {},
   "outputs": [
    {
     "data": {
      "text/plain": [
       "(400, 5)"
      ]
     },
     "execution_count": 4,
     "metadata": {},
     "output_type": "execute_result"
    }
   ],
   "source": [
    "df.shape"
   ]
  },
  {
   "cell_type": "code",
   "execution_count": 5,
   "metadata": {},
   "outputs": [
    {
     "data": {
      "text/plain": [
       "400"
      ]
     },
     "execution_count": 5,
     "metadata": {},
     "output_type": "execute_result"
    }
   ],
   "source": [
    "df[\"User ID\"].nunique()"
   ]
  },
  {
   "cell_type": "code",
   "execution_count": 6,
   "metadata": {},
   "outputs": [],
   "source": [
    "df = df.drop([\"User ID\"],axis=1)"
   ]
  },
  {
   "cell_type": "code",
   "execution_count": 7,
   "metadata": {},
   "outputs": [
    {
     "data": {
      "text/html": [
       "<div>\n",
       "<style scoped>\n",
       "    .dataframe tbody tr th:only-of-type {\n",
       "        vertical-align: middle;\n",
       "    }\n",
       "\n",
       "    .dataframe tbody tr th {\n",
       "        vertical-align: top;\n",
       "    }\n",
       "\n",
       "    .dataframe thead th {\n",
       "        text-align: right;\n",
       "    }\n",
       "</style>\n",
       "<table border=\"1\" class=\"dataframe\">\n",
       "  <thead>\n",
       "    <tr style=\"text-align: right;\">\n",
       "      <th></th>\n",
       "      <th>Gender</th>\n",
       "      <th>Age</th>\n",
       "      <th>EstimatedSalary</th>\n",
       "      <th>Purchased</th>\n",
       "    </tr>\n",
       "  </thead>\n",
       "  <tbody>\n",
       "    <tr>\n",
       "      <th>0</th>\n",
       "      <td>Male</td>\n",
       "      <td>19</td>\n",
       "      <td>19000</td>\n",
       "      <td>0</td>\n",
       "    </tr>\n",
       "    <tr>\n",
       "      <th>1</th>\n",
       "      <td>Male</td>\n",
       "      <td>35</td>\n",
       "      <td>20000</td>\n",
       "      <td>0</td>\n",
       "    </tr>\n",
       "    <tr>\n",
       "      <th>2</th>\n",
       "      <td>Female</td>\n",
       "      <td>26</td>\n",
       "      <td>43000</td>\n",
       "      <td>0</td>\n",
       "    </tr>\n",
       "    <tr>\n",
       "      <th>3</th>\n",
       "      <td>Female</td>\n",
       "      <td>27</td>\n",
       "      <td>57000</td>\n",
       "      <td>0</td>\n",
       "    </tr>\n",
       "    <tr>\n",
       "      <th>4</th>\n",
       "      <td>Male</td>\n",
       "      <td>19</td>\n",
       "      <td>76000</td>\n",
       "      <td>0</td>\n",
       "    </tr>\n",
       "  </tbody>\n",
       "</table>\n",
       "</div>"
      ],
      "text/plain": [
       "   Gender  Age  EstimatedSalary  Purchased\n",
       "0    Male   19            19000          0\n",
       "1    Male   35            20000          0\n",
       "2  Female   26            43000          0\n",
       "3  Female   27            57000          0\n",
       "4    Male   19            76000          0"
      ]
     },
     "execution_count": 7,
     "metadata": {},
     "output_type": "execute_result"
    }
   ],
   "source": [
    "df.head()"
   ]
  },
  {
   "cell_type": "code",
   "execution_count": 8,
   "metadata": {},
   "outputs": [
    {
     "data": {
      "text/plain": [
       "Gender             0\n",
       "Age                0\n",
       "EstimatedSalary    0\n",
       "Purchased          0\n",
       "dtype: int64"
      ]
     },
     "execution_count": 8,
     "metadata": {},
     "output_type": "execute_result"
    }
   ],
   "source": [
    "df.isnull().sum()"
   ]
  },
  {
   "cell_type": "markdown",
   "metadata": {},
   "source": [
    "# Univariate Analysis"
   ]
  },
  {
   "cell_type": "code",
   "execution_count": 9,
   "metadata": {},
   "outputs": [],
   "source": [
    "# Univariate analysis using function\n",
    "def plot(x,in_data):\n",
    "    fig, axes = plt.subplots(1,2,figsize=(15,5))\n",
    "    sns.distplot(df[x],ax=axes[0], kde=False)\n",
    "    sns.boxplot(df[x],ax=axes[1], orient=\"h\",showmeans=True, color=\"pink\")\n",
    "    fig.suptitle(\"Univariate Analysis of \" +x,fontsize=15)\n",
    "    plt.show()"
   ]
  },
  {
   "cell_type": "code",
   "execution_count": 10,
   "metadata": {},
   "outputs": [
    {
     "data": {
      "image/png": "[encoded data removed]",
      "text/plain": [
       "<Figure size 1080x360 with 2 Axes>"
      ]
     },
     "metadata": {
      "needs_background": "light"
     },
     "output_type": "display_data"
    },
    {
     "data": {
      "image/png": "[encoded data removed]",
      "text/plain": [
       "<Figure size 1080x360 with 2 Axes>"
      ]
     },
     "metadata": {
      "needs_background": "light"
     },
     "output_type": "display_data"
    }
   ],
   "source": [
    "x_axis = [\"Age\", \"EstimatedSalary\"]\n",
    "for col in x_axis:\n",
    "    plot(x=col,in_data=df)"
   ]
  },
  {
   "cell_type": "code",
   "execution_count": 11,
   "metadata": {},
   "outputs": [
    {
     "data": {
      "image/png": "[encoded data removed]",
      "text/plain": [
       "<Figure size 1080x360 with 2 Axes>"
      ]
     },
     "metadata": {
      "needs_background": "light"
     },
     "output_type": "display_data"
    },
    {
     "data": {
      "image/png": "[encoded data removed]",
      "text/plain": [
       "<Figure size 1080x360 with 2 Axes>"
      ]
     },
     "metadata": {
      "needs_background": "light"
     },
     "output_type": "display_data"
    },
    {
     "data": {
      "image/png": "[encoded data removed]",
      "text/plain": [
       "<Figure size 1080x360 with 2 Axes>"
      ]
     },
     "metadata": {
      "needs_background": "light"
     },
     "output_type": "display_data"
    }
   ],
   "source": [
    "#Univariate analysis another Way\n",
    "\n",
    "x_axis = [\"Age\", \"EstimatedSalary\",\"Purchased\"]\n",
    "for x in x_axis:\n",
    "    fig, axes = plt.subplots(1,2,figsize=(15,5))\n",
    "    sns.distplot(df[x],ax=axes[0], kde=False)\n",
    "    sns.boxplot(df[x],ax=axes[1], orient=\"h\",showmeans=True, color=\"pink\")\n",
    "    fig.suptitle(\"Univariate Analysis of \" +x,fontsize=15)\n",
    "    plt.show()"
   ]
  },
  {
   "cell_type": "code",
   "execution_count": 12,
   "metadata": {},
   "outputs": [],
   "source": [
    "def scatter (x,y,in_data):\n",
    "    plt.scatter(x,y, data=in_data)\n",
    "    plt.xlabel(x, fontsize=15)\n",
    "    plt.ylabel(y, fontsize=15)\n",
    "    plt.grid()\n",
    "    plt.show()"
   ]
  },
  {
   "cell_type": "code",
   "execution_count": 13,
   "metadata": {},
   "outputs": [
    {
     "data": {
      "image/png": "[encoded data removed]",
      "text/plain": [
       "<Figure size 432x288 with 1 Axes>"
      ]
     },
     "metadata": {
      "needs_background": "light"
     },
     "output_type": "display_data"
    },
    {
     "data": {
      "image/png": "[encoded data removed]",
      "text/plain": [
       "<Figure size 432x288 with 1 Axes>"
      ]
     },
     "metadata": {
      "needs_background": "light"
     },
     "output_type": "display_data"
    },
    {
     "data": {
      "image/png": "[encoded data removed]",
      "text/plain": [
       "<Figure size 432x288 with 1 Axes>"
      ]
     },
     "metadata": {
      "needs_background": "light"
     },
     "output_type": "display_data"
    }
   ],
   "source": [
    "x_axis = [\"Age\", \"EstimatedSalary\",\"Purchased\"]\n",
    "y_axis = \"Purchased\"\n",
    "for col in x_axis:\n",
    "    scatter(x=col,y=y_axis,in_data=df)"
   ]
  },
  {
   "cell_type": "markdown",
   "metadata": {},
   "source": [
    "# lets check for Bivariate Analysis"
   ]
  },
  {
   "cell_type": "code",
   "execution_count": 14,
   "metadata": {},
   "outputs": [
    {
     "data": {
      "image/png": "[encoded data removed]",
      "text/plain": [
       "<Figure size 432x288 with 1 Axes>"
      ]
     },
     "metadata": {
      "needs_background": "light"
     },
     "output_type": "display_data"
    }
   ],
   "source": [
    "plt.scatter(df[\"EstimatedSalary\"],df[\"Purchased\"])\n",
    "plt.xlabel(\"EstimatedSalary\", fontsize=15)\n",
    "plt.ylabel(\"Purchased\", fontsize=15)\n",
    "plt.grid()"
   ]
  },
  {
   "cell_type": "code",
   "execution_count": 15,
   "metadata": {},
   "outputs": [
    {
     "data": {
      "text/plain": [
       "(array([257.,   0.,   0.,   0.,   0.,   0.,   0.,   0.,   0., 143.]),\n",
       " array([0. , 0.1, 0.2, 0.3, 0.4, 0.5, 0.6, 0.7, 0.8, 0.9, 1. ]),\n",
       " <a list of 10 Patch objects>)"
      ]
     },
     "execution_count": 15,
     "metadata": {},
     "output_type": "execute_result"
    },
    {
     "data": {
      "image/png": "[encoded data removed]",
      "text/plain": [
       "<Figure size 432x288 with 1 Axes>"
      ]
     },
     "metadata": {
      "needs_background": "light"
     },
     "output_type": "display_data"
    }
   ],
   "source": [
    "plt.hist(df[\"Purchased\"])"
   ]
  },
  {
   "cell_type": "markdown",
   "metadata": {},
   "source": [
    "# T-Test to check for mean difference 2 groups is significant or not?\n",
    "null hyphosis = no difference between groups(u1 = u2).       \n",
    "Alternate hyphosis = difference between groups(u1 != u2).   \n",
    "we can check it by scatter plot or doing t-test.   "
   ]
  },
  {
   "cell_type": "code",
   "execution_count": 16,
   "metadata": {},
   "outputs": [],
   "source": [
    "import scipy.stats as stats"
   ]
  },
  {
   "cell_type": "code",
   "execution_count": 17,
   "metadata": {},
   "outputs": [],
   "source": [
    "#t-test check the variance between 2 groups means.\n",
    "fvalue, pvalue = stats.ttest_ind(df[df[\"Purchased\"]==1][\"EstimatedSalary\"],\n",
    "                                df[df[\"Purchased\"]==0][\"EstimatedSalary\"])\n",
    "                    "
   ]
  },
  {
   "cell_type": "code",
   "execution_count": 18,
   "metadata": {},
   "outputs": [
    {
     "data": {
      "text/plain": [
       "(7.7493599219079, 7.772785450066969e-14)"
      ]
     },
     "execution_count": 18,
     "metadata": {},
     "output_type": "execute_result"
    }
   ],
   "source": [
    "fvalue, pvalue"
   ]
  },
  {
   "cell_type": "code",
   "execution_count": 19,
   "metadata": {},
   "outputs": [
    {
     "name": "stdout",
     "output_type": "stream",
     "text": [
      "null hyphothesis Rejected : no relation (u1 != u2)\n"
     ]
    }
   ],
   "source": [
    "if (pvalue<=0.5):\n",
    "    print(\"null hyphothesis Rejected : no relation (u1 != u2)\")\n",
    "else:\n",
    "    print(\"null hyphothesis accepted :  relation (u1 = u2)\")\n",
    "    \n"
   ]
  },
  {
   "cell_type": "code",
   "execution_count": 20,
   "metadata": {},
   "outputs": [
    {
     "data": {
      "text/html": [
       "<div>\n",
       "<style scoped>\n",
       "    .dataframe tbody tr th:only-of-type {\n",
       "        vertical-align: middle;\n",
       "    }\n",
       "\n",
       "    .dataframe tbody tr th {\n",
       "        vertical-align: top;\n",
       "    }\n",
       "\n",
       "    .dataframe thead th {\n",
       "        text-align: right;\n",
       "    }\n",
       "</style>\n",
       "<table border=\"1\" class=\"dataframe\">\n",
       "  <thead>\n",
       "    <tr style=\"text-align: right;\">\n",
       "      <th></th>\n",
       "      <th>Gender</th>\n",
       "      <th>Age</th>\n",
       "      <th>EstimatedSalary</th>\n",
       "      <th>Purchased</th>\n",
       "    </tr>\n",
       "  </thead>\n",
       "  <tbody>\n",
       "    <tr>\n",
       "      <th>7</th>\n",
       "      <td>Female</td>\n",
       "      <td>32</td>\n",
       "      <td>150000</td>\n",
       "      <td>1</td>\n",
       "    </tr>\n",
       "    <tr>\n",
       "      <th>16</th>\n",
       "      <td>Male</td>\n",
       "      <td>47</td>\n",
       "      <td>25000</td>\n",
       "      <td>1</td>\n",
       "    </tr>\n",
       "    <tr>\n",
       "      <th>17</th>\n",
       "      <td>Male</td>\n",
       "      <td>45</td>\n",
       "      <td>26000</td>\n",
       "      <td>1</td>\n",
       "    </tr>\n",
       "    <tr>\n",
       "      <th>18</th>\n",
       "      <td>Male</td>\n",
       "      <td>46</td>\n",
       "      <td>28000</td>\n",
       "      <td>1</td>\n",
       "    </tr>\n",
       "    <tr>\n",
       "      <th>19</th>\n",
       "      <td>Female</td>\n",
       "      <td>48</td>\n",
       "      <td>29000</td>\n",
       "      <td>1</td>\n",
       "    </tr>\n",
       "    <tr>\n",
       "      <th>...</th>\n",
       "      <td>...</td>\n",
       "      <td>...</td>\n",
       "      <td>...</td>\n",
       "      <td>...</td>\n",
       "    </tr>\n",
       "    <tr>\n",
       "      <th>393</th>\n",
       "      <td>Male</td>\n",
       "      <td>60</td>\n",
       "      <td>42000</td>\n",
       "      <td>1</td>\n",
       "    </tr>\n",
       "    <tr>\n",
       "      <th>395</th>\n",
       "      <td>Female</td>\n",
       "      <td>46</td>\n",
       "      <td>41000</td>\n",
       "      <td>1</td>\n",
       "    </tr>\n",
       "    <tr>\n",
       "      <th>396</th>\n",
       "      <td>Male</td>\n",
       "      <td>51</td>\n",
       "      <td>23000</td>\n",
       "      <td>1</td>\n",
       "    </tr>\n",
       "    <tr>\n",
       "      <th>397</th>\n",
       "      <td>Female</td>\n",
       "      <td>50</td>\n",
       "      <td>20000</td>\n",
       "      <td>1</td>\n",
       "    </tr>\n",
       "    <tr>\n",
       "      <th>399</th>\n",
       "      <td>Female</td>\n",
       "      <td>49</td>\n",
       "      <td>36000</td>\n",
       "      <td>1</td>\n",
       "    </tr>\n",
       "  </tbody>\n",
       "</table>\n",
       "<p>143 rows × 4 columns</p>\n",
       "</div>"
      ],
      "text/plain": [
       "     Gender  Age  EstimatedSalary  Purchased\n",
       "7    Female   32           150000          1\n",
       "16     Male   47            25000          1\n",
       "17     Male   45            26000          1\n",
       "18     Male   46            28000          1\n",
       "19   Female   48            29000          1\n",
       "..      ...  ...              ...        ...\n",
       "393    Male   60            42000          1\n",
       "395  Female   46            41000          1\n",
       "396    Male   51            23000          1\n",
       "397  Female   50            20000          1\n",
       "399  Female   49            36000          1\n",
       "\n",
       "[143 rows x 4 columns]"
      ]
     },
     "execution_count": 20,
     "metadata": {},
     "output_type": "execute_result"
    }
   ],
   "source": [
    "#defining the ttest\n",
    "df[df[\"Purchased\"]==1]"
   ]
  },
  {
   "cell_type": "code",
   "execution_count": 21,
   "metadata": {},
   "outputs": [
    {
     "data": {
      "text/plain": [
       "7      150000\n",
       "16      25000\n",
       "17      26000\n",
       "18      28000\n",
       "19      29000\n",
       "        ...  \n",
       "393     42000\n",
       "395     41000\n",
       "396     23000\n",
       "397     20000\n",
       "399     36000\n",
       "Name: EstimatedSalary, Length: 143, dtype: int64"
      ]
     },
     "execution_count": 21,
     "metadata": {},
     "output_type": "execute_result"
    }
   ],
   "source": [
    "# it will show index and estimate salary of purchased ==1\n",
    "df[df[\"Purchased\"]==1][\"EstimatedSalary\"]"
   ]
  },
  {
   "cell_type": "code",
   "execution_count": 22,
   "metadata": {},
   "outputs": [
    {
     "data": {
      "text/plain": [
       "<matplotlib.axes._subplots.AxesSubplot at 0x26e26728970>"
      ]
     },
     "execution_count": 22,
     "metadata": {},
     "output_type": "execute_result"
    },
    {
     "data": {
      "image/png": "[encoded data removed]",
      "text/plain": [
       "<Figure size 432x288 with 1 Axes>"
      ]
     },
     "metadata": {
      "needs_background": "light"
     },
     "output_type": "display_data"
    }
   ],
   "source": [
    "sns.boxplot(x=\"Purchased\",y=\"Age\",data=df)"
   ]
  },
  {
   "cell_type": "code",
   "execution_count": 23,
   "metadata": {},
   "outputs": [
    {
     "data": {
      "text/plain": [
       "<matplotlib.axes._subplots.AxesSubplot at 0x26e26684670>"
      ]
     },
     "execution_count": 23,
     "metadata": {},
     "output_type": "execute_result"
    },
    {
     "data": {
      "image/png": "[encoded data removed]",
      "text/plain": [
       "<Figure size 432x288 with 1 Axes>"
      ]
     },
     "metadata": {
      "needs_background": "light"
     },
     "output_type": "display_data"
    }
   ],
   "source": [
    "sns.boxplot(y=df[\"Age\"],x=df[\"Purchased\"])"
   ]
  },
  {
   "cell_type": "code",
   "execution_count": 24,
   "metadata": {},
   "outputs": [
    {
     "data": {
      "image/png": "[encoded data removed]",
      "text/plain": [
       "<Figure size 432x288 with 1 Axes>"
      ]
     },
     "metadata": {
      "needs_background": "light"
     },
     "output_type": "display_data"
    }
   ],
   "source": [
    "plt.scatter(y=df[\"Purchased\"],x=df[\"Age\"])\n",
    "plt.grid()"
   ]
  },
  {
   "cell_type": "markdown",
   "metadata": {},
   "source": [
    "Insights  :  As per above boxplot and scatterplot .\n",
    "             we can say there is no relation between age.\n",
    "             can be crosscheck by t-test."
   ]
  },
  {
   "cell_type": "markdown",
   "metadata": {},
   "source": [
    "# Multivariate Analysis  \n"
   ]
  },
  {
   "cell_type": "code",
   "execution_count": 25,
   "metadata": {},
   "outputs": [
    {
     "data": {
      "text/plain": [
       "Text(120000, 32, 'Q4')"
      ]
     },
     "execution_count": 25,
     "metadata": {},
     "output_type": "execute_result"
    },
    {
     "data": {
      "image/png": "[encoded data removed]",
      "text/plain": [
       "<Figure size 1008x432 with 1 Axes>"
      ]
     },
     "metadata": {
      "needs_background": "light"
     },
     "output_type": "display_data"
    }
   ],
   "source": [
    "#sns.scatterplot(x=df[\"EstimatedSalary\"],y=df[\"Age\"],hue=df[\"Purchased\"])\n",
    "#another Way\n",
    "plt.figure(figsize=(14,6))\n",
    "sns.scatterplot(x=\"EstimatedSalary\",y=\"Age\",hue=\"Purchased\",data=df)\n",
    "plt.xlabel(\"EstimatedSalary\", fontsize=14)\n",
    "plt.ylabel(\"Age\",fontsize=14)\n",
    "plt.axhline(y=42,color=\"red\")\n",
    "plt.axvline(x=90000,color=\"red\")\n",
    "plt.text(120000,52,\"Q1\",fontsize=13, color=\"Black\")\n",
    "plt.text(45000,52,\"Q2\",fontsize=13, color=\"Black\")\n",
    "plt.text(45000,32,\"Q3\",fontsize=13, color=\"Black\")\n",
    "plt.text(120000,32,\"Q4\",fontsize=13, color=\"Black\")"
   ]
  },
  {
   "cell_type": "markdown",
   "metadata": {},
   "source": [
    "Insights :          \n",
    "           looks like this shopping is not for Q3 people.      \n",
    "           Company should try to lanuch new cheap products for Q3.     \n",
    "           Try to offer a new service to ongoing customer.         \n",
    "           Promotion plans and advertisments idea.     \n"
   ]
  },
  {
   "cell_type": "code",
   "execution_count": 26,
   "metadata": {},
   "outputs": [
    {
     "data": {
      "text/html": [
       "<div>\n",
       "<style scoped>\n",
       "    .dataframe tbody tr th:only-of-type {\n",
       "        vertical-align: middle;\n",
       "    }\n",
       "\n",
       "    .dataframe tbody tr th {\n",
       "        vertical-align: top;\n",
       "    }\n",
       "\n",
       "    .dataframe thead th {\n",
       "        text-align: right;\n",
       "    }\n",
       "</style>\n",
       "<table border=\"1\" class=\"dataframe\">\n",
       "  <thead>\n",
       "    <tr style=\"text-align: right;\">\n",
       "      <th></th>\n",
       "      <th>Age</th>\n",
       "      <th>EstimatedSalary</th>\n",
       "      <th>Purchased</th>\n",
       "    </tr>\n",
       "  </thead>\n",
       "  <tbody>\n",
       "    <tr>\n",
       "      <th>Age</th>\n",
       "      <td>1.000000</td>\n",
       "      <td>0.155238</td>\n",
       "      <td>0.622454</td>\n",
       "    </tr>\n",
       "    <tr>\n",
       "      <th>EstimatedSalary</th>\n",
       "      <td>0.155238</td>\n",
       "      <td>1.000000</td>\n",
       "      <td>0.362083</td>\n",
       "    </tr>\n",
       "    <tr>\n",
       "      <th>Purchased</th>\n",
       "      <td>0.622454</td>\n",
       "      <td>0.362083</td>\n",
       "      <td>1.000000</td>\n",
       "    </tr>\n",
       "  </tbody>\n",
       "</table>\n",
       "</div>"
      ],
      "text/plain": [
       "                      Age  EstimatedSalary  Purchased\n",
       "Age              1.000000         0.155238   0.622454\n",
       "EstimatedSalary  0.155238         1.000000   0.362083\n",
       "Purchased        0.622454         0.362083   1.000000"
      ]
     },
     "execution_count": 26,
     "metadata": {},
     "output_type": "execute_result"
    }
   ],
   "source": [
    "df.corr()"
   ]
  },
  {
   "cell_type": "code",
   "execution_count": 27,
   "metadata": {},
   "outputs": [
    {
     "data": {
      "text/plain": [
       "0    257\n",
       "1    143\n",
       "Name: Purchased, dtype: int64"
      ]
     },
     "execution_count": 27,
     "metadata": {},
     "output_type": "execute_result"
    }
   ],
   "source": [
    "df[\"Purchased\"].value_counts()"
   ]
  },
  {
   "cell_type": "code",
   "execution_count": 28,
   "metadata": {},
   "outputs": [
    {
     "data": {
      "image/png": "[encoded data removed]",
      "text/plain": [
       "<Figure size 432x288 with 1 Axes>"
      ]
     },
     "metadata": {
      "needs_background": "light"
     },
     "output_type": "display_data"
    }
   ],
   "source": [
    "sns.regplot(x=df[\"Age\"],y=df[\"Purchased\"])\n",
    "plt.grid()"
   ]
  },
  {
   "cell_type": "markdown",
   "metadata": {},
   "source": [
    "# insights : \n",
    " <font color=green>by seeing this regplot we can say here we can not use linear regression.</font><br>    \n",
    " this regression line does not seem to good fit to my model.<br>\n",
    " at age=20 it purchased in -ve which is not possbile.   "
   ]
  },
  {
   "cell_type": "markdown",
   "metadata": {},
   "source": [
    "# <font color=red>2 package are used in logistic regression</font><br>\n",
    "1. Stats Model\n",
    "2. Sklearn"
   ]
  },
  {
   "cell_type": "code",
   "execution_count": 29,
   "metadata": {},
   "outputs": [],
   "source": [
    "from sklearn.linear_model import LogisticRegression"
   ]
  },
  {
   "cell_type": "markdown",
   "metadata": {},
   "source": [
    "# <font color=blue>Model : 1  Logistic Regression using Age </font><br>"
   ]
  },
  {
   "cell_type": "code",
   "execution_count": 30,
   "metadata": {},
   "outputs": [],
   "source": [
    "X=df[[\"Age\"]]\n",
    "y=df[[\"Purchased\"]]"
   ]
  },
  {
   "cell_type": "code",
   "execution_count": 31,
   "metadata": {},
   "outputs": [],
   "source": [
    "from sklearn.model_selection import train_test_split"
   ]
  },
  {
   "cell_type": "code",
   "execution_count": 32,
   "metadata": {},
   "outputs": [],
   "source": [
    "X_train,X_test,y_train,y_test = train_test_split(X,y, train_size=0.8, random_state=100)"
   ]
  },
  {
   "cell_type": "code",
   "execution_count": 33,
   "metadata": {},
   "outputs": [],
   "source": [
    "\n",
    "logreg = LogisticRegression(C = 1000)\n",
    "# C means add a penality to errors\n",
    "# Higher value means low penality (bydefault=1)\n",
    "# you can crosschek by reducing the C\n",
    "logreg = logreg.fit(X_train,y_train)"
   ]
  },
  {
   "cell_type": "code",
   "execution_count": 34,
   "metadata": {},
   "outputs": [
    {
     "data": {
      "text/plain": [
       "(array([[0.19487776]]), array([-8.29469811]))"
      ]
     },
     "execution_count": 34,
     "metadata": {},
     "output_type": "execute_result"
    }
   ],
   "source": [
    "m = logreg.coef_\n",
    "c = logreg.intercept_\n",
    "m,c"
   ]
  },
  {
   "cell_type": "code",
   "execution_count": 35,
   "metadata": {},
   "outputs": [
    {
     "data": {
      "text/plain": [
       "(array([[0.19487776]]), array([-8.29469811]))"
      ]
     },
     "execution_count": 35,
     "metadata": {},
     "output_type": "execute_result"
    }
   ],
   "source": [
    "m = logreg.coef_\n",
    "c = logreg.intercept_\n",
    "m,c"
   ]
  },
  {
   "cell_type": "markdown",
   "metadata": {},
   "source": [
    "# <font color=red> derive Logistic Regression Equation </font><br>"
   ]
  },
  {
   "cell_type": "code",
   "execution_count": 36,
   "metadata": {},
   "outputs": [
    {
     "data": {
      "text/html": [
       "<div>\n",
       "<style scoped>\n",
       "    .dataframe tbody tr th:only-of-type {\n",
       "        vertical-align: middle;\n",
       "    }\n",
       "\n",
       "    .dataframe tbody tr th {\n",
       "        vertical-align: top;\n",
       "    }\n",
       "\n",
       "    .dataframe thead th {\n",
       "        text-align: right;\n",
       "    }\n",
       "</style>\n",
       "<table border=\"1\" class=\"dataframe\">\n",
       "  <thead>\n",
       "    <tr style=\"text-align: right;\">\n",
       "      <th></th>\n",
       "      <th>Age</th>\n",
       "    </tr>\n",
       "  </thead>\n",
       "  <tbody>\n",
       "    <tr>\n",
       "      <th>190</th>\n",
       "      <td>24</td>\n",
       "    </tr>\n",
       "    <tr>\n",
       "      <th>46</th>\n",
       "      <td>25</td>\n",
       "    </tr>\n",
       "  </tbody>\n",
       "</table>\n",
       "</div>"
      ],
      "text/plain": [
       "     Age\n",
       "190   24\n",
       "46    25"
      ]
     },
     "execution_count": 36,
     "metadata": {},
     "output_type": "execute_result"
    }
   ],
   "source": [
    "X_train.head(2)"
   ]
  },
  {
   "cell_type": "code",
   "execution_count": 37,
   "metadata": {},
   "outputs": [
    {
     "data": {
      "text/plain": [
       "-3.6176318577187327"
      ]
     },
     "execution_count": 37,
     "metadata": {},
     "output_type": "execute_result"
    }
   ],
   "source": [
    "age = 24\n",
    "#y= age*m + c   #y=mx+c\n",
    "y = (logreg.coef_[0]*age+logreg.intercept_[0])[0]\n",
    "#[0] use to out from the array\n",
    "y"
   ]
  },
  {
   "cell_type": "code",
   "execution_count": 38,
   "metadata": {},
   "outputs": [
    {
     "data": {
      "text/plain": [
       "0.026144364234747818"
      ]
     },
     "execution_count": 38,
     "metadata": {},
     "output_type": "execute_result"
    }
   ],
   "source": [
    "e=2.71828\n",
    "e**y / (1+e**y)   # probability = e**y/1+e**y\n"
   ]
  },
  {
   "cell_type": "markdown",
   "metadata": {},
   "source": [
    "# <font color=green> Lets check model Probability </font><br>"
   ]
  },
  {
   "cell_type": "code",
   "execution_count": 39,
   "metadata": {},
   "outputs": [
    {
     "data": {
      "text/plain": [
       "array([[0.9738557 , 0.0261443 ],\n",
       "       [0.96840814, 0.03159186],\n",
       "       [0.9738557 , 0.0261443 ],\n",
       "       [0.52743047, 0.47256953],\n",
       "       [0.74729193, 0.25270807],\n",
       "       [0.841423  , 0.158577  ],\n",
       "       [0.9852589 , 0.0147411 ],\n",
       "       [0.98996927, 0.01003073],\n",
       "       [0.98783729, 0.01216271],\n",
       "       [0.29638821, 0.70361179],\n",
       "       [0.70875462, 0.29124538],\n",
       "       [0.66695955, 0.33304045],\n",
       "       [0.19012627, 0.80987373],\n",
       "       [0.78229632, 0.21770368],\n",
       "       [0.29638821, 0.70361179],\n",
       "       [0.52743047, 0.47256953],\n",
       "       [0.66695955, 0.33304045],\n",
       "       [0.66695955, 0.33304045],\n",
       "       [0.98214381, 0.01785619],\n",
       "       [0.95404283, 0.04595717],\n",
       "       [0.81366104, 0.18633896],\n",
       "       [0.52743047, 0.47256953],\n",
       "       [0.81366104, 0.18633896],\n",
       "       [0.81366104, 0.18633896],\n",
       "       [0.22195458, 0.77804542],\n",
       "       [0.95404283, 0.04595717],\n",
       "       [0.38348052, 0.61651948],\n",
       "       [0.25741756, 0.74258244],\n",
       "       [0.22195458, 0.77804542],\n",
       "       [0.93359331, 0.06640669],\n",
       "       [0.11569719, 0.88430281],\n",
       "       [0.95404283, 0.04595717],\n",
       "       [0.90495094, 0.09504906],\n",
       "       [0.92044183, 0.07955817],\n",
       "       [0.43047257, 0.56952743],\n",
       "       [0.92044183, 0.07955817],\n",
       "       [0.93359331, 0.06640669],\n",
       "       [0.04705626, 0.95294374],\n",
       "       [0.95404283, 0.04595717],\n",
       "       [0.04705626, 0.95294374],\n",
       "       [0.70875462, 0.29124538],\n",
       "       [0.97838487, 0.02161513],\n",
       "       [0.841423  , 0.158577  ],\n",
       "       [0.95404283, 0.04595717],\n",
       "       [0.52743047, 0.47256953],\n",
       "       [0.8868147 , 0.1131853 ],\n",
       "       [0.22195458, 0.77804542],\n",
       "       [0.78229632, 0.21770368],\n",
       "       [0.8868147 , 0.1131853 ],\n",
       "       [0.96186994, 0.03813006],\n",
       "       [0.81366104, 0.18633896],\n",
       "       [0.05660786, 0.94339214],\n",
       "       [0.74729193, 0.25270807],\n",
       "       [0.92044183, 0.07955817],\n",
       "       [0.22195458, 0.77804542],\n",
       "       [0.81366104, 0.18633896],\n",
       "       [0.81366104, 0.18633896],\n",
       "       [0.74729193, 0.25270807],\n",
       "       [0.95404283, 0.04595717],\n",
       "       [0.19012627, 0.80987373],\n",
       "       [0.25741756, 0.74258244],\n",
       "       [0.96186994, 0.03813006],\n",
       "       [0.33856875, 0.66143125],\n",
       "       [0.96186994, 0.03813006],\n",
       "       [0.33856875, 0.66143125],\n",
       "       [0.78229632, 0.21770368],\n",
       "       [0.9738557 , 0.0261443 ],\n",
       "       [0.74729193, 0.25270807],\n",
       "       [0.11569719, 0.88430281],\n",
       "       [0.22195458, 0.77804542],\n",
       "       [0.57559349, 0.42440651],\n",
       "       [0.86573135, 0.13426865],\n",
       "       [0.22195458, 0.77804542],\n",
       "       [0.03904962, 0.96095038],\n",
       "       [0.98996927, 0.01003073],\n",
       "       [0.92044183, 0.07955817],\n",
       "       [0.52743047, 0.47256953],\n",
       "       [0.96840814, 0.03159186],\n",
       "       [0.81366104, 0.18633896],\n",
       "       [0.11569719, 0.88430281],\n",
       "       [0.95404283, 0.04595717],\n",
       "       [0.06796   , 0.93204   ],\n",
       "       [0.9852589 , 0.0147411 ],\n",
       "       [0.92044183, 0.07955817],\n",
       "       [0.47875141, 0.52124859],\n",
       "       [0.78229632, 0.21770368],\n",
       "       [0.81366104, 0.18633896],\n",
       "       [0.38348052, 0.61651948],\n",
       "       [0.66695955, 0.33304045],\n",
       "       [0.96840814, 0.03159186],\n",
       "       [0.9738557 , 0.0261443 ],\n",
       "       [0.38348052, 0.61651948],\n",
       "       [0.70875462, 0.29124538],\n",
       "       [0.52743047, 0.47256953],\n",
       "       [0.62236243, 0.37763757],\n",
       "       [0.81366104, 0.18633896],\n",
       "       [0.90495094, 0.09504906],\n",
       "       [0.8868147 , 0.1131853 ],\n",
       "       [0.86573135, 0.13426865],\n",
       "       [0.93359331, 0.06640669],\n",
       "       [0.57559349, 0.42440651],\n",
       "       [0.62236243, 0.37763757],\n",
       "       [0.52743047, 0.47256953],\n",
       "       [0.57559349, 0.42440651],\n",
       "       [0.90495094, 0.09504906],\n",
       "       [0.04705626, 0.95294374],\n",
       "       [0.98996927, 0.01003073],\n",
       "       [0.70875462, 0.29124538],\n",
       "       [0.57559349, 0.42440651],\n",
       "       [0.74729193, 0.25270807],\n",
       "       [0.74729193, 0.25270807],\n",
       "       [0.62236243, 0.37763757],\n",
       "       [0.96840814, 0.03159186],\n",
       "       [0.04705626, 0.95294374],\n",
       "       [0.03235905, 0.96764095],\n",
       "       [0.97838487, 0.02161513],\n",
       "       [0.66695955, 0.33304045],\n",
       "       [0.25741756, 0.74258244],\n",
       "       [0.25741756, 0.74258244],\n",
       "       [0.11569719, 0.88430281],\n",
       "       [0.97838487, 0.02161513],\n",
       "       [0.62236243, 0.37763757],\n",
       "       [0.94470137, 0.05529863],\n",
       "       [0.13717606, 0.86282394],\n",
       "       [0.70875462, 0.29124538],\n",
       "       [0.92044183, 0.07955817],\n",
       "       [0.94470137, 0.05529863],\n",
       "       [0.22195458, 0.77804542],\n",
       "       [0.03235905, 0.96764095],\n",
       "       [0.81366104, 0.18633896],\n",
       "       [0.16191233, 0.83808767],\n",
       "       [0.62236243, 0.37763757],\n",
       "       [0.99173067, 0.00826933],\n",
       "       [0.29638821, 0.70361179],\n",
       "       [0.70875462, 0.29124538],\n",
       "       [0.57559349, 0.42440651],\n",
       "       [0.81366104, 0.18633896],\n",
       "       [0.03904962, 0.96095038],\n",
       "       [0.11569719, 0.88430281],\n",
       "       [0.81366104, 0.18633896],\n",
       "       [0.57559349, 0.42440651],\n",
       "       [0.90495094, 0.09504906],\n",
       "       [0.94470137, 0.05529863],\n",
       "       [0.52743047, 0.47256953],\n",
       "       [0.9738557 , 0.0261443 ],\n",
       "       [0.25741756, 0.74258244],\n",
       "       [0.47875141, 0.52124859],\n",
       "       [0.13717606, 0.86282394],\n",
       "       [0.94470137, 0.05529863],\n",
       "       [0.96186994, 0.03813006],\n",
       "       [0.38348052, 0.61651948],\n",
       "       [0.96186994, 0.03813006],\n",
       "       [0.05660786, 0.94339214],\n",
       "       [0.94470137, 0.05529863],\n",
       "       [0.29638821, 0.70361179],\n",
       "       [0.78229632, 0.21770368],\n",
       "       [0.66695955, 0.33304045],\n",
       "       [0.74729193, 0.25270807],\n",
       "       [0.06796   , 0.93204   ],\n",
       "       [0.25741756, 0.74258244],\n",
       "       [0.81366104, 0.18633896],\n",
       "       [0.98783729, 0.01216271],\n",
       "       [0.70875462, 0.29124538],\n",
       "       [0.33856875, 0.66143125],\n",
       "       [0.25741756, 0.74258244],\n",
       "       [0.81366104, 0.18633896],\n",
       "       [0.81366104, 0.18633896],\n",
       "       [0.8868147 , 0.1131853 ],\n",
       "       [0.81366104, 0.18633896],\n",
       "       [0.81366104, 0.18633896],\n",
       "       [0.33856875, 0.66143125],\n",
       "       [0.22195458, 0.77804542],\n",
       "       [0.9738557 , 0.0261443 ],\n",
       "       [0.52743047, 0.47256953],\n",
       "       [0.90495094, 0.09504906],\n",
       "       [0.74729193, 0.25270807],\n",
       "       [0.57559349, 0.42440651],\n",
       "       [0.16191233, 0.83808767],\n",
       "       [0.33856875, 0.66143125],\n",
       "       [0.25741756, 0.74258244],\n",
       "       [0.33856875, 0.66143125],\n",
       "       [0.93359331, 0.06640669],\n",
       "       [0.93359331, 0.06640669],\n",
       "       [0.29638821, 0.70361179],\n",
       "       [0.29638821, 0.70361179],\n",
       "       [0.98214381, 0.01785619],\n",
       "       [0.62236243, 0.37763757],\n",
       "       [0.95404283, 0.04595717],\n",
       "       [0.841423  , 0.158577  ],\n",
       "       [0.8868147 , 0.1131853 ],\n",
       "       [0.62236243, 0.37763757],\n",
       "       [0.86573135, 0.13426865],\n",
       "       [0.78229632, 0.21770368],\n",
       "       [0.94470137, 0.05529863],\n",
       "       [0.03904962, 0.96095038],\n",
       "       [0.94470137, 0.05529863],\n",
       "       [0.96186994, 0.03813006],\n",
       "       [0.95404283, 0.04595717],\n",
       "       [0.81366104, 0.18633896],\n",
       "       [0.25741756, 0.74258244],\n",
       "       [0.94470137, 0.05529863],\n",
       "       [0.70875462, 0.29124538],\n",
       "       [0.03235905, 0.96764095],\n",
       "       [0.57559349, 0.42440651],\n",
       "       [0.97838487, 0.02161513],\n",
       "       [0.70875462, 0.29124538],\n",
       "       [0.98783729, 0.01216271],\n",
       "       [0.29638821, 0.70361179],\n",
       "       [0.81366104, 0.18633896],\n",
       "       [0.57559349, 0.42440651],\n",
       "       [0.06796   , 0.93204   ],\n",
       "       [0.25741756, 0.74258244],\n",
       "       [0.74729193, 0.25270807],\n",
       "       [0.74729193, 0.25270807],\n",
       "       [0.95404283, 0.04595717],\n",
       "       [0.78229632, 0.21770368],\n",
       "       [0.98783729, 0.01216271],\n",
       "       [0.81366104, 0.18633896],\n",
       "       [0.62236243, 0.37763757],\n",
       "       [0.99173067, 0.00826933],\n",
       "       [0.08139228, 0.91860772],\n",
       "       [0.22195458, 0.77804542],\n",
       "       [0.81366104, 0.18633896],\n",
       "       [0.74729193, 0.25270807],\n",
       "       [0.92044183, 0.07955817],\n",
       "       [0.33856875, 0.66143125],\n",
       "       [0.29638821, 0.70361179],\n",
       "       [0.43047257, 0.56952743],\n",
       "       [0.57559349, 0.42440651],\n",
       "       [0.8868147 , 0.1131853 ],\n",
       "       [0.74729193, 0.25270807],\n",
       "       [0.99173067, 0.00826933],\n",
       "       [0.57559349, 0.42440651],\n",
       "       [0.74729193, 0.25270807],\n",
       "       [0.52743047, 0.47256953],\n",
       "       [0.81366104, 0.18633896],\n",
       "       [0.9852589 , 0.0147411 ],\n",
       "       [0.25741756, 0.74258244],\n",
       "       [0.93359331, 0.06640669],\n",
       "       [0.29638821, 0.70361179],\n",
       "       [0.96186994, 0.03813006],\n",
       "       [0.78229632, 0.21770368],\n",
       "       [0.86573135, 0.13426865],\n",
       "       [0.33856875, 0.66143125],\n",
       "       [0.96186994, 0.03813006],\n",
       "       [0.81366104, 0.18633896],\n",
       "       [0.70875462, 0.29124538],\n",
       "       [0.03235905, 0.96764095],\n",
       "       [0.13717606, 0.86282394],\n",
       "       [0.03904962, 0.96095038],\n",
       "       [0.52743047, 0.47256953],\n",
       "       [0.96840814, 0.03159186],\n",
       "       [0.86573135, 0.13426865],\n",
       "       [0.90495094, 0.09504906],\n",
       "       [0.33856875, 0.66143125],\n",
       "       [0.98996927, 0.01003073],\n",
       "       [0.05660786, 0.94339214],\n",
       "       [0.09720258, 0.90279742],\n",
       "       [0.98214381, 0.01785619],\n",
       "       [0.29638821, 0.70361179],\n",
       "       [0.38348052, 0.61651948],\n",
       "       [0.90495094, 0.09504906],\n",
       "       [0.96186994, 0.03813006],\n",
       "       [0.8868147 , 0.1131853 ],\n",
       "       [0.98783729, 0.01216271],\n",
       "       [0.66695955, 0.33304045],\n",
       "       [0.66695955, 0.33304045],\n",
       "       [0.93359331, 0.06640669],\n",
       "       [0.05660786, 0.94339214],\n",
       "       [0.96186994, 0.03813006],\n",
       "       [0.81366104, 0.18633896],\n",
       "       [0.81366104, 0.18633896],\n",
       "       [0.74729193, 0.25270807],\n",
       "       [0.33856875, 0.66143125],\n",
       "       [0.70875462, 0.29124538],\n",
       "       [0.13717606, 0.86282394],\n",
       "       [0.90495094, 0.09504906],\n",
       "       [0.8868147 , 0.1131853 ],\n",
       "       [0.9852589 , 0.0147411 ],\n",
       "       [0.96186994, 0.03813006],\n",
       "       [0.04705626, 0.95294374],\n",
       "       [0.74729193, 0.25270807],\n",
       "       [0.86573135, 0.13426865],\n",
       "       [0.47875141, 0.52124859],\n",
       "       [0.81366104, 0.18633896],\n",
       "       [0.98996927, 0.01003073],\n",
       "       [0.90495094, 0.09504906],\n",
       "       [0.97838487, 0.02161513],\n",
       "       [0.19012627, 0.80987373],\n",
       "       [0.92044183, 0.07955817],\n",
       "       [0.98996927, 0.01003073],\n",
       "       [0.95404283, 0.04595717],\n",
       "       [0.13717606, 0.86282394],\n",
       "       [0.16191233, 0.83808767],\n",
       "       [0.99173067, 0.00826933],\n",
       "       [0.52743047, 0.47256953],\n",
       "       [0.90495094, 0.09504906],\n",
       "       [0.9738557 , 0.0261443 ],\n",
       "       [0.93359331, 0.06640669],\n",
       "       [0.92044183, 0.07955817],\n",
       "       [0.98214381, 0.01785619],\n",
       "       [0.09720258, 0.90279742],\n",
       "       [0.52743047, 0.47256953],\n",
       "       [0.62236243, 0.37763757],\n",
       "       [0.92044183, 0.07955817],\n",
       "       [0.78229632, 0.21770368],\n",
       "       [0.52743047, 0.47256953],\n",
       "       [0.66695955, 0.33304045],\n",
       "       [0.99173067, 0.00826933],\n",
       "       [0.78229632, 0.21770368],\n",
       "       [0.9738557 , 0.0261443 ],\n",
       "       [0.81366104, 0.18633896],\n",
       "       [0.78229632, 0.21770368],\n",
       "       [0.70875462, 0.29124538],\n",
       "       [0.96186994, 0.03813006],\n",
       "       [0.29638821, 0.70361179],\n",
       "       [0.52743047, 0.47256953],\n",
       "       [0.25741756, 0.74258244],\n",
       "       [0.03904962, 0.96095038],\n",
       "       [0.96840814, 0.03159186]])"
      ]
     },
     "execution_count": 39,
     "metadata": {},
     "output_type": "execute_result"
    }
   ],
   "source": [
    "logreg.predict_proba(X_train)\n",
    "# it will show the all probability either we purchase or not"
   ]
  },
  {
   "cell_type": "code",
   "execution_count": 40,
   "metadata": {},
   "outputs": [
    {
     "data": {
      "text/plain": [
       "array([0.0261443 , 0.03159186, 0.0261443 , 0.47256953, 0.25270807,\n",
       "       0.158577  , 0.0147411 , 0.01003073, 0.01216271, 0.70361179,\n",
       "       0.29124538, 0.33304045, 0.80987373, 0.21770368, 0.70361179,\n",
       "       0.47256953, 0.33304045, 0.33304045, 0.01785619, 0.04595717,\n",
       "       0.18633896, 0.47256953, 0.18633896, 0.18633896, 0.77804542,\n",
       "       0.04595717, 0.61651948, 0.74258244, 0.77804542, 0.06640669,\n",
       "       0.88430281, 0.04595717, 0.09504906, 0.07955817, 0.56952743,\n",
       "       0.07955817, 0.06640669, 0.95294374, 0.04595717, 0.95294374,\n",
       "       0.29124538, 0.02161513, 0.158577  , 0.04595717, 0.47256953,\n",
       "       0.1131853 , 0.77804542, 0.21770368, 0.1131853 , 0.03813006,\n",
       "       0.18633896, 0.94339214, 0.25270807, 0.07955817, 0.77804542,\n",
       "       0.18633896, 0.18633896, 0.25270807, 0.04595717, 0.80987373,\n",
       "       0.74258244, 0.03813006, 0.66143125, 0.03813006, 0.66143125,\n",
       "       0.21770368, 0.0261443 , 0.25270807, 0.88430281, 0.77804542,\n",
       "       0.42440651, 0.13426865, 0.77804542, 0.96095038, 0.01003073,\n",
       "       0.07955817, 0.47256953, 0.03159186, 0.18633896, 0.88430281,\n",
       "       0.04595717, 0.93204   , 0.0147411 , 0.07955817, 0.52124859,\n",
       "       0.21770368, 0.18633896, 0.61651948, 0.33304045, 0.03159186,\n",
       "       0.0261443 , 0.61651948, 0.29124538, 0.47256953, 0.37763757,\n",
       "       0.18633896, 0.09504906, 0.1131853 , 0.13426865, 0.06640669,\n",
       "       0.42440651, 0.37763757, 0.47256953, 0.42440651, 0.09504906,\n",
       "       0.95294374, 0.01003073, 0.29124538, 0.42440651, 0.25270807,\n",
       "       0.25270807, 0.37763757, 0.03159186, 0.95294374, 0.96764095,\n",
       "       0.02161513, 0.33304045, 0.74258244, 0.74258244, 0.88430281,\n",
       "       0.02161513, 0.37763757, 0.05529863, 0.86282394, 0.29124538,\n",
       "       0.07955817, 0.05529863, 0.77804542, 0.96764095, 0.18633896,\n",
       "       0.83808767, 0.37763757, 0.00826933, 0.70361179, 0.29124538,\n",
       "       0.42440651, 0.18633896, 0.96095038, 0.88430281, 0.18633896,\n",
       "       0.42440651, 0.09504906, 0.05529863, 0.47256953, 0.0261443 ,\n",
       "       0.74258244, 0.52124859, 0.86282394, 0.05529863, 0.03813006,\n",
       "       0.61651948, 0.03813006, 0.94339214, 0.05529863, 0.70361179,\n",
       "       0.21770368, 0.33304045, 0.25270807, 0.93204   , 0.74258244,\n",
       "       0.18633896, 0.01216271, 0.29124538, 0.66143125, 0.74258244,\n",
       "       0.18633896, 0.18633896, 0.1131853 , 0.18633896, 0.18633896,\n",
       "       0.66143125, 0.77804542, 0.0261443 , 0.47256953, 0.09504906,\n",
       "       0.25270807, 0.42440651, 0.83808767, 0.66143125, 0.74258244,\n",
       "       0.66143125, 0.06640669, 0.06640669, 0.70361179, 0.70361179,\n",
       "       0.01785619, 0.37763757, 0.04595717, 0.158577  , 0.1131853 ,\n",
       "       0.37763757, 0.13426865, 0.21770368, 0.05529863, 0.96095038,\n",
       "       0.05529863, 0.03813006, 0.04595717, 0.18633896, 0.74258244,\n",
       "       0.05529863, 0.29124538, 0.96764095, 0.42440651, 0.02161513,\n",
       "       0.29124538, 0.01216271, 0.70361179, 0.18633896, 0.42440651,\n",
       "       0.93204   , 0.74258244, 0.25270807, 0.25270807, 0.04595717,\n",
       "       0.21770368, 0.01216271, 0.18633896, 0.37763757, 0.00826933,\n",
       "       0.91860772, 0.77804542, 0.18633896, 0.25270807, 0.07955817,\n",
       "       0.66143125, 0.70361179, 0.56952743, 0.42440651, 0.1131853 ,\n",
       "       0.25270807, 0.00826933, 0.42440651, 0.25270807, 0.47256953,\n",
       "       0.18633896, 0.0147411 , 0.74258244, 0.06640669, 0.70361179,\n",
       "       0.03813006, 0.21770368, 0.13426865, 0.66143125, 0.03813006,\n",
       "       0.18633896, 0.29124538, 0.96764095, 0.86282394, 0.96095038,\n",
       "       0.47256953, 0.03159186, 0.13426865, 0.09504906, 0.66143125,\n",
       "       0.01003073, 0.94339214, 0.90279742, 0.01785619, 0.70361179,\n",
       "       0.61651948, 0.09504906, 0.03813006, 0.1131853 , 0.01216271,\n",
       "       0.33304045, 0.33304045, 0.06640669, 0.94339214, 0.03813006,\n",
       "       0.18633896, 0.18633896, 0.25270807, 0.66143125, 0.29124538,\n",
       "       0.86282394, 0.09504906, 0.1131853 , 0.0147411 , 0.03813006,\n",
       "       0.95294374, 0.25270807, 0.13426865, 0.52124859, 0.18633896,\n",
       "       0.01003073, 0.09504906, 0.02161513, 0.80987373, 0.07955817,\n",
       "       0.01003073, 0.04595717, 0.86282394, 0.83808767, 0.00826933,\n",
       "       0.47256953, 0.09504906, 0.0261443 , 0.06640669, 0.07955817,\n",
       "       0.01785619, 0.90279742, 0.47256953, 0.37763757, 0.07955817,\n",
       "       0.21770368, 0.47256953, 0.33304045, 0.00826933, 0.21770368,\n",
       "       0.0261443 , 0.18633896, 0.21770368, 0.29124538, 0.03813006,\n",
       "       0.70361179, 0.47256953, 0.74258244, 0.96095038, 0.03159186])"
      ]
     },
     "execution_count": 40,
     "metadata": {},
     "output_type": "execute_result"
    }
   ],
   "source": [
    "y_train_prob = logreg.predict_proba(X_train)[:,1] # 0 : not occurance and 1: occurance probability\n",
    "# this will give only purchase probability\n",
    "y_train_prob"
   ]
  },
  {
   "cell_type": "markdown",
   "metadata": {},
   "source": [
    "# Logistic Regression : Output should be in the form of 0 or 1.<br>\n",
    "based on the probability predict method converted it into o and 1 form.<br>\n",
    "by default threshold id 0.5."
   ]
  },
  {
   "cell_type": "code",
   "execution_count": 41,
   "metadata": {
    "scrolled": true
   },
   "outputs": [
    {
     "data": {
      "text/plain": [
       "array([0, 0, 0, 0, 0, 0, 0, 0, 0, 1, 0, 0, 1, 0, 1, 0, 0, 0, 0, 0, 0, 0,\n",
       "       0, 0, 1, 0, 1, 1, 1, 0, 1, 0, 0, 0, 1, 0, 0, 1, 0, 1, 0, 0, 0, 0,\n",
       "       0, 0, 1, 0, 0, 0, 0, 1, 0, 0, 1, 0, 0, 0, 0, 1, 1, 0, 1, 0, 1, 0,\n",
       "       0, 0, 1, 1, 0, 0, 1, 1, 0, 0, 0, 0, 0, 1, 0, 1, 0, 0, 1, 0, 0, 1,\n",
       "       0, 0, 0, 1, 0, 0, 0, 0, 0, 0, 0, 0, 0, 0, 0, 0, 0, 1, 0, 0, 0, 0,\n",
       "       0, 0, 0, 1, 1, 0, 0, 1, 1, 1, 0, 0, 0, 1, 0, 0, 0, 1, 1, 0, 1, 0,\n",
       "       0, 1, 0, 0, 0, 1, 1, 0, 0, 0, 0, 0, 0, 1, 1, 1, 0, 0, 1, 0, 1, 0,\n",
       "       1, 0, 0, 0, 1, 1, 0, 0, 0, 1, 1, 0, 0, 0, 0, 0, 1, 1, 0, 0, 0, 0,\n",
       "       0, 1, 1, 1, 1, 0, 0, 1, 1, 0, 0, 0, 0, 0, 0, 0, 0, 0, 1, 0, 0, 0,\n",
       "       0, 1, 0, 0, 1, 0, 0, 0, 0, 1, 0, 0, 1, 1, 0, 0, 0, 0, 0, 0, 0, 0,\n",
       "       1, 1, 0, 0, 0, 1, 1, 1, 0, 0, 0, 0, 0, 0, 0, 0, 0, 1, 0, 1, 0, 0,\n",
       "       0, 1, 0, 0, 0, 1, 1, 1, 0, 0, 0, 0, 1, 0, 1, 1, 0, 1, 1, 0, 0, 0,\n",
       "       0, 0, 0, 0, 1, 0, 0, 0, 0, 1, 0, 1, 0, 0, 0, 0, 1, 0, 0, 1, 0, 0,\n",
       "       0, 0, 1, 0, 0, 0, 1, 1, 0, 0, 0, 0, 0, 0, 0, 1, 0, 0, 0, 0, 0, 0,\n",
       "       0, 0, 0, 0, 0, 0, 0, 1, 0, 1, 1, 0], dtype=int64)"
      ]
     },
     "execution_count": 41,
     "metadata": {},
     "output_type": "execute_result"
    }
   ],
   "source": [
    "y_train_pred = logreg.predict(X_train)\n",
    "y_train_pred"
   ]
  },
  {
   "cell_type": "code",
   "execution_count": 42,
   "metadata": {},
   "outputs": [],
   "source": [
    "X_train_op = X_train.copy()\n",
    "X_train_op[\"y_train_actuals\"] = y_train[\"Purchased\"]\n",
    "X_train_op[\"y_train_prob\"] = y_train_prob\n",
    "X_train_op[\"y_train_pred\"] = y_train_pred"
   ]
  },
  {
   "cell_type": "code",
   "execution_count": 43,
   "metadata": {},
   "outputs": [
    {
     "data": {
      "text/html": [
       "<div>\n",
       "<style scoped>\n",
       "    .dataframe tbody tr th:only-of-type {\n",
       "        vertical-align: middle;\n",
       "    }\n",
       "\n",
       "    .dataframe tbody tr th {\n",
       "        vertical-align: top;\n",
       "    }\n",
       "\n",
       "    .dataframe thead th {\n",
       "        text-align: right;\n",
       "    }\n",
       "</style>\n",
       "<table border=\"1\" class=\"dataframe\">\n",
       "  <thead>\n",
       "    <tr style=\"text-align: right;\">\n",
       "      <th></th>\n",
       "      <th>Age</th>\n",
       "      <th>y_train_actuals</th>\n",
       "      <th>y_train_prob</th>\n",
       "      <th>y_train_pred</th>\n",
       "    </tr>\n",
       "  </thead>\n",
       "  <tbody>\n",
       "    <tr>\n",
       "      <th>190</th>\n",
       "      <td>24</td>\n",
       "      <td>0</td>\n",
       "      <td>0.026144</td>\n",
       "      <td>0</td>\n",
       "    </tr>\n",
       "    <tr>\n",
       "      <th>46</th>\n",
       "      <td>25</td>\n",
       "      <td>0</td>\n",
       "      <td>0.031592</td>\n",
       "      <td>0</td>\n",
       "    </tr>\n",
       "    <tr>\n",
       "      <th>50</th>\n",
       "      <td>24</td>\n",
       "      <td>0</td>\n",
       "      <td>0.026144</td>\n",
       "      <td>0</td>\n",
       "    </tr>\n",
       "    <tr>\n",
       "      <th>377</th>\n",
       "      <td>42</td>\n",
       "      <td>0</td>\n",
       "      <td>0.472570</td>\n",
       "      <td>0</td>\n",
       "    </tr>\n",
       "    <tr>\n",
       "      <th>121</th>\n",
       "      <td>37</td>\n",
       "      <td>0</td>\n",
       "      <td>0.252708</td>\n",
       "      <td>0</td>\n",
       "    </tr>\n",
       "    <tr>\n",
       "      <th>...</th>\n",
       "      <td>...</td>\n",
       "      <td>...</td>\n",
       "      <td>...</td>\n",
       "      <td>...</td>\n",
       "    </tr>\n",
       "    <tr>\n",
       "      <th>343</th>\n",
       "      <td>47</td>\n",
       "      <td>1</td>\n",
       "      <td>0.703612</td>\n",
       "      <td>1</td>\n",
       "    </tr>\n",
       "    <tr>\n",
       "      <th>359</th>\n",
       "      <td>42</td>\n",
       "      <td>0</td>\n",
       "      <td>0.472570</td>\n",
       "      <td>0</td>\n",
       "    </tr>\n",
       "    <tr>\n",
       "      <th>323</th>\n",
       "      <td>48</td>\n",
       "      <td>1</td>\n",
       "      <td>0.742582</td>\n",
       "      <td>1</td>\n",
       "    </tr>\n",
       "    <tr>\n",
       "      <th>280</th>\n",
       "      <td>59</td>\n",
       "      <td>1</td>\n",
       "      <td>0.960950</td>\n",
       "      <td>1</td>\n",
       "    </tr>\n",
       "    <tr>\n",
       "      <th>8</th>\n",
       "      <td>25</td>\n",
       "      <td>0</td>\n",
       "      <td>0.031592</td>\n",
       "      <td>0</td>\n",
       "    </tr>\n",
       "  </tbody>\n",
       "</table>\n",
       "<p>320 rows × 4 columns</p>\n",
       "</div>"
      ],
      "text/plain": [
       "     Age  y_train_actuals  y_train_prob  y_train_pred\n",
       "190   24                0      0.026144             0\n",
       "46    25                0      0.031592             0\n",
       "50    24                0      0.026144             0\n",
       "377   42                0      0.472570             0\n",
       "121   37                0      0.252708             0\n",
       "..   ...              ...           ...           ...\n",
       "343   47                1      0.703612             1\n",
       "359   42                0      0.472570             0\n",
       "323   48                1      0.742582             1\n",
       "280   59                1      0.960950             1\n",
       "8     25                0      0.031592             0\n",
       "\n",
       "[320 rows x 4 columns]"
      ]
     },
     "execution_count": 43,
     "metadata": {},
     "output_type": "execute_result"
    }
   ],
   "source": [
    "X_train_op"
   ]
  },
  {
   "cell_type": "code",
   "execution_count": 44,
   "metadata": {},
   "outputs": [
    {
     "data": {
      "text/plain": [
       "Text(0.5, 1.0, 'Train data Vs Best filt line by Logistic Regression')"
      ]
     },
     "execution_count": 44,
     "metadata": {},
     "output_type": "execute_result"
    },
    {
     "data": {
      "image/png": "[encoded data removed]",
      "text/plain": [
       "<Figure size 1080x360 with 1 Axes>"
      ]
     },
     "metadata": {
      "needs_background": "light"
     },
     "output_type": "display_data"
    }
   ],
   "source": [
    "plt.figure(figsize=(15,5))\n",
    "plt.scatter(X_train_op[\"Age\"],X_train_op[\"y_train_prob\"], color=\"blue\")\n",
    "plt.scatter(X_train_op[\"Age\"],X_train_op[\"y_train_actuals\"], color=\"red\")\n",
    "plt.scatter(X_train_op[\"Age\"],X_train_op[\"y_train_pred\"], color=\"yellow\")\n",
    "plt.axhline(0.5,color=\"Black\")\n",
    "plt.text(17,0.52,\"threshold value = 0.5\", fontsize=15)\n",
    "plt.xlabel(\"Age\",fontsize=15)\n",
    "plt.ylabel(\"y_train_actuals & y_train_prob\", fontsize=15)\n",
    "plt.title(\"Train data Vs Best filt line by Logistic Regression\", fontsize=15)"
   ]
  },
  {
   "cell_type": "markdown",
   "metadata": {},
   "source": [
    "# <font color=green> Error Evluation </font><br>"
   ]
  },
  {
   "cell_type": "code",
   "execution_count": 45,
   "metadata": {},
   "outputs": [
    {
     "data": {
      "text/plain": [
       "0    208\n",
       "1    112\n",
       "Name: y_train_actuals, dtype: int64"
      ]
     },
     "execution_count": 45,
     "metadata": {},
     "output_type": "execute_result"
    }
   ],
   "source": [
    "X_train_op[\"y_train_actuals\"].value_counts()"
   ]
  },
  {
   "cell_type": "code",
   "execution_count": 46,
   "metadata": {},
   "outputs": [
    {
     "data": {
      "text/plain": [
       "0    228\n",
       "1     92\n",
       "Name: y_train_pred, dtype: int64"
      ]
     },
     "execution_count": 46,
     "metadata": {},
     "output_type": "execute_result"
    }
   ],
   "source": [
    "X_train_op[\"y_train_pred\"].value_counts()"
   ]
  },
  {
   "cell_type": "markdown",
   "metadata": {},
   "source": [
    "# <font color=green> Confusion Matrix </font><br>"
   ]
  },
  {
   "cell_type": "code",
   "execution_count": 47,
   "metadata": {},
   "outputs": [
    {
     "data": {
      "text/plain": [
       "Age                193\n",
       "y_train_actuals    193\n",
       "y_train_prob       193\n",
       "y_train_pred       193\n",
       "dtype: int64"
      ]
     },
     "execution_count": 47,
     "metadata": {},
     "output_type": "execute_result"
    }
   ],
   "source": [
    "# True Negative\n",
    "X_train_op.loc[X_train_op[\"y_train_actuals\"]==0].loc[X_train_op[\"y_train_pred\"]==0].count()"
   ]
  },
  {
   "cell_type": "code",
   "execution_count": 48,
   "metadata": {},
   "outputs": [
    {
     "data": {
      "text/plain": [
       "Age                15\n",
       "y_train_actuals    15\n",
       "y_train_prob       15\n",
       "y_train_pred       15\n",
       "dtype: int64"
      ]
     },
     "execution_count": 48,
     "metadata": {},
     "output_type": "execute_result"
    }
   ],
   "source": [
    "# False Positive\n",
    "X_train_op.loc[X_train_op[\"y_train_actuals\"]==0].loc[X_train_op[\"y_train_pred\"]==1].count()"
   ]
  },
  {
   "cell_type": "code",
   "execution_count": 49,
   "metadata": {},
   "outputs": [
    {
     "data": {
      "text/plain": [
       "Age                35\n",
       "y_train_actuals    35\n",
       "y_train_prob       35\n",
       "y_train_pred       35\n",
       "dtype: int64"
      ]
     },
     "execution_count": 49,
     "metadata": {},
     "output_type": "execute_result"
    }
   ],
   "source": [
    "# True Negative\n",
    "X_train_op.loc[X_train_op[\"y_train_actuals\"]==1].loc[X_train_op[\"y_train_pred\"]==0].count()"
   ]
  },
  {
   "cell_type": "code",
   "execution_count": 50,
   "metadata": {},
   "outputs": [
    {
     "data": {
      "text/plain": [
       "Age                77\n",
       "y_train_actuals    77\n",
       "y_train_prob       77\n",
       "y_train_pred       77\n",
       "dtype: int64"
      ]
     },
     "execution_count": 50,
     "metadata": {},
     "output_type": "execute_result"
    }
   ],
   "source": [
    "# True Positive\n",
    "X_train_op.loc[X_train_op[\"y_train_actuals\"]==1].loc[X_train_op[\"y_train_pred\"]==1].count()"
   ]
  },
  {
   "cell_type": "code",
   "execution_count": 51,
   "metadata": {},
   "outputs": [
    {
     "data": {
      "text/plain": [
       "False    243\n",
       "True      77\n",
       "Name: Count, dtype: int64"
      ]
     },
     "execution_count": 51,
     "metadata": {},
     "output_type": "execute_result"
    }
   ],
   "source": [
    "# 2nd way\n",
    "X_train_op[\"Count\"] = np.where((X_train_op[\"y_train_actuals\"]==1)&(X_train_op[\"y_train_pred\"]==1),True,False)\n",
    "X_train_op[\"Count\"].value_counts()"
   ]
  },
  {
   "cell_type": "code",
   "execution_count": 52,
   "metadata": {},
   "outputs": [
    {
     "data": {
      "text/plain": [
       "True     193\n",
       "False    127\n",
       "Name: Count, dtype: int64"
      ]
     },
     "execution_count": 52,
     "metadata": {},
     "output_type": "execute_result"
    }
   ],
   "source": [
    "# 2nd way\n",
    "X_train_op[\"Count\"] = np.where((X_train_op[\"y_train_actuals\"]==0)&(X_train_op[\"y_train_pred\"]==0),True,False)\n",
    "X_train_op[\"Count\"].value_counts()"
   ]
  },
  {
   "cell_type": "code",
   "execution_count": 53,
   "metadata": {},
   "outputs": [],
   "source": [
    "# Direct Way\n",
    "from sklearn.metrics import confusion_matrix"
   ]
  },
  {
   "cell_type": "code",
   "execution_count": 54,
   "metadata": {},
   "outputs": [
    {
     "data": {
      "text/plain": [
       "array([[193,  15],\n",
       "       [ 35,  77]], dtype=int64)"
      ]
     },
     "execution_count": 54,
     "metadata": {},
     "output_type": "execute_result"
    }
   ],
   "source": [
    "cnf_matrix = confusion_matrix(X_train_op[\"y_train_actuals\"],X_train_op[\"y_train_pred\"])\n",
    "cnf_matrix"
   ]
  },
  {
   "cell_type": "code",
   "execution_count": 55,
   "metadata": {},
   "outputs": [
    {
     "data": {
      "text/plain": [
       "Text(0.5, 1.0, 'confusion_matrix')"
      ]
     },
     "execution_count": 55,
     "metadata": {},
     "output_type": "execute_result"
    },
    {
     "data": {
      "image/png": "[encoded data removed]",
      "text/plain": [
       "<Figure size 432x288 with 2 Axes>"
      ]
     },
     "metadata": {
      "needs_background": "light"
     },
     "output_type": "display_data"
    }
   ],
   "source": [
    "# Heat map\n",
    "sns.heatmap(cnf_matrix, annot=True,cmap=\"YlGnBu\",fmt='.3g')\n",
    "plt.xlabel(\"actuals\", fontsize=15)\n",
    "plt.ylabel(\"Predicted\", fontsize=15)\n",
    "plt.title(\"confusion_matrix\", fontsize=15)"
   ]
  },
  {
   "cell_type": "code",
   "execution_count": 56,
   "metadata": {},
   "outputs": [
    {
     "data": {
      "text/plain": [
       "0.84375"
      ]
     },
     "execution_count": 56,
     "metadata": {},
     "output_type": "execute_result"
    }
   ],
   "source": [
    "# Accuarcy train data\n",
    "\n",
    "(193+77)/(193+15+35+77)\n"
   ]
  },
  {
   "cell_type": "code",
   "execution_count": 57,
   "metadata": {},
   "outputs": [],
   "source": [
    "from sklearn.metrics import accuracy_score"
   ]
  },
  {
   "cell_type": "code",
   "execution_count": 58,
   "metadata": {},
   "outputs": [
    {
     "data": {
      "text/plain": [
       "0.84375"
      ]
     },
     "execution_count": 58,
     "metadata": {},
     "output_type": "execute_result"
    }
   ],
   "source": [
    "# Accuracy using Package\n",
    "accuracy_score(X_train_op[\"y_train_actuals\"],X_train_op[\"y_train_pred\"])"
   ]
  },
  {
   "cell_type": "code",
   "execution_count": 59,
   "metadata": {},
   "outputs": [
    {
     "data": {
      "text/plain": [
       "(0.8464912280701754, 0.8369565217391305)"
      ]
     },
     "execution_count": 59,
     "metadata": {},
     "output_type": "execute_result"
    }
   ],
   "source": [
    "#precision for 0\n",
    "precision_0 = 193/(193+35)\n",
    "precision_0\n",
    "#precision for 1\n",
    "precision_1 = 77/(77+15)\n",
    "precision_0, precision_1"
   ]
  },
  {
   "cell_type": "markdown",
   "metadata": {},
   "source": [
    "# Lets Predict on Test Data"
   ]
  },
  {
   "cell_type": "code",
   "execution_count": 60,
   "metadata": {},
   "outputs": [
    {
     "data": {
      "text/plain": [
       "array([[0.57559349, 0.42440651],\n",
       "       [0.38348052, 0.61651948],\n",
       "       [0.841423  , 0.158577  ],\n",
       "       [0.74729193, 0.25270807],\n",
       "       [0.86573135, 0.13426865],\n",
       "       [0.33856875, 0.66143125],\n",
       "       [0.57559349, 0.42440651],\n",
       "       [0.74729193, 0.25270807],\n",
       "       [0.57559349, 0.42440651],\n",
       "       [0.93359331, 0.06640669],\n",
       "       [0.66695955, 0.33304045],\n",
       "       [0.52743047, 0.47256953],\n",
       "       [0.70875462, 0.29124538],\n",
       "       [0.86573135, 0.13426865],\n",
       "       [0.03235905, 0.96764095],\n",
       "       [0.13717606, 0.86282394],\n",
       "       [0.62236243, 0.37763757],\n",
       "       [0.66695955, 0.33304045],\n",
       "       [0.81366104, 0.18633896],\n",
       "       [0.92044183, 0.07955817],\n",
       "       [0.66695955, 0.33304045],\n",
       "       [0.94470137, 0.05529863],\n",
       "       [0.94470137, 0.05529863],\n",
       "       [0.98996927, 0.01003073],\n",
       "       [0.03235905, 0.96764095],\n",
       "       [0.78229632, 0.21770368],\n",
       "       [0.96186994, 0.03813006],\n",
       "       [0.05660786, 0.94339214],\n",
       "       [0.97838487, 0.02161513],\n",
       "       [0.38348052, 0.61651948],\n",
       "       [0.81366104, 0.18633896],\n",
       "       [0.19012627, 0.80987373],\n",
       "       [0.33856875, 0.66143125],\n",
       "       [0.22195458, 0.77804542],\n",
       "       [0.08139228, 0.91860772],\n",
       "       [0.03904962, 0.96095038],\n",
       "       [0.8868147 , 0.1131853 ],\n",
       "       [0.81366104, 0.18633896],\n",
       "       [0.96186994, 0.03813006],\n",
       "       [0.62236243, 0.37763757],\n",
       "       [0.98783729, 0.01216271],\n",
       "       [0.95404283, 0.04595717],\n",
       "       [0.841423  , 0.158577  ],\n",
       "       [0.09720258, 0.90279742],\n",
       "       [0.04705626, 0.95294374],\n",
       "       [0.93359331, 0.06640669],\n",
       "       [0.62236243, 0.37763757],\n",
       "       [0.94470137, 0.05529863],\n",
       "       [0.74729193, 0.25270807],\n",
       "       [0.08139228, 0.91860772],\n",
       "       [0.94470137, 0.05529863],\n",
       "       [0.66695955, 0.33304045],\n",
       "       [0.62236243, 0.37763757],\n",
       "       [0.81366104, 0.18633896],\n",
       "       [0.25741756, 0.74258244],\n",
       "       [0.66695955, 0.33304045],\n",
       "       [0.09720258, 0.90279742],\n",
       "       [0.29638821, 0.70361179],\n",
       "       [0.57559349, 0.42440651],\n",
       "       [0.03235905, 0.96764095],\n",
       "       [0.81366104, 0.18633896],\n",
       "       [0.29638821, 0.70361179],\n",
       "       [0.66695955, 0.33304045],\n",
       "       [0.841423  , 0.158577  ],\n",
       "       [0.96186994, 0.03813006],\n",
       "       [0.62236243, 0.37763757],\n",
       "       [0.29638821, 0.70361179],\n",
       "       [0.57559349, 0.42440651],\n",
       "       [0.9738557 , 0.0261443 ],\n",
       "       [0.74729193, 0.25270807],\n",
       "       [0.86573135, 0.13426865],\n",
       "       [0.25741756, 0.74258244],\n",
       "       [0.03904962, 0.96095038],\n",
       "       [0.98783729, 0.01216271],\n",
       "       [0.95404283, 0.04595717],\n",
       "       [0.62236243, 0.37763757],\n",
       "       [0.98214381, 0.01785619],\n",
       "       [0.96186994, 0.03813006],\n",
       "       [0.74729193, 0.25270807],\n",
       "       [0.90495094, 0.09504906]])"
      ]
     },
     "execution_count": 60,
     "metadata": {},
     "output_type": "execute_result"
    }
   ],
   "source": [
    "# Probability \n",
    "\n",
    "logreg.predict_proba(X_test)"
   ]
  },
  {
   "cell_type": "code",
   "execution_count": 61,
   "metadata": {},
   "outputs": [
    {
     "data": {
      "text/plain": [
       "array([0.42440651, 0.61651948, 0.158577  , 0.25270807, 0.13426865,\n",
       "       0.66143125, 0.42440651, 0.25270807, 0.42440651, 0.06640669,\n",
       "       0.33304045, 0.47256953, 0.29124538, 0.13426865, 0.96764095,\n",
       "       0.86282394, 0.37763757, 0.33304045, 0.18633896, 0.07955817,\n",
       "       0.33304045, 0.05529863, 0.05529863, 0.01003073, 0.96764095,\n",
       "       0.21770368, 0.03813006, 0.94339214, 0.02161513, 0.61651948,\n",
       "       0.18633896, 0.80987373, 0.66143125, 0.77804542, 0.91860772,\n",
       "       0.96095038, 0.1131853 , 0.18633896, 0.03813006, 0.37763757,\n",
       "       0.01216271, 0.04595717, 0.158577  , 0.90279742, 0.95294374,\n",
       "       0.06640669, 0.37763757, 0.05529863, 0.25270807, 0.91860772,\n",
       "       0.05529863, 0.33304045, 0.37763757, 0.18633896, 0.74258244,\n",
       "       0.33304045, 0.90279742, 0.70361179, 0.42440651, 0.96764095,\n",
       "       0.18633896, 0.70361179, 0.33304045, 0.158577  , 0.03813006,\n",
       "       0.37763757, 0.70361179, 0.42440651, 0.0261443 , 0.25270807,\n",
       "       0.13426865, 0.74258244, 0.96095038, 0.01216271, 0.04595717,\n",
       "       0.37763757, 0.01785619, 0.03813006, 0.25270807, 0.09504906])"
      ]
     },
     "execution_count": 61,
     "metadata": {},
     "output_type": "execute_result"
    }
   ],
   "source": [
    "y_test_prob = logreg.predict_proba(X_test)[:,1] # 0 : not occurance and 1: occurance probability\n",
    "# this will give only purchase probability\n",
    "y_test_prob"
   ]
  },
  {
   "cell_type": "code",
   "execution_count": 62,
   "metadata": {},
   "outputs": [
    {
     "data": {
      "text/plain": [
       "array([0, 1, 0, 0, 0, 1, 0, 0, 0, 0, 0, 0, 0, 0, 1, 1, 0, 0, 0, 0, 0, 0,\n",
       "       0, 0, 1, 0, 0, 1, 0, 1, 0, 1, 1, 1, 1, 1, 0, 0, 0, 0, 0, 0, 0, 1,\n",
       "       1, 0, 0, 0, 0, 1, 0, 0, 0, 0, 1, 0, 1, 1, 0, 1, 0, 1, 0, 0, 0, 0,\n",
       "       1, 0, 0, 0, 0, 1, 1, 0, 0, 0, 0, 0, 0, 0], dtype=int64)"
      ]
     },
     "execution_count": 62,
     "metadata": {},
     "output_type": "execute_result"
    }
   ],
   "source": [
    "y_test_pred = logreg.predict(X_test)\n",
    "y_test_pred"
   ]
  },
  {
   "cell_type": "code",
   "execution_count": 63,
   "metadata": {},
   "outputs": [
    {
     "data": {
      "text/html": [
       "<div>\n",
       "<style scoped>\n",
       "    .dataframe tbody tr th:only-of-type {\n",
       "        vertical-align: middle;\n",
       "    }\n",
       "\n",
       "    .dataframe tbody tr th {\n",
       "        vertical-align: top;\n",
       "    }\n",
       "\n",
       "    .dataframe thead th {\n",
       "        text-align: right;\n",
       "    }\n",
       "</style>\n",
       "<table border=\"1\" class=\"dataframe\">\n",
       "  <thead>\n",
       "    <tr style=\"text-align: right;\">\n",
       "      <th></th>\n",
       "      <th>Age</th>\n",
       "      <th>y_test_actuals</th>\n",
       "      <th>y_test_prob</th>\n",
       "      <th>y_test_pred</th>\n",
       "    </tr>\n",
       "  </thead>\n",
       "  <tbody>\n",
       "    <tr>\n",
       "      <th>248</th>\n",
       "      <td>41</td>\n",
       "      <td>0</td>\n",
       "      <td>0.424407</td>\n",
       "      <td>0</td>\n",
       "    </tr>\n",
       "    <tr>\n",
       "      <th>318</th>\n",
       "      <td>45</td>\n",
       "      <td>1</td>\n",
       "      <td>0.616519</td>\n",
       "      <td>1</td>\n",
       "    </tr>\n",
       "    <tr>\n",
       "      <th>173</th>\n",
       "      <td>34</td>\n",
       "      <td>0</td>\n",
       "      <td>0.158577</td>\n",
       "      <td>0</td>\n",
       "    </tr>\n",
       "    <tr>\n",
       "      <th>285</th>\n",
       "      <td>37</td>\n",
       "      <td>1</td>\n",
       "      <td>0.252708</td>\n",
       "      <td>0</td>\n",
       "    </tr>\n",
       "    <tr>\n",
       "      <th>184</th>\n",
       "      <td>33</td>\n",
       "      <td>0</td>\n",
       "      <td>0.134269</td>\n",
       "      <td>0</td>\n",
       "    </tr>\n",
       "    <tr>\n",
       "      <th>...</th>\n",
       "      <td>...</td>\n",
       "      <td>...</td>\n",
       "      <td>...</td>\n",
       "      <td>...</td>\n",
       "    </tr>\n",
       "    <tr>\n",
       "      <th>358</th>\n",
       "      <td>40</td>\n",
       "      <td>1</td>\n",
       "      <td>0.377638</td>\n",
       "      <td>0</td>\n",
       "    </tr>\n",
       "    <tr>\n",
       "      <th>166</th>\n",
       "      <td>22</td>\n",
       "      <td>0</td>\n",
       "      <td>0.017856</td>\n",
       "      <td>0</td>\n",
       "    </tr>\n",
       "    <tr>\n",
       "      <th>198</th>\n",
       "      <td>26</td>\n",
       "      <td>0</td>\n",
       "      <td>0.038130</td>\n",
       "      <td>0</td>\n",
       "    </tr>\n",
       "    <tr>\n",
       "      <th>267</th>\n",
       "      <td>37</td>\n",
       "      <td>0</td>\n",
       "      <td>0.252708</td>\n",
       "      <td>0</td>\n",
       "    </tr>\n",
       "    <tr>\n",
       "      <th>69</th>\n",
       "      <td>31</td>\n",
       "      <td>0</td>\n",
       "      <td>0.095049</td>\n",
       "      <td>0</td>\n",
       "    </tr>\n",
       "  </tbody>\n",
       "</table>\n",
       "<p>80 rows × 4 columns</p>\n",
       "</div>"
      ],
      "text/plain": [
       "     Age  y_test_actuals  y_test_prob  y_test_pred\n",
       "248   41               0     0.424407            0\n",
       "318   45               1     0.616519            1\n",
       "173   34               0     0.158577            0\n",
       "285   37               1     0.252708            0\n",
       "184   33               0     0.134269            0\n",
       "..   ...             ...          ...          ...\n",
       "358   40               1     0.377638            0\n",
       "166   22               0     0.017856            0\n",
       "198   26               0     0.038130            0\n",
       "267   37               0     0.252708            0\n",
       "69    31               0     0.095049            0\n",
       "\n",
       "[80 rows x 4 columns]"
      ]
     },
     "execution_count": 63,
     "metadata": {},
     "output_type": "execute_result"
    }
   ],
   "source": [
    "X_test_op = X_test.copy()\n",
    "X_test_op[\"y_test_actuals\"] = y_test[\"Purchased\"]\n",
    "X_test_op[\"y_test_prob\"] = y_test_prob\n",
    "X_test_op[\"y_test_pred\"] = y_test_pred\n",
    "X_test_op"
   ]
  },
  {
   "cell_type": "code",
   "execution_count": 64,
   "metadata": {},
   "outputs": [
    {
     "data": {
      "text/plain": [
       "Text(0.5, 1.0, 'Test data Vs Best filt line by Logistic Regression')"
      ]
     },
     "execution_count": 64,
     "metadata": {},
     "output_type": "execute_result"
    },
    {
     "data": {
      "image/png": "[encoded data removed]",
      "text/plain": [
       "<Figure size 1080x360 with 1 Axes>"
      ]
     },
     "metadata": {
      "needs_background": "light"
     },
     "output_type": "display_data"
    }
   ],
   "source": [
    "plt.figure(figsize=(15,5))\n",
    "plt.scatter(X_test_op[\"Age\"],X_test_op[\"y_test_prob\"], color=\"blue\")\n",
    "plt.scatter(X_test_op[\"Age\"],X_test_op[\"y_test_actuals\"], color=\"red\")\n",
    "plt.scatter(X_test_op[\"Age\"],X_test_op[\"y_test_pred\"], color=\"yellow\")\n",
    "plt.axhline(0.5,color=\"Black\")\n",
    "plt.text(17,0.52,\"threshold value = 0.5\", fontsize=15)\n",
    "plt.xlabel(\"Age\",fontsize=15)\n",
    "plt.ylabel(\"y_test_actuals & y_test_prob\", fontsize=15)\n",
    "plt.title(\"Test data Vs Best filt line by Logistic Regression\", fontsize=15)"
   ]
  },
  {
   "cell_type": "code",
   "execution_count": 65,
   "metadata": {},
   "outputs": [
    {
     "data": {
      "text/plain": [
       "0.825"
      ]
     },
     "execution_count": 65,
     "metadata": {},
     "output_type": "execute_result"
    }
   ],
   "source": [
    "accuracy_score(X_test_op[\"y_test_actuals\"],X_test_op[\"y_test_pred\"])"
   ]
  },
  {
   "cell_type": "markdown",
   "metadata": {},
   "source": [
    "# <font color=green> Model : 2 </font> - Using 2 variable Age & Estimated Salary <br>"
   ]
  },
  {
   "cell_type": "code",
   "execution_count": 66,
   "metadata": {},
   "outputs": [],
   "source": [
    "X = df[[\"Age\", \"EstimatedSalary\"]]\n",
    "y = df[[\"Purchased\"]]"
   ]
  },
  {
   "cell_type": "code",
   "execution_count": 67,
   "metadata": {},
   "outputs": [],
   "source": [
    "X_train,X_test,y_train,y_test = train_test_split(X,y, train_size=0.8, random_state=100)"
   ]
  },
  {
   "cell_type": "code",
   "execution_count": 68,
   "metadata": {},
   "outputs": [],
   "source": [
    "logreg = LogisticRegression(C = 1000)\n",
    "# C means add a penality to errors\n",
    "# Higher value means low penality (bydefault=1)\n",
    "# you can crosschek by reducing the C\n",
    "logreg = logreg.fit(X_train,y_train)"
   ]
  },
  {
   "cell_type": "code",
   "execution_count": 69,
   "metadata": {},
   "outputs": [],
   "source": [
    "m = logreg.coef_\n",
    "c = logreg.intercept_"
   ]
  },
  {
   "cell_type": "code",
   "execution_count": 70,
   "metadata": {},
   "outputs": [
    {
     "data": {
      "text/plain": [
       "(array([[-3.31088549e-09, -2.89780544e-06]]), array([-4.21824581e-10]))"
      ]
     },
     "execution_count": 70,
     "metadata": {},
     "output_type": "execute_result"
    }
   ],
   "source": [
    "m, c"
   ]
  },
  {
   "cell_type": "code",
   "execution_count": 71,
   "metadata": {},
   "outputs": [
    {
     "data": {
      "text/plain": [
       "array([[0.56055523, 0.43944477],\n",
       "       [0.55698303, 0.44301697],\n",
       "       [0.52316587, 0.47683413],\n",
       "       [0.53832066, 0.46167934],\n",
       "       [0.55197213, 0.44802787],\n",
       "       [0.53111119, 0.46888881],\n",
       "       [0.54910392, 0.45089608],\n",
       "       [0.51882685, 0.48117315],\n",
       "       [0.52605664, 0.47394336],\n",
       "       [0.5217199 , 0.4782801 ],\n",
       "       [0.54263885, 0.45736115],\n",
       "       [0.55555249, 0.44444751],\n",
       "       [0.52605666, 0.47394334],\n",
       "       [0.53904077, 0.46095923],\n",
       "       [0.57548595, 0.42451405],\n",
       "       [0.54623248, 0.45376752],\n",
       "       [0.56910229, 0.43089771],\n",
       "       [0.5512554 , 0.4487446 ],\n",
       "       [0.55841264, 0.44158736],\n",
       "       [0.56055523, 0.43944477],\n",
       "       [0.5275014 , 0.4724986 ],\n",
       "       [0.55769797, 0.44230203],\n",
       "       [0.54191957, 0.45808043],\n",
       "       [0.55197213, 0.44802787],\n",
       "       [0.52822361, 0.47177639],\n",
       "       [0.54120012, 0.45879988],\n",
       "       [0.51593257, 0.48406743],\n",
       "       [0.52099677, 0.47900323],\n",
       "       [0.5619824 , 0.4380176 ],\n",
       "       [0.55769796, 0.44230204],\n",
       "       [0.57477787, 0.42522213],\n",
       "       [0.514485  , 0.485515  ],\n",
       "       [0.55483686, 0.44516314],\n",
       "       [0.54479558, 0.45520442],\n",
       "       [0.59935903, 0.40064097],\n",
       "       [0.55769796, 0.44230204],\n",
       "       [0.55412101, 0.44587899],\n",
       "       [0.52750142, 0.47249858],\n",
       "       [0.59796653, 0.40203347],\n",
       "       [0.57265176, 0.42734824],\n",
       "       [0.58043378, 0.41956622],\n",
       "       [0.51448499, 0.48551501],\n",
       "       [0.58254939, 0.41745061],\n",
       "       [0.53904076, 0.46095924],\n",
       "       [0.57760836, 0.42239164],\n",
       "       [0.57194243, 0.42805757],\n",
       "       [0.52605666, 0.47394334],\n",
       "       [0.55412102, 0.44587898],\n",
       "       [0.58395812, 0.41604188],\n",
       "       [0.55841264, 0.44158736],\n",
       "       [0.56981276, 0.43018724],\n",
       "       [0.58747393, 0.41252607],\n",
       "       [0.54120013, 0.45879987],\n",
       "       [0.56269557, 0.43730443],\n",
       "       [0.52027356, 0.47972644],\n",
       "       [0.51593256, 0.48406744],\n",
       "       [0.51955024, 0.48044976],\n",
       "       [0.55412102, 0.44587898],\n",
       "       [0.52244292, 0.47755708],\n",
       "       [0.53183279, 0.46816721],\n",
       "       [0.55340495, 0.44659505],\n",
       "       [0.55769796, 0.44230204],\n",
       "       [0.51593257, 0.48406743],\n",
       "       [0.51086508, 0.48913492],\n",
       "       [0.55340495, 0.44659505],\n",
       "       [0.54335794, 0.45664206],\n",
       "       [0.54191956, 0.45808044],\n",
       "       [0.55555249, 0.44444751],\n",
       "       [0.52461148, 0.47538852],\n",
       "       [0.56412119, 0.43587881],\n",
       "       [0.5217199 , 0.4782801 ],\n",
       "       [0.53687995, 0.46312005],\n",
       "       [0.52027356, 0.47972644],\n",
       "       [0.60213918, 0.39786082],\n",
       "       [0.5152088 , 0.4847912 ],\n",
       "       [0.51231321, 0.48768679],\n",
       "       [0.53904078, 0.46095922],\n",
       "       [0.56483357, 0.43516643],\n",
       "       [0.54263885, 0.45736115],\n",
       "       [0.55912711, 0.44087289],\n",
       "       [0.51231321, 0.48768679],\n",
       "       [0.59517686, 0.40482314],\n",
       "       [0.51158916, 0.48841084],\n",
       "       [0.59657246, 0.40342754],\n",
       "       [0.59238099, 0.40761901],\n",
       "       [0.58466198, 0.41533802],\n",
       "       [0.53832066, 0.46167934],\n",
       "       [0.59377968, 0.40622032],\n",
       "       [0.55268865, 0.44731135],\n",
       "       [0.56269557, 0.43730443],\n",
       "       [0.51955023, 0.48044977],\n",
       "       [0.53255423, 0.46744577],\n",
       "       [0.53976073, 0.46023927],\n",
       "       [0.54695064, 0.45304936],\n",
       "       [0.54120013, 0.45879987],\n",
       "       [0.54407685, 0.45592315],\n",
       "       [0.58466197, 0.41533803],\n",
       "       [0.59657247, 0.40342753],\n",
       "       [0.5498213 , 0.4501787 ],\n",
       "       [0.55984129, 0.44015871],\n",
       "       [0.5512554 , 0.4487446 ],\n",
       "       [0.53399671, 0.46600329],\n",
       "       [0.56483359, 0.43516641],\n",
       "       [0.53760038, 0.46239962],\n",
       "       [0.51303719, 0.48696281],\n",
       "       [0.53399673, 0.46600327],\n",
       "       [0.51810338, 0.48189662],\n",
       "       [0.53615936, 0.46384064],\n",
       "       [0.55197213, 0.44802787],\n",
       "       [0.52388872, 0.47611128],\n",
       "       [0.5512554 , 0.4487446 ],\n",
       "       [0.54335794, 0.45664206],\n",
       "       [0.51593255, 0.48406745],\n",
       "       [0.51665626, 0.48334374],\n",
       "       [0.52461149, 0.47538851],\n",
       "       [0.52027354, 0.47972646],\n",
       "       [0.58747391, 0.41252609],\n",
       "       [0.58536549, 0.41463451],\n",
       "       [0.59866299, 0.40133701],\n",
       "       [0.55197214, 0.44802786],\n",
       "       [0.54766859, 0.45233141],\n",
       "       [0.54120013, 0.45879987],\n",
       "       [0.52677907, 0.47322093],\n",
       "       [0.56483359, 0.43516641],\n",
       "       [0.54407685, 0.45592315],\n",
       "       [0.53543862, 0.46456138],\n",
       "       [0.52316587, 0.47683413],\n",
       "       [0.54695065, 0.45304935],\n",
       "       [0.55984131, 0.44015869],\n",
       "       [0.56340851, 0.43659149],\n",
       "       [0.59587486, 0.40412514],\n",
       "       [0.55412102, 0.44587898],\n",
       "       [0.53183276, 0.46816724],\n",
       "       [0.60283319, 0.39716681],\n",
       "       [0.54407685, 0.45592315],\n",
       "       [0.56269558, 0.43730442],\n",
       "       [0.57760836, 0.42239164],\n",
       "       [0.52099678, 0.47900322],\n",
       "       [0.60213918, 0.39786082],\n",
       "       [0.53615936, 0.46384064],\n",
       "       [0.54335794, 0.45664206],\n",
       "       [0.52461147, 0.47538853],\n",
       "       [0.56126893, 0.43873107],\n",
       "       [0.55053846, 0.44946154],\n",
       "       [0.53976071, 0.46023929],\n",
       "       [0.52966766, 0.47033234],\n",
       "       [0.58043378, 0.41956622],\n",
       "       [0.59866299, 0.40133701],\n",
       "       [0.54263884, 0.45736116],\n",
       "       [0.53760037, 0.46239963],\n",
       "       [0.55698305, 0.44301695],\n",
       "       [0.56198238, 0.43801762],\n",
       "       [0.52388874, 0.47611126],\n",
       "       [0.56412117, 0.43587883],\n",
       "       [0.51448501, 0.48551499],\n",
       "       [0.53760038, 0.46239962],\n",
       "       [0.53038949, 0.46961051],\n",
       "       [0.55769797, 0.44230203],\n",
       "       [0.54335796, 0.45664204],\n",
       "       [0.59587486, 0.40412514],\n",
       "       [0.60491273, 0.39508727],\n",
       "       [0.53543861, 0.46456139],\n",
       "       [0.5512554 , 0.4487446 ],\n",
       "       [0.54263885, 0.45736115],\n",
       "       [0.60074991, 0.39925009],\n",
       "       [0.55412102, 0.44587898],\n",
       "       [0.55698304, 0.44301696],\n",
       "       [0.5130372 , 0.4869628 ],\n",
       "       [0.54335794, 0.45664206],\n",
       "       [0.56554572, 0.43445428],\n",
       "       [0.56910229, 0.43089771],\n",
       "       [0.60074991, 0.39925009],\n",
       "       [0.56412117, 0.43587883],\n",
       "       [0.55412102, 0.44587898],\n",
       "       [0.54191957, 0.45808043],\n",
       "       [0.53976072, 0.46023928],\n",
       "       [0.55197213, 0.44802787],\n",
       "       [0.51665626, 0.48334374],\n",
       "       [0.56340852, 0.43659148],\n",
       "       [0.5691023 , 0.4308977 ],\n",
       "       [0.51665625, 0.48334375],\n",
       "       [0.60560507, 0.39439493],\n",
       "       [0.54407685, 0.45592315],\n",
       "       [0.52461148, 0.47538852],\n",
       "       [0.57690121, 0.42309879],\n",
       "       [0.51955023, 0.48044977],\n",
       "       [0.54407686, 0.45592314],\n",
       "       [0.56483357, 0.43516643],\n",
       "       [0.5181034 , 0.4818966 ],\n",
       "       [0.58395812, 0.41604188],\n",
       "       [0.5769012 , 0.4230988 ],\n",
       "       [0.58113931, 0.41886069],\n",
       "       [0.58957913, 0.41042087],\n",
       "       [0.55698304, 0.44301696],\n",
       "       [0.59308053, 0.40691947],\n",
       "       [0.56055523, 0.43944477],\n",
       "       [0.51086508, 0.48913492],\n",
       "       [0.56910228, 0.43089772],\n",
       "       [0.5282236 , 0.4717764 ],\n",
       "       [0.56483359, 0.43516641],\n",
       "       [0.54263884, 0.45736116],\n",
       "       [0.5512554 , 0.4487446 ],\n",
       "       [0.57336077, 0.42663923],\n",
       "       [0.55769797, 0.44230203],\n",
       "       [0.55912708, 0.44087292],\n",
       "       [0.55769797, 0.44230203],\n",
       "       [0.56198237, 0.43801763],\n",
       "       [0.51810341, 0.48189659],\n",
       "       [0.53615936, 0.46384064],\n",
       "       [0.54551413, 0.45448587],\n",
       "       [0.57477787, 0.42522213],\n",
       "       [0.52388873, 0.47611127],\n",
       "       [0.54479558, 0.45520442],\n",
       "       [0.60283318, 0.39716682],\n",
       "       [0.56412117, 0.43587883],\n",
       "       [0.54551412, 0.45448588],\n",
       "       [0.55912708, 0.44087292],\n",
       "       [0.55412102, 0.44587898],\n",
       "       [0.55412102, 0.44587898],\n",
       "       [0.56198237, 0.43801763],\n",
       "       [0.58957915, 0.41042085],\n",
       "       [0.56340852, 0.43659148],\n",
       "       [0.54695064, 0.45304936],\n",
       "       [0.60421996, 0.39578004],\n",
       "       [0.55698304, 0.44301696],\n",
       "       [0.52316588, 0.47683412],\n",
       "       [0.53615937, 0.46384063],\n",
       "       [0.52822361, 0.47177639],\n",
       "       [0.55197213, 0.44802787],\n",
       "       [0.56198238, 0.43801762],\n",
       "       [0.55626788, 0.44373212],\n",
       "       [0.53760037, 0.46239963],\n",
       "       [0.54263885, 0.45736115],\n",
       "       [0.55769797, 0.44230203],\n",
       "       [0.55769797, 0.44230203],\n",
       "       [0.53183277, 0.46816723],\n",
       "       [0.5634085 , 0.4365915 ],\n",
       "       [0.52533412, 0.47466588],\n",
       "       [0.55984129, 0.44015871],\n",
       "       [0.5311112 , 0.4688888 ],\n",
       "       [0.55197212, 0.44802788],\n",
       "       [0.60283318, 0.39716682],\n",
       "       [0.52027354, 0.47972646],\n",
       "       [0.58395813, 0.41604187],\n",
       "       [0.51158917, 0.48841083],\n",
       "       [0.53399671, 0.46600329],\n",
       "       [0.53687995, 0.46312005],\n",
       "       [0.57760838, 0.42239162],\n",
       "       [0.58184453, 0.41815547],\n",
       "       [0.5303895 , 0.4696105 ],\n",
       "       [0.54695064, 0.45304936],\n",
       "       [0.55769796, 0.44230204],\n",
       "       [0.52244293, 0.47755707],\n",
       "       [0.5476686 , 0.4523314 ],\n",
       "       [0.52966765, 0.47033235],\n",
       "       [0.51376112, 0.48623888],\n",
       "       [0.54335796, 0.45664204],\n",
       "       [0.55053847, 0.44946153],\n",
       "       [0.54551411, 0.45448589],\n",
       "       [0.51665625, 0.48334375],\n",
       "       [0.51882687, 0.48117313],\n",
       "       [0.55340494, 0.44659506],\n",
       "       [0.52533411, 0.47466589],\n",
       "       [0.5130372 , 0.4869628 ],\n",
       "       [0.51665623, 0.48334377],\n",
       "       [0.57619373, 0.42380627],\n",
       "       [0.59587485, 0.40412515],\n",
       "       [0.53111119, 0.46888881],\n",
       "       [0.51882688, 0.48117312],\n",
       "       [0.58466197, 0.41533803],\n",
       "       [0.54120013, 0.45879987],\n",
       "       [0.5512554 , 0.4487446 ],\n",
       "       [0.55698304, 0.44301696],\n",
       "       [0.5591271 , 0.4408729 ],\n",
       "       [0.53615936, 0.46384064],\n",
       "       [0.51520883, 0.48479117],\n",
       "       [0.55125539, 0.44874461],\n",
       "       [0.58606864, 0.41393136],\n",
       "       [0.55197212, 0.44802788],\n",
       "       [0.53111119, 0.46888881],\n",
       "       [0.60283319, 0.39716681],\n",
       "       [0.53760038, 0.46239962],\n",
       "       [0.53111119, 0.46888881],\n",
       "       [0.59517685, 0.40482315],\n",
       "       [0.53976072, 0.46023928],\n",
       "       [0.55053844, 0.44946156],\n",
       "       [0.56412117, 0.43587883],\n",
       "       [0.54551411, 0.45448589],\n",
       "       [0.51448501, 0.48551499],\n",
       "       [0.58325392, 0.41674608],\n",
       "       [0.55483685, 0.44516315],\n",
       "       [0.5634085 , 0.4365915 ],\n",
       "       [0.6069885 , 0.3930115 ],\n",
       "       [0.60421997, 0.39578003],\n",
       "       [0.54910392, 0.45089608],\n",
       "       [0.57477786, 0.42522214],\n",
       "       [0.51086509, 0.48913491],\n",
       "       [0.53976071, 0.46023929],\n",
       "       [0.52027354, 0.47972646],\n",
       "       [0.5769012 , 0.4230988 ],\n",
       "       [0.51303719, 0.48696281],\n",
       "       [0.57477787, 0.42522213],\n",
       "       [0.55698305, 0.44301695],\n",
       "       [0.55197213, 0.44802787],\n",
       "       [0.56412117, 0.43587883],\n",
       "       [0.52388872, 0.47611128],\n",
       "       [0.606297  , 0.393703  ],\n",
       "       [0.59587485, 0.40412515],\n",
       "       [0.55912708, 0.44087292],\n",
       "       [0.59028015, 0.40971985],\n",
       "       [0.51376112, 0.48623888],\n",
       "       [0.51665624, 0.48334376],\n",
       "       [0.57123283, 0.42876717],\n",
       "       [0.58113931, 0.41886069],\n",
       "       [0.5123132 , 0.4876868 ],\n",
       "       [0.53687996, 0.46312004],\n",
       "       [0.53904078, 0.46095922],\n",
       "       [0.5217199 , 0.4782801 ],\n",
       "       [0.56340853, 0.43659147],\n",
       "       [0.52388871, 0.47611129]])"
      ]
     },
     "execution_count": 71,
     "metadata": {},
     "output_type": "execute_result"
    }
   ],
   "source": [
    "logreg.predict_proba(X_train)"
   ]
  },
  {
   "cell_type": "code",
   "execution_count": 72,
   "metadata": {},
   "outputs": [
    {
     "data": {
      "text/plain": [
       "array([0.43944477, 0.44301697, 0.47683413, 0.46167934, 0.44802787,\n",
       "       0.46888881, 0.45089608, 0.48117315, 0.47394336, 0.4782801 ,\n",
       "       0.45736115, 0.44444751, 0.47394334, 0.46095923, 0.42451405,\n",
       "       0.45376752, 0.43089771, 0.4487446 , 0.44158736, 0.43944477,\n",
       "       0.4724986 , 0.44230203, 0.45808043, 0.44802787, 0.47177639,\n",
       "       0.45879988, 0.48406743, 0.47900323, 0.4380176 , 0.44230204,\n",
       "       0.42522213, 0.485515  , 0.44516314, 0.45520442, 0.40064097,\n",
       "       0.44230204, 0.44587899, 0.47249858, 0.40203347, 0.42734824,\n",
       "       0.41956622, 0.48551501, 0.41745061, 0.46095924, 0.42239164,\n",
       "       0.42805757, 0.47394334, 0.44587898, 0.41604188, 0.44158736,\n",
       "       0.43018724, 0.41252607, 0.45879987, 0.43730443, 0.47972644,\n",
       "       0.48406744, 0.48044976, 0.44587898, 0.47755708, 0.46816721,\n",
       "       0.44659505, 0.44230204, 0.48406743, 0.48913492, 0.44659505,\n",
       "       0.45664206, 0.45808044, 0.44444751, 0.47538852, 0.43587881,\n",
       "       0.4782801 , 0.46312005, 0.47972644, 0.39786082, 0.4847912 ,\n",
       "       0.48768679, 0.46095922, 0.43516643, 0.45736115, 0.44087289,\n",
       "       0.48768679, 0.40482314, 0.48841084, 0.40342754, 0.40761901,\n",
       "       0.41533802, 0.46167934, 0.40622032, 0.44731135, 0.43730443,\n",
       "       0.48044977, 0.46744577, 0.46023927, 0.45304936, 0.45879987,\n",
       "       0.45592315, 0.41533803, 0.40342753, 0.4501787 , 0.44015871,\n",
       "       0.4487446 , 0.46600329, 0.43516641, 0.46239962, 0.48696281,\n",
       "       0.46600327, 0.48189662, 0.46384064, 0.44802787, 0.47611128,\n",
       "       0.4487446 , 0.45664206, 0.48406745, 0.48334374, 0.47538851,\n",
       "       0.47972646, 0.41252609, 0.41463451, 0.40133701, 0.44802786,\n",
       "       0.45233141, 0.45879987, 0.47322093, 0.43516641, 0.45592315,\n",
       "       0.46456138, 0.47683413, 0.45304935, 0.44015869, 0.43659149,\n",
       "       0.40412514, 0.44587898, 0.46816724, 0.39716681, 0.45592315,\n",
       "       0.43730442, 0.42239164, 0.47900322, 0.39786082, 0.46384064,\n",
       "       0.45664206, 0.47538853, 0.43873107, 0.44946154, 0.46023929,\n",
       "       0.47033234, 0.41956622, 0.40133701, 0.45736116, 0.46239963,\n",
       "       0.44301695, 0.43801762, 0.47611126, 0.43587883, 0.48551499,\n",
       "       0.46239962, 0.46961051, 0.44230203, 0.45664204, 0.40412514,\n",
       "       0.39508727, 0.46456139, 0.4487446 , 0.45736115, 0.39925009,\n",
       "       0.44587898, 0.44301696, 0.4869628 , 0.45664206, 0.43445428,\n",
       "       0.43089771, 0.39925009, 0.43587883, 0.44587898, 0.45808043,\n",
       "       0.46023928, 0.44802787, 0.48334374, 0.43659148, 0.4308977 ,\n",
       "       0.48334375, 0.39439493, 0.45592315, 0.47538852, 0.42309879,\n",
       "       0.48044977, 0.45592314, 0.43516643, 0.4818966 , 0.41604188,\n",
       "       0.4230988 , 0.41886069, 0.41042087, 0.44301696, 0.40691947,\n",
       "       0.43944477, 0.48913492, 0.43089772, 0.4717764 , 0.43516641,\n",
       "       0.45736116, 0.4487446 , 0.42663923, 0.44230203, 0.44087292,\n",
       "       0.44230203, 0.43801763, 0.48189659, 0.46384064, 0.45448587,\n",
       "       0.42522213, 0.47611127, 0.45520442, 0.39716682, 0.43587883,\n",
       "       0.45448588, 0.44087292, 0.44587898, 0.44587898, 0.43801763,\n",
       "       0.41042085, 0.43659148, 0.45304936, 0.39578004, 0.44301696,\n",
       "       0.47683412, 0.46384063, 0.47177639, 0.44802787, 0.43801762,\n",
       "       0.44373212, 0.46239963, 0.45736115, 0.44230203, 0.44230203,\n",
       "       0.46816723, 0.4365915 , 0.47466588, 0.44015871, 0.4688888 ,\n",
       "       0.44802788, 0.39716682, 0.47972646, 0.41604187, 0.48841083,\n",
       "       0.46600329, 0.46312005, 0.42239162, 0.41815547, 0.4696105 ,\n",
       "       0.45304936, 0.44230204, 0.47755707, 0.4523314 , 0.47033235,\n",
       "       0.48623888, 0.45664204, 0.44946153, 0.45448589, 0.48334375,\n",
       "       0.48117313, 0.44659506, 0.47466589, 0.4869628 , 0.48334377,\n",
       "       0.42380627, 0.40412515, 0.46888881, 0.48117312, 0.41533803,\n",
       "       0.45879987, 0.4487446 , 0.44301696, 0.4408729 , 0.46384064,\n",
       "       0.48479117, 0.44874461, 0.41393136, 0.44802788, 0.46888881,\n",
       "       0.39716681, 0.46239962, 0.46888881, 0.40482315, 0.46023928,\n",
       "       0.44946156, 0.43587883, 0.45448589, 0.48551499, 0.41674608,\n",
       "       0.44516315, 0.4365915 , 0.3930115 , 0.39578003, 0.45089608,\n",
       "       0.42522214, 0.48913491, 0.46023929, 0.47972646, 0.4230988 ,\n",
       "       0.48696281, 0.42522213, 0.44301695, 0.44802787, 0.43587883,\n",
       "       0.47611128, 0.393703  , 0.40412515, 0.44087292, 0.40971985,\n",
       "       0.48623888, 0.48334376, 0.42876717, 0.41886069, 0.4876868 ,\n",
       "       0.46312004, 0.46095922, 0.4782801 , 0.43659147, 0.47611129])"
      ]
     },
     "execution_count": 72,
     "metadata": {},
     "output_type": "execute_result"
    }
   ],
   "source": [
    "y_train_prob = logreg.predict_proba(X_train)[:,1] # 0 : not occurance and 1: occurance probability\n",
    "# this will give only purchase probability\n",
    "y_train_prob"
   ]
  },
  {
   "cell_type": "code",
   "execution_count": 73,
   "metadata": {},
   "outputs": [
    {
     "data": {
      "text/plain": [
       "array([0, 0, 0, 0, 0, 0, 0, 0, 0, 0, 0, 0, 0, 0, 0, 0, 0, 0, 0, 0, 0, 0,\n",
       "       0, 0, 0, 0, 0, 0, 0, 0, 0, 0, 0, 0, 0, 0, 0, 0, 0, 0, 0, 0, 0, 0,\n",
       "       0, 0, 0, 0, 0, 0, 0, 0, 0, 0, 0, 0, 0, 0, 0, 0, 0, 0, 0, 0, 0, 0,\n",
       "       0, 0, 0, 0, 0, 0, 0, 0, 0, 0, 0, 0, 0, 0, 0, 0, 0, 0, 0, 0, 0, 0,\n",
       "       0, 0, 0, 0, 0, 0, 0, 0, 0, 0, 0, 0, 0, 0, 0, 0, 0, 0, 0, 0, 0, 0,\n",
       "       0, 0, 0, 0, 0, 0, 0, 0, 0, 0, 0, 0, 0, 0, 0, 0, 0, 0, 0, 0, 0, 0,\n",
       "       0, 0, 0, 0, 0, 0, 0, 0, 0, 0, 0, 0, 0, 0, 0, 0, 0, 0, 0, 0, 0, 0,\n",
       "       0, 0, 0, 0, 0, 0, 0, 0, 0, 0, 0, 0, 0, 0, 0, 0, 0, 0, 0, 0, 0, 0,\n",
       "       0, 0, 0, 0, 0, 0, 0, 0, 0, 0, 0, 0, 0, 0, 0, 0, 0, 0, 0, 0, 0, 0,\n",
       "       0, 0, 0, 0, 0, 0, 0, 0, 0, 0, 0, 0, 0, 0, 0, 0, 0, 0, 0, 0, 0, 0,\n",
       "       0, 0, 0, 0, 0, 0, 0, 0, 0, 0, 0, 0, 0, 0, 0, 0, 0, 0, 0, 0, 0, 0,\n",
       "       0, 0, 0, 0, 0, 0, 0, 0, 0, 0, 0, 0, 0, 0, 0, 0, 0, 0, 0, 0, 0, 0,\n",
       "       0, 0, 0, 0, 0, 0, 0, 0, 0, 0, 0, 0, 0, 0, 0, 0, 0, 0, 0, 0, 0, 0,\n",
       "       0, 0, 0, 0, 0, 0, 0, 0, 0, 0, 0, 0, 0, 0, 0, 0, 0, 0, 0, 0, 0, 0,\n",
       "       0, 0, 0, 0, 0, 0, 0, 0, 0, 0, 0, 0], dtype=int64)"
      ]
     },
     "execution_count": 73,
     "metadata": {},
     "output_type": "execute_result"
    }
   ],
   "source": [
    "y_train_pred = logreg.predict(X_train)\n",
    "y_train_pred"
   ]
  },
  {
   "cell_type": "code",
   "execution_count": 74,
   "metadata": {},
   "outputs": [
    {
     "data": {
      "text/html": [
       "<div>\n",
       "<style scoped>\n",
       "    .dataframe tbody tr th:only-of-type {\n",
       "        vertical-align: middle;\n",
       "    }\n",
       "\n",
       "    .dataframe tbody tr th {\n",
       "        vertical-align: top;\n",
       "    }\n",
       "\n",
       "    .dataframe thead th {\n",
       "        text-align: right;\n",
       "    }\n",
       "</style>\n",
       "<table border=\"1\" class=\"dataframe\">\n",
       "  <thead>\n",
       "    <tr style=\"text-align: right;\">\n",
       "      <th></th>\n",
       "      <th>Age</th>\n",
       "      <th>EstimatedSalary</th>\n",
       "      <th>y_train_actuals</th>\n",
       "      <th>y_train_prob</th>\n",
       "      <th>y_train_pred</th>\n",
       "    </tr>\n",
       "  </thead>\n",
       "  <tbody>\n",
       "    <tr>\n",
       "      <th>190</th>\n",
       "      <td>24</td>\n",
       "      <td>84000</td>\n",
       "      <td>0</td>\n",
       "      <td>0.439445</td>\n",
       "      <td>0</td>\n",
       "    </tr>\n",
       "    <tr>\n",
       "      <th>46</th>\n",
       "      <td>25</td>\n",
       "      <td>79000</td>\n",
       "      <td>0</td>\n",
       "      <td>0.443017</td>\n",
       "      <td>0</td>\n",
       "    </tr>\n",
       "    <tr>\n",
       "      <th>50</th>\n",
       "      <td>24</td>\n",
       "      <td>32000</td>\n",
       "      <td>0</td>\n",
       "      <td>0.476834</td>\n",
       "      <td>0</td>\n",
       "    </tr>\n",
       "    <tr>\n",
       "      <th>377</th>\n",
       "      <td>42</td>\n",
       "      <td>53000</td>\n",
       "      <td>0</td>\n",
       "      <td>0.461679</td>\n",
       "      <td>0</td>\n",
       "    </tr>\n",
       "    <tr>\n",
       "      <th>121</th>\n",
       "      <td>37</td>\n",
       "      <td>72000</td>\n",
       "      <td>0</td>\n",
       "      <td>0.448028</td>\n",
       "      <td>0</td>\n",
       "    </tr>\n",
       "    <tr>\n",
       "      <th>...</th>\n",
       "      <td>...</td>\n",
       "      <td>...</td>\n",
       "      <td>...</td>\n",
       "      <td>...</td>\n",
       "      <td>...</td>\n",
       "    </tr>\n",
       "    <tr>\n",
       "      <th>343</th>\n",
       "      <td>47</td>\n",
       "      <td>51000</td>\n",
       "      <td>1</td>\n",
       "      <td>0.463120</td>\n",
       "      <td>0</td>\n",
       "    </tr>\n",
       "    <tr>\n",
       "      <th>359</th>\n",
       "      <td>42</td>\n",
       "      <td>54000</td>\n",
       "      <td>0</td>\n",
       "      <td>0.460959</td>\n",
       "      <td>0</td>\n",
       "    </tr>\n",
       "    <tr>\n",
       "      <th>323</th>\n",
       "      <td>48</td>\n",
       "      <td>30000</td>\n",
       "      <td>1</td>\n",
       "      <td>0.478280</td>\n",
       "      <td>0</td>\n",
       "    </tr>\n",
       "    <tr>\n",
       "      <th>280</th>\n",
       "      <td>59</td>\n",
       "      <td>88000</td>\n",
       "      <td>1</td>\n",
       "      <td>0.436591</td>\n",
       "      <td>0</td>\n",
       "    </tr>\n",
       "    <tr>\n",
       "      <th>8</th>\n",
       "      <td>25</td>\n",
       "      <td>33000</td>\n",
       "      <td>0</td>\n",
       "      <td>0.476111</td>\n",
       "      <td>0</td>\n",
       "    </tr>\n",
       "  </tbody>\n",
       "</table>\n",
       "<p>320 rows × 5 columns</p>\n",
       "</div>"
      ],
      "text/plain": [
       "     Age  EstimatedSalary  y_train_actuals  y_train_prob  y_train_pred\n",
       "190   24            84000                0      0.439445             0\n",
       "46    25            79000                0      0.443017             0\n",
       "50    24            32000                0      0.476834             0\n",
       "377   42            53000                0      0.461679             0\n",
       "121   37            72000                0      0.448028             0\n",
       "..   ...              ...              ...           ...           ...\n",
       "343   47            51000                1      0.463120             0\n",
       "359   42            54000                0      0.460959             0\n",
       "323   48            30000                1      0.478280             0\n",
       "280   59            88000                1      0.436591             0\n",
       "8     25            33000                0      0.476111             0\n",
       "\n",
       "[320 rows x 5 columns]"
      ]
     },
     "execution_count": 74,
     "metadata": {},
     "output_type": "execute_result"
    }
   ],
   "source": [
    "X_train_op = X_train.copy()\n",
    "X_train_op[\"y_train_actuals\"] = y_train[\"Purchased\"]\n",
    "X_train_op[\"y_train_prob\"] = y_train_prob\n",
    "X_train_op[\"y_train_pred\"] = y_train_pred\n",
    "X_train_op"
   ]
  },
  {
   "cell_type": "code",
   "execution_count": 75,
   "metadata": {},
   "outputs": [
    {
     "data": {
      "text/plain": [
       "0    208\n",
       "1    112\n",
       "Name: y_train_actuals, dtype: int64"
      ]
     },
     "execution_count": 75,
     "metadata": {},
     "output_type": "execute_result"
    }
   ],
   "source": [
    "X_train_op[\"y_train_actuals\"].value_counts()"
   ]
  },
  {
   "cell_type": "code",
   "execution_count": 76,
   "metadata": {},
   "outputs": [
    {
     "data": {
      "text/plain": [
       "0    320\n",
       "Name: y_train_pred, dtype: int64"
      ]
     },
     "execution_count": 76,
     "metadata": {},
     "output_type": "execute_result"
    }
   ],
   "source": [
    "X_train_op[\"y_train_pred\"].value_counts()"
   ]
  },
  {
   "cell_type": "code",
   "execution_count": 77,
   "metadata": {},
   "outputs": [
    {
     "data": {
      "text/plain": [
       "array([[208,   0],\n",
       "       [112,   0]], dtype=int64)"
      ]
     },
     "execution_count": 77,
     "metadata": {},
     "output_type": "execute_result"
    }
   ],
   "source": [
    "cnf_matrix = confusion_matrix(X_train_op[\"y_train_actuals\"],X_train_op[\"y_train_pred\"])\n",
    "cnf_matrix"
   ]
  },
  {
   "cell_type": "markdown",
   "metadata": {},
   "source": [
    "Insights : <br>\n",
    "Actuals - 0 : 208 and 1 : 112 <br>\n",
    "Predicted - 0 : 0 and 1: 0 <br>\n",
    "<font color = \"Brown\">In this Secnario the predicted value is not reliable.<br>"
   ]
  },
  {
   "cell_type": "markdown",
   "metadata": {},
   "source": [
    "# <font color = \"red\"> All value Predicted are 0.. why?"
   ]
  },
  {
   "cell_type": "code",
   "execution_count": 78,
   "metadata": {},
   "outputs": [
    {
     "data": {
      "text/html": [
       "<div>\n",
       "<style scoped>\n",
       "    .dataframe tbody tr th:only-of-type {\n",
       "        vertical-align: middle;\n",
       "    }\n",
       "\n",
       "    .dataframe tbody tr th {\n",
       "        vertical-align: top;\n",
       "    }\n",
       "\n",
       "    .dataframe thead th {\n",
       "        text-align: right;\n",
       "    }\n",
       "</style>\n",
       "<table border=\"1\" class=\"dataframe\">\n",
       "  <thead>\n",
       "    <tr style=\"text-align: right;\">\n",
       "      <th></th>\n",
       "      <th>Gender</th>\n",
       "      <th>Age</th>\n",
       "      <th>EstimatedSalary</th>\n",
       "      <th>Purchased</th>\n",
       "    </tr>\n",
       "  </thead>\n",
       "  <tbody>\n",
       "    <tr>\n",
       "      <th>0</th>\n",
       "      <td>Male</td>\n",
       "      <td>19</td>\n",
       "      <td>19000</td>\n",
       "      <td>0</td>\n",
       "    </tr>\n",
       "    <tr>\n",
       "      <th>1</th>\n",
       "      <td>Male</td>\n",
       "      <td>35</td>\n",
       "      <td>20000</td>\n",
       "      <td>0</td>\n",
       "    </tr>\n",
       "    <tr>\n",
       "      <th>2</th>\n",
       "      <td>Female</td>\n",
       "      <td>26</td>\n",
       "      <td>43000</td>\n",
       "      <td>0</td>\n",
       "    </tr>\n",
       "    <tr>\n",
       "      <th>3</th>\n",
       "      <td>Female</td>\n",
       "      <td>27</td>\n",
       "      <td>57000</td>\n",
       "      <td>0</td>\n",
       "    </tr>\n",
       "    <tr>\n",
       "      <th>4</th>\n",
       "      <td>Male</td>\n",
       "      <td>19</td>\n",
       "      <td>76000</td>\n",
       "      <td>0</td>\n",
       "    </tr>\n",
       "  </tbody>\n",
       "</table>\n",
       "</div>"
      ],
      "text/plain": [
       "   Gender  Age  EstimatedSalary  Purchased\n",
       "0    Male   19            19000          0\n",
       "1    Male   35            20000          0\n",
       "2  Female   26            43000          0\n",
       "3  Female   27            57000          0\n",
       "4    Male   19            76000          0"
      ]
     },
     "execution_count": 78,
     "metadata": {},
     "output_type": "execute_result"
    }
   ],
   "source": [
    "df.head()"
   ]
  },
  {
   "cell_type": "code",
   "execution_count": 79,
   "metadata": {},
   "outputs": [
    {
     "data": {
      "text/plain": [
       "37.655"
      ]
     },
     "execution_count": 79,
     "metadata": {},
     "output_type": "execute_result"
    }
   ],
   "source": [
    "df[\"Age\"].mean()"
   ]
  },
  {
   "cell_type": "markdown",
   "metadata": {},
   "source": [
    "# <font color = \"Yellow\"> Model : 3  <font color = \"green\">Standardize the Model<br>\n",
    "    bacause the input variable Age and EstimatedSalary have different units."
   ]
  },
  {
   "cell_type": "code",
   "execution_count": 80,
   "metadata": {},
   "outputs": [],
   "source": [
    "from sklearn.preprocessing import StandardScaler"
   ]
  },
  {
   "cell_type": "code",
   "execution_count": 81,
   "metadata": {},
   "outputs": [],
   "source": [
    "X = df[[\"Age\", \"EstimatedSalary\"]]\n",
    "y = df[[\"Purchased\"]]"
   ]
  },
  {
   "cell_type": "code",
   "execution_count": 82,
   "metadata": {},
   "outputs": [],
   "source": [
    "sc = StandardScaler()\n",
    "X = sc.fit_transform(X)\n",
    "\n",
    "X = pd.DataFrame(X, columns=[\"Age\",\"EstimatedSalary\"])"
   ]
  },
  {
   "cell_type": "code",
   "execution_count": 83,
   "metadata": {},
   "outputs": [
    {
     "data": {
      "text/html": [
       "<div>\n",
       "<style scoped>\n",
       "    .dataframe tbody tr th:only-of-type {\n",
       "        vertical-align: middle;\n",
       "    }\n",
       "\n",
       "    .dataframe tbody tr th {\n",
       "        vertical-align: top;\n",
       "    }\n",
       "\n",
       "    .dataframe thead th {\n",
       "        text-align: right;\n",
       "    }\n",
       "</style>\n",
       "<table border=\"1\" class=\"dataframe\">\n",
       "  <thead>\n",
       "    <tr style=\"text-align: right;\">\n",
       "      <th></th>\n",
       "      <th>Age</th>\n",
       "      <th>EstimatedSalary</th>\n",
       "    </tr>\n",
       "  </thead>\n",
       "  <tbody>\n",
       "    <tr>\n",
       "      <th>0</th>\n",
       "      <td>-1.781797</td>\n",
       "      <td>-1.490046</td>\n",
       "    </tr>\n",
       "    <tr>\n",
       "      <th>1</th>\n",
       "      <td>-0.253587</td>\n",
       "      <td>-1.460681</td>\n",
       "    </tr>\n",
       "    <tr>\n",
       "      <th>2</th>\n",
       "      <td>-1.113206</td>\n",
       "      <td>-0.785290</td>\n",
       "    </tr>\n",
       "    <tr>\n",
       "      <th>3</th>\n",
       "      <td>-1.017692</td>\n",
       "      <td>-0.374182</td>\n",
       "    </tr>\n",
       "    <tr>\n",
       "      <th>4</th>\n",
       "      <td>-1.781797</td>\n",
       "      <td>0.183751</td>\n",
       "    </tr>\n",
       "  </tbody>\n",
       "</table>\n",
       "</div>"
      ],
      "text/plain": [
       "        Age  EstimatedSalary\n",
       "0 -1.781797        -1.490046\n",
       "1 -0.253587        -1.460681\n",
       "2 -1.113206        -0.785290\n",
       "3 -1.017692        -0.374182\n",
       "4 -1.781797         0.183751"
      ]
     },
     "execution_count": 83,
     "metadata": {},
     "output_type": "execute_result"
    }
   ],
   "source": [
    "X.head()"
   ]
  },
  {
   "cell_type": "code",
   "execution_count": 84,
   "metadata": {},
   "outputs": [
    {
     "data": {
      "text/plain": [
       "(array([[2.25824354, 1.07540363]]), array([-1.11944669]))"
      ]
     },
     "execution_count": 84,
     "metadata": {},
     "output_type": "execute_result"
    }
   ],
   "source": [
    "X_train,X_test,y_train,y_test = train_test_split(X,y, train_size=0.8, random_state=100)\n",
    "logreg = LogisticRegression()\n",
    "logreg = logreg.fit(X_train,y_train)\n",
    "logreg.coef_, logreg.intercept_"
   ]
  },
  {
   "cell_type": "code",
   "execution_count": 85,
   "metadata": {},
   "outputs": [
    {
     "data": {
      "text/plain": [
       "array([0.02622464, 0.02774171, 0.005186  , 0.32938278, 0.23335998,\n",
       "       0.05995666, 0.00843561, 0.00146486, 0.00248984, 0.41124109,\n",
       "       0.20032391, 0.35430802, 0.61720769, 0.12200805, 0.88180065,\n",
       "       0.41008641, 0.49996161, 0.31224804, 0.015664  , 0.0489203 ,\n",
       "       0.06329824, 0.53535515, 0.11275279, 0.16509196, 0.58825549,\n",
       "       0.02145644, 0.26059978, 0.45642971, 0.86306395, 0.06523264,\n",
       "       0.96346149, 0.00676997, 0.08648962, 0.04674972, 0.91954686,\n",
       "       0.07968418, 0.05624056, 0.90605636, 0.21522477, 0.98601778,\n",
       "       0.57185406, 0.0028681 , 0.38258024, 0.01955496, 0.73611463,\n",
       "       0.20041853, 0.56513306, 0.21242162, 0.30009692, 0.03633948,\n",
       "       0.30336136, 0.99101663, 0.15934345, 0.09747571, 0.50234712,\n",
       "       0.03917428, 0.04556945, 0.25073466, 0.00955494, 0.67488111,\n",
       "       0.77666461, 0.03524966, 0.30424556, 0.00466936, 0.69316335,\n",
       "       0.14380057, 0.01170995, 0.2627857 , 0.74300203, 0.87388031,\n",
       "       0.16070544, 0.06207287, 0.50234712, 0.99697526, 0.00125117,\n",
       "       0.01170312, 0.33639547, 0.0388167 , 0.11595079, 0.92939456,\n",
       "       0.00616181, 0.99211623, 0.00164407, 0.32964373, 0.8704252 ,\n",
       "       0.51187535, 0.09789625, 0.91677127, 0.32596935, 0.03543245,\n",
       "       0.00443189, 0.42152046, 0.18085175, 0.41774699, 0.2657984 ,\n",
       "       0.12258357, 0.26290012, 0.43084288, 0.10461752, 0.07125292,\n",
       "       0.41138409, 0.20885579, 0.61240853, 0.27722892, 0.01493711,\n",
       "       0.92761503, 0.00141939, 0.15862656, 0.41905169, 0.08158387,\n",
       "       0.22775802, 0.2846914 , 0.00469434, 0.85726047, 0.92900297,\n",
       "       0.00368938, 0.69442785, 0.9350749 , 0.96329316, 0.90564947,\n",
       "       0.01214527, 0.2657984 , 0.01426006, 0.9317805 , 0.21063317,\n",
       "       0.031505  , 0.01220264, 0.76455457, 0.98399703, 0.24683695,\n",
       "       0.97786376, 0.38992626, 0.00208314, 0.96235478, 0.21063317,\n",
       "       0.53668859, 0.38131456, 0.90005957, 0.98905373, 0.08984258,\n",
       "       0.33056818, 0.02451639, 0.06179568, 0.45657624, 0.0106628 ,\n",
       "       0.55087943, 0.7970373 , 0.98417421, 0.02816269, 0.01486707,\n",
       "       0.68073544, 0.04229224, 0.86907663, 0.06953734, 0.33746136,\n",
       "       0.11540232, 0.15375825, 0.28154667, 0.9262021 , 0.95855574,\n",
       "       0.67865805, 0.00374898, 0.26789628, 0.58449755, 0.96649987,\n",
       "       0.1785677 , 0.19785334, 0.01846638, 0.1192273 , 0.26486838,\n",
       "       0.81901523, 0.97282281, 0.03057307, 0.4959405 , 0.05089795,\n",
       "       0.15106411, 0.41905169, 0.57025141, 0.77851911, 0.87447004,\n",
       "       0.31097124, 0.37403132, 0.03688598, 0.44213029, 0.88822642,\n",
       "       0.00288347, 0.29116571, 0.05852847, 0.03486693, 0.30009692,\n",
       "       0.63712517, 0.31919782, 0.5667403 , 0.05168061, 0.99544685,\n",
       "       0.05998996, 0.00466936, 0.06988505, 0.06519663, 0.85215439,\n",
       "       0.02816269, 0.26789628, 0.99115353, 0.48149972, 0.01997041,\n",
       "       0.32714846, 0.01196077, 0.3736166 , 0.08984258, 0.35185868,\n",
       "       0.98053044, 0.48790036, 0.1816474 , 0.74729895, 0.05681243,\n",
       "       0.15586283, 0.01055644, 0.1785677 , 0.38992626, 0.00780253,\n",
       "       0.98746616, 0.87035858, 0.13682999, 0.75903868, 0.07739886,\n",
       "       0.37487221, 0.56776651, 0.32701848, 0.41905169, 0.13874085,\n",
       "       0.26894915, 0.00268025, 0.32361773, 0.28154667, 0.53535515,\n",
       "       0.0755061 , 0.01574689, 0.50368747, 0.07125292, 0.51291983,\n",
       "       0.02759746, 0.70444728, 0.03101789, 0.89778483, 0.00481844,\n",
       "       0.08239095, 0.16288681, 0.99266929, 0.9668264 , 0.93140117,\n",
       "       0.41774699, 0.02860628, 0.03399535, 0.0645818 , 0.44345314,\n",
       "       0.00117468, 0.9396561 , 0.91790141, 0.00893304, 0.35895776,\n",
       "       0.28566398, 0.08162813, 0.00874516, 0.01846638, 0.0016529 ,\n",
       "       0.57826063, 0.76849832, 0.02123245, 0.84181109, 0.1081857 ,\n",
       "       0.10963205, 0.16078511, 0.2752032 , 0.74413695, 0.15862656,\n",
       "       0.60716496, 0.07480183, 0.32036408, 0.00956053, 0.01123037,\n",
       "       0.99636603, 0.13931193, 0.04889283, 0.88401773, 0.1036173 ,\n",
       "       0.00585232, 0.12490901, 0.01105962, 0.4931124 , 0.21252044,\n",
       "       0.00706457, 0.05514377, 0.98911162, 0.9847394 , 0.00443449,\n",
       "       0.710858  , 0.01360535, 0.0106628 , 0.01332828, 0.16882034,\n",
       "       0.00217167, 0.9703403 , 0.52749173, 0.3676389 , 0.10317499,\n",
       "       0.06681282, 0.91056988, 0.76849832, 0.00688302, 0.57447746,\n",
       "       0.00344589, 0.04038036, 0.36528643, 0.57956765, 0.00497226,\n",
       "       0.57549907, 0.33639547, 0.46427467, 0.98306099, 0.00663116])"
      ]
     },
     "execution_count": 85,
     "metadata": {},
     "output_type": "execute_result"
    }
   ],
   "source": [
    "y_train_prob = logreg.predict_proba(X_train)[:,1] \n",
    "y_train_prob"
   ]
  },
  {
   "cell_type": "code",
   "execution_count": 86,
   "metadata": {},
   "outputs": [
    {
     "data": {
      "text/plain": [
       "array([0, 0, 0, 0, 0, 0, 0, 0, 0, 0, 0, 0, 1, 0, 1, 0, 0, 0, 0, 0, 0, 1,\n",
       "       0, 0, 1, 0, 0, 0, 1, 0, 1, 0, 0, 0, 1, 0, 0, 1, 0, 1, 1, 0, 0, 0,\n",
       "       1, 0, 1, 0, 0, 0, 0, 1, 0, 0, 1, 0, 0, 0, 0, 1, 1, 0, 0, 0, 1, 0,\n",
       "       0, 0, 1, 1, 0, 0, 1, 1, 0, 0, 0, 0, 0, 1, 0, 1, 0, 0, 1, 1, 0, 1,\n",
       "       0, 0, 0, 0, 0, 0, 0, 0, 0, 0, 0, 0, 0, 0, 1, 0, 0, 1, 0, 0, 0, 0,\n",
       "       0, 0, 0, 1, 1, 0, 1, 1, 1, 1, 0, 0, 0, 1, 0, 0, 0, 1, 1, 0, 1, 0,\n",
       "       0, 1, 0, 1, 0, 1, 1, 0, 0, 0, 0, 0, 0, 1, 1, 1, 0, 0, 1, 0, 1, 0,\n",
       "       0, 0, 0, 0, 1, 1, 1, 0, 0, 1, 1, 0, 0, 0, 0, 0, 1, 1, 0, 0, 0, 0,\n",
       "       0, 1, 1, 1, 0, 0, 0, 0, 1, 0, 0, 0, 0, 0, 1, 0, 1, 0, 1, 0, 0, 0,\n",
       "       0, 1, 0, 0, 1, 0, 0, 0, 0, 0, 0, 0, 1, 0, 0, 1, 0, 0, 0, 0, 0, 0,\n",
       "       1, 1, 0, 1, 0, 0, 1, 0, 0, 0, 0, 0, 0, 0, 1, 0, 0, 1, 0, 1, 0, 1,\n",
       "       0, 1, 0, 0, 0, 1, 1, 1, 0, 0, 0, 0, 0, 0, 1, 1, 0, 0, 0, 0, 0, 0,\n",
       "       0, 1, 1, 0, 1, 0, 0, 0, 0, 1, 0, 1, 0, 0, 0, 0, 1, 0, 0, 1, 0, 0,\n",
       "       0, 0, 0, 0, 0, 0, 1, 1, 0, 1, 0, 0, 0, 0, 0, 1, 1, 0, 0, 0, 1, 1,\n",
       "       0, 1, 0, 0, 0, 1, 0, 1, 0, 0, 1, 0], dtype=int64)"
      ]
     },
     "execution_count": 86,
     "metadata": {},
     "output_type": "execute_result"
    }
   ],
   "source": [
    "y_train_pred = logreg.predict(X_train)\n",
    "y_train_pred"
   ]
  },
  {
   "cell_type": "code",
   "execution_count": 87,
   "metadata": {},
   "outputs": [
    {
     "data": {
      "text/html": [
       "<div>\n",
       "<style scoped>\n",
       "    .dataframe tbody tr th:only-of-type {\n",
       "        vertical-align: middle;\n",
       "    }\n",
       "\n",
       "    .dataframe tbody tr th {\n",
       "        vertical-align: top;\n",
       "    }\n",
       "\n",
       "    .dataframe thead th {\n",
       "        text-align: right;\n",
       "    }\n",
       "</style>\n",
       "<table border=\"1\" class=\"dataframe\">\n",
       "  <thead>\n",
       "    <tr style=\"text-align: right;\">\n",
       "      <th></th>\n",
       "      <th>Age</th>\n",
       "      <th>EstimatedSalary</th>\n",
       "      <th>y_train_actuals</th>\n",
       "      <th>y_train_prob</th>\n",
       "      <th>y_train_pred</th>\n",
       "    </tr>\n",
       "  </thead>\n",
       "  <tbody>\n",
       "    <tr>\n",
       "      <th>343</th>\n",
       "      <td>0.892570</td>\n",
       "      <td>-0.550371</td>\n",
       "      <td>1</td>\n",
       "      <td>0.575499</td>\n",
       "      <td>1</td>\n",
       "    </tr>\n",
       "    <tr>\n",
       "      <th>359</th>\n",
       "      <td>0.415005</td>\n",
       "      <td>-0.462276</td>\n",
       "      <td>0</td>\n",
       "      <td>0.336395</td>\n",
       "      <td>0</td>\n",
       "    </tr>\n",
       "    <tr>\n",
       "      <th>323</th>\n",
       "      <td>0.988083</td>\n",
       "      <td>-1.167033</td>\n",
       "      <td>1</td>\n",
       "      <td>0.464275</td>\n",
       "      <td>0</td>\n",
       "    </tr>\n",
       "    <tr>\n",
       "      <th>280</th>\n",
       "      <td>2.038728</td>\n",
       "      <td>0.536129</td>\n",
       "      <td>1</td>\n",
       "      <td>0.983061</td>\n",
       "      <td>1</td>\n",
       "    </tr>\n",
       "    <tr>\n",
       "      <th>8</th>\n",
       "      <td>-1.208719</td>\n",
       "      <td>-1.078938</td>\n",
       "      <td>0</td>\n",
       "      <td>0.006631</td>\n",
       "      <td>0</td>\n",
       "    </tr>\n",
       "  </tbody>\n",
       "</table>\n",
       "</div>"
      ],
      "text/plain": [
       "          Age  EstimatedSalary  y_train_actuals  y_train_prob  y_train_pred\n",
       "343  0.892570        -0.550371                1      0.575499             1\n",
       "359  0.415005        -0.462276                0      0.336395             0\n",
       "323  0.988083        -1.167033                1      0.464275             0\n",
       "280  2.038728         0.536129                1      0.983061             1\n",
       "8   -1.208719        -1.078938                0      0.006631             0"
      ]
     },
     "execution_count": 87,
     "metadata": {},
     "output_type": "execute_result"
    }
   ],
   "source": [
    "X_train_op = X_train.copy()\n",
    "X_train_op[\"y_train_actuals\"] = y_train[\"Purchased\"]\n",
    "X_train_op[\"y_train_prob\"] = y_train_prob\n",
    "X_train_op[\"y_train_pred\"] = y_train_pred\n",
    "\n",
    "# by default threshold is 0.5 but we can change it\n",
    "#X_train_op[\"y_train_pred\"] = np.where(X_train_op[\"y_train_prob\"]>0.5,1,0)\n",
    "X_train_op.tail()"
   ]
  },
  {
   "cell_type": "code",
   "execution_count": 88,
   "metadata": {},
   "outputs": [
    {
     "data": {
      "text/plain": [
       "array([[192,  16],\n",
       "       [ 31,  81]], dtype=int64)"
      ]
     },
     "execution_count": 88,
     "metadata": {},
     "output_type": "execute_result"
    }
   ],
   "source": [
    "cnf_matrix = confusion_matrix(X_train_op[\"y_train_actuals\"],X_train_op[\"y_train_pred\"])\n",
    "cnf_matrix"
   ]
  },
  {
   "cell_type": "code",
   "execution_count": 89,
   "metadata": {},
   "outputs": [
    {
     "data": {
      "text/plain": [
       "0.853125"
      ]
     },
     "execution_count": 89,
     "metadata": {},
     "output_type": "execute_result"
    }
   ],
   "source": [
    "accuracy_score(X_train_op[\"y_train_actuals\"],X_train_op[\"y_train_pred\"])"
   ]
  },
  {
   "cell_type": "code",
   "execution_count": 90,
   "metadata": {},
   "outputs": [
    {
     "data": {
      "text/plain": [
       "Text(0.5, 1.0, 'scatter plot with purchase details')"
      ]
     },
     "execution_count": 90,
     "metadata": {},
     "output_type": "execute_result"
    },
    {
     "data": {
      "image/png": "[encoded data removed]",
      "text/plain": [
       "<Figure size 1080x288 with 1 Axes>"
      ]
     },
     "metadata": {
      "needs_background": "light"
     },
     "output_type": "display_data"
    }
   ],
   "source": [
    "plt.figure(figsize=(15,4))\n",
    "sns.scatterplot(X_train_op[\"EstimatedSalary\"],X_train_op[\"Age\"], hue=X_train_op[\"y_train_pred\"] ,color=\"blue\")\n",
    "plt.title(\"scatter plot with purchase details\", fontsize=14)"
   ]
  },
  {
   "cell_type": "code",
   "execution_count": 91,
   "metadata": {},
   "outputs": [
    {
     "data": {
      "text/plain": [
       "Text(0.5, 1.0, 'scatter plot with purchase details')"
      ]
     },
     "execution_count": 91,
     "metadata": {},
     "output_type": "execute_result"
    },
    {
     "data": {
      "image/png": "[encoded data removed]",
      "text/plain": [
       "<Figure size 1080x288 with 1 Axes>"
      ]
     },
     "metadata": {
      "needs_background": "light"
     },
     "output_type": "display_data"
    }
   ],
   "source": [
    "plt.figure(figsize=(15,4))\n",
    "sns.scatterplot(X_train_op[\"EstimatedSalary\"],X_train_op[\"Age\"], hue=X_train_op[\"y_train_actuals\"])\n",
    "plt.title(\"scatter plot with purchase details\", fontsize=14)"
   ]
  },
  {
   "cell_type": "code",
   "execution_count": 92,
   "metadata": {},
   "outputs": [
    {
     "data": {
      "text/plain": [
       "(2.258243538774428, 1.0754036321348848, -1.1194466850232756)"
      ]
     },
     "execution_count": 92,
     "metadata": {},
     "output_type": "execute_result"
    }
   ],
   "source": [
    "B1 = logreg.coef_[0][0]\n",
    "B2 = logreg.coef_[0][1]\n",
    "B0 = logreg.intercept_[0]\n",
    "B1, B2, B0"
   ]
  },
  {
   "cell_type": "markdown",
   "metadata": {},
   "source": [
    "# <font color = \"Red\">  Creating a Decision Boundary\n",
    "    y = B0 + X1B1 + X2B2\n",
    "    assume y to 0 formula Becomes : \n",
    "         X2       = -(B0 + X1B1) / B2\n",
    "  EstimatedSalary = -(intercept + Coefficient * Age) / Co\n"
   ]
  },
  {
   "cell_type": "code",
   "execution_count": 93,
   "metadata": {},
   "outputs": [],
   "source": [
    "X_train_op_1 = X_train_op.copy()"
   ]
  },
  {
   "cell_type": "code",
   "execution_count": 94,
   "metadata": {},
   "outputs": [],
   "source": [
    "X_train_op_1[\"Boundary\"] = -(B0+B1*X_train_op_1[\"Age\"]) / B2"
   ]
  },
  {
   "cell_type": "code",
   "execution_count": 95,
   "metadata": {},
   "outputs": [
    {
     "data": {
      "text/plain": [
       "(-2.0, 2.5)"
      ]
     },
     "execution_count": 95,
     "metadata": {},
     "output_type": "execute_result"
    },
    {
     "data": {
      "image/png": "[encoded data removed]",
      "text/plain": [
       "<Figure size 1080x432 with 1 Axes>"
      ]
     },
     "metadata": {
      "needs_background": "light"
     },
     "output_type": "display_data"
    }
   ],
   "source": [
    "plt.figure(figsize=(15,6))\n",
    "sns.scatterplot(X_train_op[\"EstimatedSalary\"],X_train_op[\"Age\"], hue=X_train_op[\"y_train_pred\"])\n",
    "plt.plot(X_train_op_1[\"Boundary\"],X_train_op[\"Age\"],color=\"red\")\n",
    "plt.title(\"scatter plot with purchase details with decision Boundary\", fontsize=14)\n",
    "plt.xlim(-2,2.5)"
   ]
  },
  {
   "cell_type": "code",
   "execution_count": 96,
   "metadata": {},
   "outputs": [
    {
     "data": {
      "text/plain": [
       "Text(0.5, 1.0, 'Train data Vs Best filt line by Logistic Regression')"
      ]
     },
     "execution_count": 96,
     "metadata": {},
     "output_type": "execute_result"
    },
    {
     "data": {
      "image/png": "[encoded data removed]",
      "text/plain": [
       "<Figure size 1080x360 with 1 Axes>"
      ]
     },
     "metadata": {
      "needs_background": "light"
     },
     "output_type": "display_data"
    }
   ],
   "source": [
    "plt.figure(figsize=(15,5))\n",
    "plt.scatter(X_train_op[\"Age\"],X_train_op[\"y_train_prob\"], color=\"blue\")\n",
    "plt.scatter(X_train_op[\"Age\"],X_train_op[\"y_train_actuals\"], color=\"red\")\n",
    "plt.scatter(X_train_op[\"Age\"],X_train_op[\"y_train_pred\"], color=\"yellow\")\n",
    "plt.axhline(0.5,color=\"Black\")\n",
    "plt.xlabel(\"Age\",fontsize=15)\n",
    "plt.ylabel(\"Probability\", fontsize=15)\n",
    "plt.title(\"Train data Vs Best filt line by Logistic Regression\", fontsize=15)"
   ]
  },
  {
   "cell_type": "markdown",
   "metadata": {},
   "source": [
    "# Insights :\n",
    "Red color : Error Point <br>\n",
    "Blue Color = Original Value<br>\n",
    "Yellow Color = Predicted Value"
   ]
  },
  {
   "cell_type": "markdown",
   "metadata": {},
   "source": [
    "# <font color = \"Green\"> For test data"
   ]
  },
  {
   "cell_type": "code",
   "execution_count": 97,
   "metadata": {},
   "outputs": [
    {
     "data": {
      "text/plain": [
       "0.825"
      ]
     },
     "execution_count": 97,
     "metadata": {},
     "output_type": "execute_result"
    }
   ],
   "source": [
    "accuracy_score(X_test_op[\"y_test_actuals\"],X_test_op[\"y_test_pred\"])"
   ]
  },
  {
   "cell_type": "markdown",
   "metadata": {},
   "source": [
    "# <font color = \"green\">  Now check for 3rd columns \"Gender\" needs to add or not?"
   ]
  },
  {
   "cell_type": "code",
   "execution_count": 98,
   "metadata": {},
   "outputs": [],
   "source": [
    "df_2 = df.copy()"
   ]
  },
  {
   "cell_type": "code",
   "execution_count": 99,
   "metadata": {},
   "outputs": [
    {
     "data": {
      "text/html": [
       "<div>\n",
       "<style scoped>\n",
       "    .dataframe tbody tr th:only-of-type {\n",
       "        vertical-align: middle;\n",
       "    }\n",
       "\n",
       "    .dataframe tbody tr th {\n",
       "        vertical-align: top;\n",
       "    }\n",
       "\n",
       "    .dataframe thead th {\n",
       "        text-align: right;\n",
       "    }\n",
       "</style>\n",
       "<table border=\"1\" class=\"dataframe\">\n",
       "  <thead>\n",
       "    <tr style=\"text-align: right;\">\n",
       "      <th></th>\n",
       "      <th>Gender</th>\n",
       "      <th>Age</th>\n",
       "      <th>EstimatedSalary</th>\n",
       "      <th>Purchased</th>\n",
       "    </tr>\n",
       "  </thead>\n",
       "  <tbody>\n",
       "    <tr>\n",
       "      <th>0</th>\n",
       "      <td>Male</td>\n",
       "      <td>19</td>\n",
       "      <td>19000</td>\n",
       "      <td>0</td>\n",
       "    </tr>\n",
       "    <tr>\n",
       "      <th>1</th>\n",
       "      <td>Male</td>\n",
       "      <td>35</td>\n",
       "      <td>20000</td>\n",
       "      <td>0</td>\n",
       "    </tr>\n",
       "    <tr>\n",
       "      <th>2</th>\n",
       "      <td>Female</td>\n",
       "      <td>26</td>\n",
       "      <td>43000</td>\n",
       "      <td>0</td>\n",
       "    </tr>\n",
       "    <tr>\n",
       "      <th>3</th>\n",
       "      <td>Female</td>\n",
       "      <td>27</td>\n",
       "      <td>57000</td>\n",
       "      <td>0</td>\n",
       "    </tr>\n",
       "    <tr>\n",
       "      <th>4</th>\n",
       "      <td>Male</td>\n",
       "      <td>19</td>\n",
       "      <td>76000</td>\n",
       "      <td>0</td>\n",
       "    </tr>\n",
       "  </tbody>\n",
       "</table>\n",
       "</div>"
      ],
      "text/plain": [
       "   Gender  Age  EstimatedSalary  Purchased\n",
       "0    Male   19            19000          0\n",
       "1    Male   35            20000          0\n",
       "2  Female   26            43000          0\n",
       "3  Female   27            57000          0\n",
       "4    Male   19            76000          0"
      ]
     },
     "execution_count": 99,
     "metadata": {},
     "output_type": "execute_result"
    }
   ],
   "source": [
    "df_2.head()"
   ]
  },
  {
   "cell_type": "code",
   "execution_count": 100,
   "metadata": {},
   "outputs": [
    {
     "data": {
      "text/plain": [
       "Gender  Purchased\n",
       "Female  0            127\n",
       "        1             77\n",
       "Male    0            130\n",
       "        1             66\n",
       "Name: Purchased, dtype: int64"
      ]
     },
     "execution_count": 100,
     "metadata": {},
     "output_type": "execute_result"
    }
   ],
   "source": [
    "df_2.groupby(\"Gender\")[\"Purchased\"].value_counts()"
   ]
  },
  {
   "cell_type": "code",
   "execution_count": 101,
   "metadata": {},
   "outputs": [
    {
     "data": {
      "text/html": [
       "<div>\n",
       "<style scoped>\n",
       "    .dataframe tbody tr th:only-of-type {\n",
       "        vertical-align: middle;\n",
       "    }\n",
       "\n",
       "    .dataframe tbody tr th {\n",
       "        vertical-align: top;\n",
       "    }\n",
       "\n",
       "    .dataframe thead th {\n",
       "        text-align: right;\n",
       "    }\n",
       "</style>\n",
       "<table border=\"1\" class=\"dataframe\">\n",
       "  <thead>\n",
       "    <tr style=\"text-align: right;\">\n",
       "      <th>Purchased</th>\n",
       "      <th>0</th>\n",
       "      <th>1</th>\n",
       "    </tr>\n",
       "    <tr>\n",
       "      <th>Gender</th>\n",
       "      <th></th>\n",
       "      <th></th>\n",
       "    </tr>\n",
       "  </thead>\n",
       "  <tbody>\n",
       "    <tr>\n",
       "      <th>Female</th>\n",
       "      <td>127</td>\n",
       "      <td>77</td>\n",
       "    </tr>\n",
       "    <tr>\n",
       "      <th>Male</th>\n",
       "      <td>130</td>\n",
       "      <td>66</td>\n",
       "    </tr>\n",
       "  </tbody>\n",
       "</table>\n",
       "</div>"
      ],
      "text/plain": [
       "Purchased    0   1\n",
       "Gender            \n",
       "Female     127  77\n",
       "Male       130  66"
      ]
     },
     "execution_count": 101,
     "metadata": {},
     "output_type": "execute_result"
    }
   ],
   "source": [
    "table = pd.pivot_table(df_2, columns = \"Purchased\", index = \"Gender\", values = \"Age\", aggfunc = \"count\" )\n",
    "table"
   ]
  },
  {
   "cell_type": "markdown",
   "metadata": {},
   "source": [
    "<font color = \"green\"> Chi-Square : To check dependences of 2 categorical columns.     \n",
    "    Null Hypothesis : output variable is dependent on input varable (gender is dependent on purchase)<br>\n",
    "    Alternate Hypothesis : output variable is independent on input varable (gender is independent on purchase)"
   ]
  },
  {
   "cell_type": "code",
   "execution_count": 102,
   "metadata": {},
   "outputs": [
    {
     "data": {
      "text/plain": [
       "(0.5550869364098915,\n",
       " 0.45624659183130645,\n",
       " 1,\n",
       " array([[131.07,  72.93],\n",
       "        [125.93,  70.07]]))"
      ]
     },
     "execution_count": 102,
     "metadata": {},
     "output_type": "execute_result"
    }
   ],
   "source": [
    "from scipy.stats import chi2_contingency\n",
    "chi2_contingency(table)\n",
    "# output as : (t-statistic, P-value, degree of freedom, array is expected table) "
   ]
  },
  {
   "cell_type": "code",
   "execution_count": 103,
   "metadata": {},
   "outputs": [],
   "source": [
    "tstatistic, Pvalue, dof, expected_table = chi2_contingency(table)\n",
    "#if pvalue < 0.05:\n",
    "#    print(\"Dependent(Reject H0)\")\n",
    "#else:\n",
    "#    print(\"Independent(fail to reject H0)\")"
   ]
  },
  {
   "cell_type": "markdown",
   "metadata": {},
   "source": [
    "<font color = \"green\"> pvalue is >0.05 than Purchase is not dependent on gender : gender does not make any significant difference in predictions "
   ]
  },
  {
   "cell_type": "markdown",
   "metadata": {},
   "source": [
    "# <font color = \"brown\"> Model - 4 :  Logistic Regression using Age & Estimated Salary(Standardize) and Gender"
   ]
  },
  {
   "cell_type": "code",
   "execution_count": 104,
   "metadata": {},
   "outputs": [
    {
     "data": {
      "text/html": [
       "<div>\n",
       "<style scoped>\n",
       "    .dataframe tbody tr th:only-of-type {\n",
       "        vertical-align: middle;\n",
       "    }\n",
       "\n",
       "    .dataframe tbody tr th {\n",
       "        vertical-align: top;\n",
       "    }\n",
       "\n",
       "    .dataframe thead th {\n",
       "        text-align: right;\n",
       "    }\n",
       "</style>\n",
       "<table border=\"1\" class=\"dataframe\">\n",
       "  <thead>\n",
       "    <tr style=\"text-align: right;\">\n",
       "      <th></th>\n",
       "      <th>Gender</th>\n",
       "      <th>Age</th>\n",
       "      <th>EstimatedSalary</th>\n",
       "      <th>Purchased</th>\n",
       "      <th>Gender_dummy</th>\n",
       "    </tr>\n",
       "  </thead>\n",
       "  <tbody>\n",
       "    <tr>\n",
       "      <th>0</th>\n",
       "      <td>Male</td>\n",
       "      <td>19</td>\n",
       "      <td>19000</td>\n",
       "      <td>0</td>\n",
       "      <td>1</td>\n",
       "    </tr>\n",
       "    <tr>\n",
       "      <th>1</th>\n",
       "      <td>Male</td>\n",
       "      <td>35</td>\n",
       "      <td>20000</td>\n",
       "      <td>0</td>\n",
       "      <td>1</td>\n",
       "    </tr>\n",
       "    <tr>\n",
       "      <th>2</th>\n",
       "      <td>Female</td>\n",
       "      <td>26</td>\n",
       "      <td>43000</td>\n",
       "      <td>0</td>\n",
       "      <td>0</td>\n",
       "    </tr>\n",
       "    <tr>\n",
       "      <th>3</th>\n",
       "      <td>Female</td>\n",
       "      <td>27</td>\n",
       "      <td>57000</td>\n",
       "      <td>0</td>\n",
       "      <td>0</td>\n",
       "    </tr>\n",
       "    <tr>\n",
       "      <th>4</th>\n",
       "      <td>Male</td>\n",
       "      <td>19</td>\n",
       "      <td>76000</td>\n",
       "      <td>0</td>\n",
       "      <td>1</td>\n",
       "    </tr>\n",
       "    <tr>\n",
       "      <th>...</th>\n",
       "      <td>...</td>\n",
       "      <td>...</td>\n",
       "      <td>...</td>\n",
       "      <td>...</td>\n",
       "      <td>...</td>\n",
       "    </tr>\n",
       "    <tr>\n",
       "      <th>395</th>\n",
       "      <td>Female</td>\n",
       "      <td>46</td>\n",
       "      <td>41000</td>\n",
       "      <td>1</td>\n",
       "      <td>0</td>\n",
       "    </tr>\n",
       "    <tr>\n",
       "      <th>396</th>\n",
       "      <td>Male</td>\n",
       "      <td>51</td>\n",
       "      <td>23000</td>\n",
       "      <td>1</td>\n",
       "      <td>1</td>\n",
       "    </tr>\n",
       "    <tr>\n",
       "      <th>397</th>\n",
       "      <td>Female</td>\n",
       "      <td>50</td>\n",
       "      <td>20000</td>\n",
       "      <td>1</td>\n",
       "      <td>0</td>\n",
       "    </tr>\n",
       "    <tr>\n",
       "      <th>398</th>\n",
       "      <td>Male</td>\n",
       "      <td>36</td>\n",
       "      <td>33000</td>\n",
       "      <td>0</td>\n",
       "      <td>1</td>\n",
       "    </tr>\n",
       "    <tr>\n",
       "      <th>399</th>\n",
       "      <td>Female</td>\n",
       "      <td>49</td>\n",
       "      <td>36000</td>\n",
       "      <td>1</td>\n",
       "      <td>0</td>\n",
       "    </tr>\n",
       "  </tbody>\n",
       "</table>\n",
       "<p>400 rows × 5 columns</p>\n",
       "</div>"
      ],
      "text/plain": [
       "     Gender  Age  EstimatedSalary  Purchased  Gender_dummy\n",
       "0      Male   19            19000          0             1\n",
       "1      Male   35            20000          0             1\n",
       "2    Female   26            43000          0             0\n",
       "3    Female   27            57000          0             0\n",
       "4      Male   19            76000          0             1\n",
       "..      ...  ...              ...        ...           ...\n",
       "395  Female   46            41000          1             0\n",
       "396    Male   51            23000          1             1\n",
       "397  Female   50            20000          1             0\n",
       "398    Male   36            33000          0             1\n",
       "399  Female   49            36000          1             0\n",
       "\n",
       "[400 rows x 5 columns]"
      ]
     },
     "execution_count": 104,
     "metadata": {},
     "output_type": "execute_result"
    }
   ],
   "source": [
    "df[\"Gender_dummy\"] = pd.get_dummies(df[\"Gender\"], drop_first = True)\n",
    "df"
   ]
  },
  {
   "cell_type": "code",
   "execution_count": 105,
   "metadata": {},
   "outputs": [
    {
     "data": {
      "text/html": [
       "<div>\n",
       "<style scoped>\n",
       "    .dataframe tbody tr th:only-of-type {\n",
       "        vertical-align: middle;\n",
       "    }\n",
       "\n",
       "    .dataframe tbody tr th {\n",
       "        vertical-align: top;\n",
       "    }\n",
       "\n",
       "    .dataframe thead th {\n",
       "        text-align: right;\n",
       "    }\n",
       "</style>\n",
       "<table border=\"1\" class=\"dataframe\">\n",
       "  <thead>\n",
       "    <tr style=\"text-align: right;\">\n",
       "      <th></th>\n",
       "      <th>Age</th>\n",
       "      <th>EstimatedSalary</th>\n",
       "      <th>Gender_dummy</th>\n",
       "    </tr>\n",
       "  </thead>\n",
       "  <tbody>\n",
       "    <tr>\n",
       "      <th>0</th>\n",
       "      <td>-1.781797</td>\n",
       "      <td>-1.490046</td>\n",
       "      <td>1</td>\n",
       "    </tr>\n",
       "    <tr>\n",
       "      <th>1</th>\n",
       "      <td>-0.253587</td>\n",
       "      <td>-1.460681</td>\n",
       "      <td>1</td>\n",
       "    </tr>\n",
       "    <tr>\n",
       "      <th>2</th>\n",
       "      <td>-1.113206</td>\n",
       "      <td>-0.785290</td>\n",
       "      <td>0</td>\n",
       "    </tr>\n",
       "    <tr>\n",
       "      <th>3</th>\n",
       "      <td>-1.017692</td>\n",
       "      <td>-0.374182</td>\n",
       "      <td>0</td>\n",
       "    </tr>\n",
       "    <tr>\n",
       "      <th>4</th>\n",
       "      <td>-1.781797</td>\n",
       "      <td>0.183751</td>\n",
       "      <td>1</td>\n",
       "    </tr>\n",
       "  </tbody>\n",
       "</table>\n",
       "</div>"
      ],
      "text/plain": [
       "        Age  EstimatedSalary  Gender_dummy\n",
       "0 -1.781797        -1.490046             1\n",
       "1 -0.253587        -1.460681             1\n",
       "2 -1.113206        -0.785290             0\n",
       "3 -1.017692        -0.374182             0\n",
       "4 -1.781797         0.183751             1"
      ]
     },
     "execution_count": 105,
     "metadata": {},
     "output_type": "execute_result"
    }
   ],
   "source": [
    "# gender already Categorical and now we standardize age and estimatedsalary.\n",
    "X = df[[\"Age\", \"EstimatedSalary\"]]\n",
    "y = df[[\"Purchased\"]]\n",
    "\n",
    "sc = StandardScaler()\n",
    "X = sc.fit_transform(X)\n",
    "\n",
    "X = pd.DataFrame(X, columns=[\"Age\",\"EstimatedSalary\"])\n",
    "\n",
    "#add gender dummy column\n",
    "X[\"Gender_dummy\"] = df[\"Gender_dummy\"]\n",
    "X.head()"
   ]
  },
  {
   "cell_type": "code",
   "execution_count": 106,
   "metadata": {},
   "outputs": [
    {
     "data": {
      "text/plain": [
       "(array([[2.28581938, 1.08303239, 0.27232788]]), array([-1.2661054]))"
      ]
     },
     "execution_count": 106,
     "metadata": {},
     "output_type": "execute_result"
    }
   ],
   "source": [
    "X_train,X_test,y_train,y_test = train_test_split(X,y, train_size=0.8, random_state=100)\n",
    "logreg = LogisticRegression()\n",
    "logreg = logreg.fit(X_train,y_train)\n",
    "logreg.coef_, logreg.intercept_"
   ]
  },
  {
   "cell_type": "code",
   "execution_count": 107,
   "metadata": {},
   "outputs": [],
   "source": [
    "#probability and predictions\n",
    "y_train_prob = logreg.predict_proba(X_train)[:,1] \n",
    "y_train_pred = logreg.predict(X_train)"
   ]
  },
  {
   "cell_type": "code",
   "execution_count": 108,
   "metadata": {},
   "outputs": [
    {
     "data": {
      "text/html": [
       "<div>\n",
       "<style scoped>\n",
       "    .dataframe tbody tr th:only-of-type {\n",
       "        vertical-align: middle;\n",
       "    }\n",
       "\n",
       "    .dataframe tbody tr th {\n",
       "        vertical-align: top;\n",
       "    }\n",
       "\n",
       "    .dataframe thead th {\n",
       "        text-align: right;\n",
       "    }\n",
       "</style>\n",
       "<table border=\"1\" class=\"dataframe\">\n",
       "  <thead>\n",
       "    <tr style=\"text-align: right;\">\n",
       "      <th></th>\n",
       "      <th>Age</th>\n",
       "      <th>EstimatedSalary</th>\n",
       "      <th>Gender_dummy</th>\n",
       "      <th>y_train_actuals</th>\n",
       "      <th>y_train_prob</th>\n",
       "      <th>y_train_pred</th>\n",
       "    </tr>\n",
       "  </thead>\n",
       "  <tbody>\n",
       "    <tr>\n",
       "      <th>343</th>\n",
       "      <td>0.892570</td>\n",
       "      <td>-0.550371</td>\n",
       "      <td>0</td>\n",
       "      <td>1</td>\n",
       "      <td>0.544403</td>\n",
       "      <td>1</td>\n",
       "    </tr>\n",
       "    <tr>\n",
       "      <th>359</th>\n",
       "      <td>0.415005</td>\n",
       "      <td>-0.462276</td>\n",
       "      <td>1</td>\n",
       "      <td>0</td>\n",
       "      <td>0.366837</td>\n",
       "      <td>0</td>\n",
       "    </tr>\n",
       "    <tr>\n",
       "      <th>323</th>\n",
       "      <td>0.988083</td>\n",
       "      <td>-1.167033</td>\n",
       "      <td>0</td>\n",
       "      <td>1</td>\n",
       "      <td>0.432549</td>\n",
       "      <td>0</td>\n",
       "    </tr>\n",
       "    <tr>\n",
       "      <th>280</th>\n",
       "      <td>2.038728</td>\n",
       "      <td>0.536129</td>\n",
       "      <td>0</td>\n",
       "      <td>1</td>\n",
       "      <td>0.981561</td>\n",
       "      <td>1</td>\n",
       "    </tr>\n",
       "    <tr>\n",
       "      <th>8</th>\n",
       "      <td>-1.208719</td>\n",
       "      <td>-1.078938</td>\n",
       "      <td>1</td>\n",
       "      <td>0</td>\n",
       "      <td>0.007209</td>\n",
       "      <td>0</td>\n",
       "    </tr>\n",
       "  </tbody>\n",
       "</table>\n",
       "</div>"
      ],
      "text/plain": [
       "          Age  EstimatedSalary  Gender_dummy  y_train_actuals  y_train_prob  \\\n",
       "343  0.892570        -0.550371             0                1      0.544403   \n",
       "359  0.415005        -0.462276             1                0      0.366837   \n",
       "323  0.988083        -1.167033             0                1      0.432549   \n",
       "280  2.038728         0.536129             0                1      0.981561   \n",
       "8   -1.208719        -1.078938             1                0      0.007209   \n",
       "\n",
       "     y_train_pred  \n",
       "343             1  \n",
       "359             0  \n",
       "323             0  \n",
       "280             1  \n",
       "8               0  "
      ]
     },
     "execution_count": 108,
     "metadata": {},
     "output_type": "execute_result"
    }
   ],
   "source": [
    "X_train_op = X_train.copy()\n",
    "X_train_op[\"y_train_actuals\"] = y_train[\"Purchased\"]\n",
    "X_train_op[\"y_train_prob\"] = y_train_prob\n",
    "X_train_op[\"y_train_pred\"] = y_train_pred\n",
    "\n",
    "# by default threshold is 0.5 but we can change it\n",
    "#X_train_op[\"y_train_pred\"] = np.where(X_train_op[\"y_train_prob\"]>0.5,1,0)\n",
    "X_train_op.tail()"
   ]
  },
  {
   "cell_type": "code",
   "execution_count": 109,
   "metadata": {},
   "outputs": [
    {
     "data": {
      "text/plain": [
       "0.859375"
      ]
     },
     "execution_count": 109,
     "metadata": {},
     "output_type": "execute_result"
    }
   ],
   "source": [
    "accuracy_score(X_train_op[\"y_train_actuals\"],X_train_op[\"y_train_pred\"])"
   ]
  },
  {
   "cell_type": "markdown",
   "metadata": {},
   "source": [
    "<font color = \"green\">Insights :    \n",
    "There is no difference on accuracy after adding gender in the model.<br>\n",
    "For 2 variable on train data accuracy : 0.8531"
   ]
  },
  {
   "cell_type": "markdown",
   "metadata": {},
   "source": [
    "# <font color = \"Brown\"> Model-5  Using KNN Classifier"
   ]
  },
  {
   "cell_type": "code",
   "execution_count": 110,
   "metadata": {},
   "outputs": [],
   "source": [
    "from sklearn.neighbors import KNeighborsClassifier"
   ]
  },
  {
   "cell_type": "code",
   "execution_count": 111,
   "metadata": {},
   "outputs": [],
   "source": [
    "X = df[[\"Age\",\"EstimatedSalary\"]]\n",
    "y = df[[\"Purchased\"]]"
   ]
  },
  {
   "cell_type": "code",
   "execution_count": 112,
   "metadata": {},
   "outputs": [],
   "source": [
    "sc = StandardScaler()\n",
    "X = sc.fit_transform(X)\n",
    "\n",
    "X = pd.DataFrame(X, columns=[\"Age\",\"EstimatedSalary\"])\n",
    "X_train,X_test,y_train,y_test = train_test_split(X,y, train_size=0.8, random_state=100)\n",
    "\n",
    "knn = KNeighborsClassifier(n_neighbors = 3 , metric = \"euclidean\")\n",
    "knn = knn.fit(X_train,y_train)\n"
   ]
  },
  {
   "cell_type": "code",
   "execution_count": 113,
   "metadata": {},
   "outputs": [],
   "source": [
    "y_train_prob = knn.predict_proba(X_train)[:,1] \n",
    "y_train_pred = knn.predict(X_train)"
   ]
  },
  {
   "cell_type": "code",
   "execution_count": 114,
   "metadata": {},
   "outputs": [
    {
     "data": {
      "text/plain": [
       "0.859375"
      ]
     },
     "execution_count": 114,
     "metadata": {},
     "output_type": "execute_result"
    }
   ],
   "source": [
    "accuracy_score(X_train_op[\"y_train_actuals\"],X_train_op[\"y_train_pred\"])"
   ]
  },
  {
   "cell_type": "markdown",
   "metadata": {},
   "source": [
    "# <font color = \"Brown\"> Doing withput scaling"
   ]
  },
  {
   "cell_type": "code",
   "execution_count": 115,
   "metadata": {},
   "outputs": [],
   "source": [
    "X = df[[\"Age\",\"EstimatedSalary\"]]\n",
    "y = df[[\"Purchased\"]]"
   ]
  },
  {
   "cell_type": "code",
   "execution_count": 116,
   "metadata": {},
   "outputs": [],
   "source": [
    "X_train,X_test,y_train,y_test = train_test_split(X,y, train_size=0.8, random_state=100)\n",
    "\n",
    "knn = KNeighborsClassifier(n_neighbors =3, metric = \"euclidean\") \n",
    "# here we can change n_neighbors, change accuracy, 3 is best for the model.\n",
    "knn = knn.fit(X_train,y_train)"
   ]
  },
  {
   "cell_type": "code",
   "execution_count": 117,
   "metadata": {},
   "outputs": [
    {
     "data": {
      "text/plain": [
       "0.896875"
      ]
     },
     "execution_count": 117,
     "metadata": {},
     "output_type": "execute_result"
    }
   ],
   "source": [
    "y_train_prob = knn.predict_proba(X_train)[:,1] \n",
    "y_train_pred = knn.predict(X_train)\n",
    "knn.score(X_train,y_train)"
   ]
  },
  {
   "cell_type": "code",
   "execution_count": 118,
   "metadata": {},
   "outputs": [
    {
     "data": {
      "text/html": [
       "<div>\n",
       "<style scoped>\n",
       "    .dataframe tbody tr th:only-of-type {\n",
       "        vertical-align: middle;\n",
       "    }\n",
       "\n",
       "    .dataframe tbody tr th {\n",
       "        vertical-align: top;\n",
       "    }\n",
       "\n",
       "    .dataframe thead th {\n",
       "        text-align: right;\n",
       "    }\n",
       "</style>\n",
       "<table border=\"1\" class=\"dataframe\">\n",
       "  <thead>\n",
       "    <tr style=\"text-align: right;\">\n",
       "      <th></th>\n",
       "      <th>Age</th>\n",
       "      <th>EstimatedSalary</th>\n",
       "      <th>y_train_actuals</th>\n",
       "      <th>y_train_prob</th>\n",
       "      <th>y_train_pred</th>\n",
       "    </tr>\n",
       "  </thead>\n",
       "  <tbody>\n",
       "    <tr>\n",
       "      <th>190</th>\n",
       "      <td>24</td>\n",
       "      <td>84000</td>\n",
       "      <td>0</td>\n",
       "      <td>0.000000</td>\n",
       "      <td>0</td>\n",
       "    </tr>\n",
       "    <tr>\n",
       "      <th>46</th>\n",
       "      <td>25</td>\n",
       "      <td>79000</td>\n",
       "      <td>0</td>\n",
       "      <td>0.000000</td>\n",
       "      <td>0</td>\n",
       "    </tr>\n",
       "    <tr>\n",
       "      <th>50</th>\n",
       "      <td>24</td>\n",
       "      <td>32000</td>\n",
       "      <td>0</td>\n",
       "      <td>0.333333</td>\n",
       "      <td>0</td>\n",
       "    </tr>\n",
       "    <tr>\n",
       "      <th>377</th>\n",
       "      <td>42</td>\n",
       "      <td>53000</td>\n",
       "      <td>0</td>\n",
       "      <td>0.000000</td>\n",
       "      <td>0</td>\n",
       "    </tr>\n",
       "    <tr>\n",
       "      <th>121</th>\n",
       "      <td>37</td>\n",
       "      <td>72000</td>\n",
       "      <td>0</td>\n",
       "      <td>0.000000</td>\n",
       "      <td>0</td>\n",
       "    </tr>\n",
       "  </tbody>\n",
       "</table>\n",
       "</div>"
      ],
      "text/plain": [
       "     Age  EstimatedSalary  y_train_actuals  y_train_prob  y_train_pred\n",
       "190   24            84000                0      0.000000             0\n",
       "46    25            79000                0      0.000000             0\n",
       "50    24            32000                0      0.333333             0\n",
       "377   42            53000                0      0.000000             0\n",
       "121   37            72000                0      0.000000             0"
      ]
     },
     "execution_count": 118,
     "metadata": {},
     "output_type": "execute_result"
    }
   ],
   "source": [
    "X_train_op = X_train.copy()\n",
    "X_train_op[\"y_train_actuals\"] = y_train[\"Purchased\"]\n",
    "X_train_op[\"y_train_prob\"] = y_train_prob\n",
    "X_train_op[\"y_train_pred\"] = y_train_pred\n",
    "X_train_op.head()"
   ]
  },
  {
   "cell_type": "code",
   "execution_count": 119,
   "metadata": {},
   "outputs": [
    {
     "data": {
      "text/plain": [
       "Text(0.5, 1.0, 'scatter plot with purchase details')"
      ]
     },
     "execution_count": 119,
     "metadata": {},
     "output_type": "execute_result"
    },
    {
     "data": {
      "image/png": "[encoded data removed]",
      "text/plain": [
       "<Figure size 1080x288 with 1 Axes>"
      ]
     },
     "metadata": {
      "needs_background": "light"
     },
     "output_type": "display_data"
    }
   ],
   "source": [
    "plt.figure(figsize=(15,4))\n",
    "sns.scatterplot(X_train_op[\"EstimatedSalary\"],X_train_op[\"Age\"], hue=X_train_op[\"y_train_pred\"])\n",
    "plt.title(\"scatter plot with purchase details\", fontsize=14)"
   ]
  },
  {
   "cell_type": "code",
   "execution_count": 120,
   "metadata": {},
   "outputs": [
    {
     "data": {
      "text/plain": [
       "Text(0.5, 1.0, 'ConfusionMatrix')"
      ]
     },
     "execution_count": 120,
     "metadata": {},
     "output_type": "execute_result"
    },
    {
     "data": {
      "image/png": "[encoded data removed]",
      "text/plain": [
       "<Figure size 432x288 with 2 Axes>"
      ]
     },
     "metadata": {
      "needs_background": "light"
     },
     "output_type": "display_data"
    }
   ],
   "source": [
    "cnf_matrix = confusion_matrix(X_train_op[\"y_train_actuals\"],X_train_op[\"y_train_pred\"])\n",
    "\n",
    "sns.heatmap(cnf_matrix, annot=True, cmap =\"YlGnBu\", fmt='.3g')\n",
    "plt.xlabel(\"Actuals\",fontsize=14)\n",
    "plt.ylabel(\"Predictions\",fontsize=14)\n",
    "plt.title(\"ConfusionMatrix\", fontsize=14)\n"
   ]
  },
  {
   "cell_type": "code",
   "execution_count": 121,
   "metadata": {},
   "outputs": [],
   "source": [
    "#from matplotlib.colors import ListedColormap\n",
    "#from sklearn import neighbors\n",
    "#h = 0.2"
   ]
  },
  {
   "cell_type": "code",
   "execution_count": 122,
   "metadata": {},
   "outputs": [],
   "source": [
    "#X_1 = X_train.to_numpy()\n",
    "#y_1 = y_train[\"Purchased\"].to_numpy()\n",
    "\n",
    "#X_min,X_max = X_1[:,0].min() - 1, X_1[:,0].max() + 1\n",
    "#y_min,y_max = X_1[:,1].min() - 1, X_1[:,1].max() + 1\n",
    "#XX, yy = np.meshgrid(np.arange(X_min,X_max,h),np.arange(y_min,y_max,h))"
   ]
  },
  {
   "cell_type": "code",
   "execution_count": 123,
   "metadata": {},
   "outputs": [],
   "source": [
    "# Predict class using data and knn classifier\n",
    "#Z = knn.predict(np.c_[XX.ravel(), yy.ravel()])"
   ]
  },
  {
   "cell_type": "code",
   "execution_count": 124,
   "metadata": {},
   "outputs": [],
   "source": [
    "#Creates colormap\n",
    "#cmap_light = ListedColormap(['#FFAAAA','#AAFFAA'])\n",
    "#cmap_bold = ListedColormap(['#FF0000','#00FF00'])"
   ]
  },
  {
   "cell_type": "code",
   "execution_count": 125,
   "metadata": {},
   "outputs": [],
   "source": [
    "# put the result into a color plot\n",
    "#Z = Z.reshape(XX.shape)\n",
    "#plt.figure()\n",
    "#plt.pcolormesh(XX, yy, Z, cmap=cmap_light)\n",
    "\n",
    "#plot also the training points\n",
    "#plt.scatter(X_1[:,0], X_1[:,1], c=y_1, cmap=cmap_bold)\n",
    "#plt.xlim(XX.min(), XX.max())\n",
    "#plt.ylim(yy.min(), yy.max())\n",
    "#plt.title(\"2-Class Classification (K= %i)\" % (3))"
   ]
  },
  {
   "cell_type": "markdown",
   "metadata": {},
   "source": [
    "# <font color = \"Red\"> above 5 input code is not running "
   ]
  },
  {
   "cell_type": "markdown",
   "metadata": {},
   "source": [
    "# <font color = \"green\"> Model - 5 : Decision Tree Classifier"
   ]
  },
  {
   "cell_type": "code",
   "execution_count": 126,
   "metadata": {},
   "outputs": [],
   "source": [
    "from sklearn.tree import DecisionTreeClassifier"
   ]
  },
  {
   "cell_type": "code",
   "execution_count": 127,
   "metadata": {},
   "outputs": [],
   "source": [
    "X = df[[\"Age\",\"EstimatedSalary\"]]\n",
    "y = df[[\"Purchased\"]]"
   ]
  },
  {
   "cell_type": "code",
   "execution_count": 128,
   "metadata": {},
   "outputs": [],
   "source": [
    "X_train,X_test,y_train,y_test = train_test_split(X,y, train_size=0.8, random_state=100)\n",
    "# use the below and check accuracy, it overfitting the data\n",
    "#DTC = DecisionTreeClassifier()\n",
    "DTC = DecisionTreeClassifier(max_depth=2) \n",
    "# here we can change max_depth, change accuracy, 2 is best for this model.\n",
    "DTC = DTC.fit(X_train,y_train)"
   ]
  },
  {
   "cell_type": "code",
   "execution_count": 129,
   "metadata": {},
   "outputs": [
    {
     "data": {
      "text/plain": [
       "0.915625"
      ]
     },
     "execution_count": 129,
     "metadata": {},
     "output_type": "execute_result"
    }
   ],
   "source": [
    "y_train_prob = DTC.predict_proba(X_train)[:,1] \n",
    "y_train_pred = DTC.predict(X_train)\n",
    "DTC.score(X_train,y_train)"
   ]
  },
  {
   "cell_type": "code",
   "execution_count": 130,
   "metadata": {},
   "outputs": [
    {
     "data": {
      "text/plain": [
       "0.9125"
      ]
     },
     "execution_count": 130,
     "metadata": {},
     "output_type": "execute_result"
    }
   ],
   "source": [
    "DTC.score(X_test,y_test)"
   ]
  },
  {
   "cell_type": "code",
   "execution_count": 131,
   "metadata": {},
   "outputs": [
    {
     "data": {
      "text/html": [
       "<div>\n",
       "<style scoped>\n",
       "    .dataframe tbody tr th:only-of-type {\n",
       "        vertical-align: middle;\n",
       "    }\n",
       "\n",
       "    .dataframe tbody tr th {\n",
       "        vertical-align: top;\n",
       "    }\n",
       "\n",
       "    .dataframe thead th {\n",
       "        text-align: right;\n",
       "    }\n",
       "</style>\n",
       "<table border=\"1\" class=\"dataframe\">\n",
       "  <thead>\n",
       "    <tr style=\"text-align: right;\">\n",
       "      <th></th>\n",
       "      <th>Age</th>\n",
       "      <th>EstimatedSalary</th>\n",
       "      <th>y_train_actuals</th>\n",
       "      <th>y_train_pred</th>\n",
       "    </tr>\n",
       "  </thead>\n",
       "  <tbody>\n",
       "    <tr>\n",
       "      <th>190</th>\n",
       "      <td>24</td>\n",
       "      <td>84000</td>\n",
       "      <td>0</td>\n",
       "      <td>0</td>\n",
       "    </tr>\n",
       "    <tr>\n",
       "      <th>46</th>\n",
       "      <td>25</td>\n",
       "      <td>79000</td>\n",
       "      <td>0</td>\n",
       "      <td>0</td>\n",
       "    </tr>\n",
       "    <tr>\n",
       "      <th>50</th>\n",
       "      <td>24</td>\n",
       "      <td>32000</td>\n",
       "      <td>0</td>\n",
       "      <td>0</td>\n",
       "    </tr>\n",
       "    <tr>\n",
       "      <th>377</th>\n",
       "      <td>42</td>\n",
       "      <td>53000</td>\n",
       "      <td>0</td>\n",
       "      <td>0</td>\n",
       "    </tr>\n",
       "    <tr>\n",
       "      <th>121</th>\n",
       "      <td>37</td>\n",
       "      <td>72000</td>\n",
       "      <td>0</td>\n",
       "      <td>0</td>\n",
       "    </tr>\n",
       "  </tbody>\n",
       "</table>\n",
       "</div>"
      ],
      "text/plain": [
       "     Age  EstimatedSalary  y_train_actuals  y_train_pred\n",
       "190   24            84000                0             0\n",
       "46    25            79000                0             0\n",
       "50    24            32000                0             0\n",
       "377   42            53000                0             0\n",
       "121   37            72000                0             0"
      ]
     },
     "execution_count": 131,
     "metadata": {},
     "output_type": "execute_result"
    }
   ],
   "source": [
    "X_train_op = X_train.copy()\n",
    "X_train_op[\"y_train_actuals\"] = y_train[\"Purchased\"]\n",
    "X_train_op[\"y_train_pred\"] = y_train_pred\n",
    "X_train_op.head()"
   ]
  },
  {
   "cell_type": "code",
   "execution_count": 132,
   "metadata": {},
   "outputs": [
    {
     "data": {
      "text/plain": [
       "0.915625"
      ]
     },
     "execution_count": 132,
     "metadata": {},
     "output_type": "execute_result"
    }
   ],
   "source": [
    "accuracy_score(X_train_op[\"y_train_actuals\"],X_train_op[\"y_train_pred\"])"
   ]
  },
  {
   "cell_type": "code",
   "execution_count": 133,
   "metadata": {},
   "outputs": [
    {
     "data": {
      "text/plain": [
       "0.9125"
      ]
     },
     "execution_count": 133,
     "metadata": {},
     "output_type": "execute_result"
    }
   ],
   "source": [
    "accuracy_score(y_test, DTC.predict(X_test))"
   ]
  },
  {
   "cell_type": "code",
   "execution_count": 134,
   "metadata": {},
   "outputs": [
    {
     "data": {
      "text/plain": [
       "Text(0.5, 1.0, 'ConfusionMatrix')"
      ]
     },
     "execution_count": 134,
     "metadata": {},
     "output_type": "execute_result"
    },
    {
     "data": {
      "image/png": "[encoded data removed]",
      "text/plain": [
       "<Figure size 432x288 with 2 Axes>"
      ]
     },
     "metadata": {
      "needs_background": "light"
     },
     "output_type": "display_data"
    }
   ],
   "source": [
    "cnf_matrix = confusion_matrix(X_train_op[\"y_train_actuals\"],X_train_op[\"y_train_pred\"])\n",
    "\n",
    "sns.heatmap(cnf_matrix, annot=True, cmap =\"YlGnBu\", fmt='.3g')\n",
    "plt.xlabel(\"Actuals\",fontsize=14)\n",
    "plt.ylabel(\"Predictions\",fontsize=14)\n",
    "plt.title(\"ConfusionMatrix\", fontsize=14)"
   ]
  },
  {
   "cell_type": "code",
   "execution_count": 135,
   "metadata": {},
   "outputs": [],
   "source": [
    "from sklearn.tree import plot_tree"
   ]
  },
  {
   "cell_type": "code",
   "execution_count": 136,
   "metadata": {},
   "outputs": [
    {
     "data": {
      "text/plain": [
       "[Text(418.5, 226.5, 'Age <= 42.5\\ngini = 0.455\\nsamples = 320\\nvalue = [208, 112]'),\n",
       " Text(209.25, 135.9, 'Estimatedalary <= 90500.0\\ngini = 0.26\\nsamples = 228\\nvalue = [193, 35]'),\n",
       " Text(104.625, 45.29999999999998, 'gini = 0.051\\nsamples = 191\\nvalue = [186, 5]'),\n",
       " Text(313.875, 45.29999999999998, 'gini = 0.307\\nsamples = 37\\nvalue = [7, 30]'),\n",
       " Text(627.75, 135.9, 'Age <= 46.5\\ngini = 0.273\\nsamples = 92\\nvalue = [15, 77]'),\n",
       " Text(523.125, 45.29999999999998, 'gini = 0.48\\nsamples = 20\\nvalue = [8, 12]'),\n",
       " Text(732.375, 45.29999999999998, 'gini = 0.176\\nsamples = 72\\nvalue = [7, 65]')]"
      ]
     },
     "execution_count": 136,
     "metadata": {},
     "output_type": "execute_result"
    },
    {
     "data": {
      "image/png": "[encoded data removed]",
      "text/plain": [
       "<Figure size 1080x360 with 1 Axes>"
      ]
     },
     "metadata": {
      "needs_background": "light"
     },
     "output_type": "display_data"
    }
   ],
   "source": [
    "plt.figure(figsize=(15,5))\n",
    "plot_tree(DTC, filled = True, fontsize=10, feature_names = [\"Age\", \"Estimatedalary\"])"
   ]
  },
  {
   "cell_type": "markdown",
   "metadata": {},
   "source": [
    "# <font color =\"green\"> Calculate Gini Index"
   ]
  },
  {
   "cell_type": "code",
   "execution_count": 137,
   "metadata": {},
   "outputs": [
    {
     "data": {
      "text/plain": [
       "(0.455, 0.26)"
      ]
     },
     "execution_count": 137,
     "metadata": {},
     "output_type": "execute_result"
    }
   ],
   "source": [
    "# 0 : 208 and 1 : 112\n",
    "#formula  = 1 - Prob Square\n",
    "gini1 = 1 - (208/320)**2 - (112/320)**2\n",
    "gini2 = 1 - (193/228)**2 - (35/228)**2\n",
    "round(gini1,3) , round(gini2,3)"
   ]
  },
  {
   "cell_type": "code",
   "execution_count": 138,
   "metadata": {},
   "outputs": [
    {
     "data": {
      "text/plain": [
       "228"
      ]
     },
     "execution_count": 138,
     "metadata": {},
     "output_type": "execute_result"
    }
   ],
   "source": [
    "len(X_train[X_train[\"Age\"]<=42.5])"
   ]
  },
  {
   "cell_type": "markdown",
   "metadata": {},
   "source": [
    "# we can find same for rest of all.."
   ]
  },
  {
   "cell_type": "markdown",
   "metadata": {},
   "source": [
    "# <font color = \"green\"> Model - 6 : Random Forest Classifier"
   ]
  },
  {
   "cell_type": "code",
   "execution_count": 139,
   "metadata": {},
   "outputs": [],
   "source": [
    "from sklearn.ensemble import RandomForestClassifier"
   ]
  },
  {
   "cell_type": "code",
   "execution_count": 140,
   "metadata": {},
   "outputs": [],
   "source": [
    "X = df[[\"Age\",\"EstimatedSalary\"]]\n",
    "y = df[[\"Purchased\"]]"
   ]
  },
  {
   "cell_type": "code",
   "execution_count": 141,
   "metadata": {},
   "outputs": [],
   "source": [
    "X_train,X_test,y_train,y_test = train_test_split(X,y, train_size=0.8, random_state=100)\n",
    "\n",
    "RF = RandomForestClassifier(max_depth = 2) \n",
    "\n",
    "RF = RF.fit(X_train,y_train)"
   ]
  },
  {
   "cell_type": "code",
   "execution_count": 142,
   "metadata": {},
   "outputs": [
    {
     "data": {
      "text/plain": [
       "0.921875"
      ]
     },
     "execution_count": 142,
     "metadata": {},
     "output_type": "execute_result"
    }
   ],
   "source": [
    "y_train_prob = RF.predict_proba(X_train)[:,1] \n",
    "y_train_pred = RF.predict(X_train)\n",
    "RF.score(X_train,y_train)"
   ]
  },
  {
   "cell_type": "code",
   "execution_count": 143,
   "metadata": {},
   "outputs": [
    {
     "data": {
      "text/html": [
       "<div>\n",
       "<style scoped>\n",
       "    .dataframe tbody tr th:only-of-type {\n",
       "        vertical-align: middle;\n",
       "    }\n",
       "\n",
       "    .dataframe tbody tr th {\n",
       "        vertical-align: top;\n",
       "    }\n",
       "\n",
       "    .dataframe thead th {\n",
       "        text-align: right;\n",
       "    }\n",
       "</style>\n",
       "<table border=\"1\" class=\"dataframe\">\n",
       "  <thead>\n",
       "    <tr style=\"text-align: right;\">\n",
       "      <th></th>\n",
       "      <th>Age</th>\n",
       "      <th>EstimatedSalary</th>\n",
       "      <th>y_train_actuals</th>\n",
       "      <th>y_train_pred</th>\n",
       "    </tr>\n",
       "  </thead>\n",
       "  <tbody>\n",
       "    <tr>\n",
       "      <th>190</th>\n",
       "      <td>24</td>\n",
       "      <td>84000</td>\n",
       "      <td>0</td>\n",
       "      <td>0</td>\n",
       "    </tr>\n",
       "    <tr>\n",
       "      <th>46</th>\n",
       "      <td>25</td>\n",
       "      <td>79000</td>\n",
       "      <td>0</td>\n",
       "      <td>0</td>\n",
       "    </tr>\n",
       "    <tr>\n",
       "      <th>50</th>\n",
       "      <td>24</td>\n",
       "      <td>32000</td>\n",
       "      <td>0</td>\n",
       "      <td>0</td>\n",
       "    </tr>\n",
       "    <tr>\n",
       "      <th>377</th>\n",
       "      <td>42</td>\n",
       "      <td>53000</td>\n",
       "      <td>0</td>\n",
       "      <td>0</td>\n",
       "    </tr>\n",
       "    <tr>\n",
       "      <th>121</th>\n",
       "      <td>37</td>\n",
       "      <td>72000</td>\n",
       "      <td>0</td>\n",
       "      <td>0</td>\n",
       "    </tr>\n",
       "  </tbody>\n",
       "</table>\n",
       "</div>"
      ],
      "text/plain": [
       "     Age  EstimatedSalary  y_train_actuals  y_train_pred\n",
       "190   24            84000                0             0\n",
       "46    25            79000                0             0\n",
       "50    24            32000                0             0\n",
       "377   42            53000                0             0\n",
       "121   37            72000                0             0"
      ]
     },
     "execution_count": 143,
     "metadata": {},
     "output_type": "execute_result"
    }
   ],
   "source": [
    "X_train_op = X_train.copy()\n",
    "X_train_op[\"y_train_actuals\"] = y_train[\"Purchased\"]\n",
    "X_train_op[\"y_train_pred\"] = y_train_pred\n",
    "X_train_op.head()\n"
   ]
  },
  {
   "cell_type": "code",
   "execution_count": 144,
   "metadata": {},
   "outputs": [
    {
     "data": {
      "text/plain": [
       "0.921875"
      ]
     },
     "execution_count": 144,
     "metadata": {},
     "output_type": "execute_result"
    }
   ],
   "source": [
    "accuracy_score(X_train_op[\"y_train_actuals\"],X_train_op[\"y_train_pred\"])"
   ]
  },
  {
   "cell_type": "code",
   "execution_count": 145,
   "metadata": {},
   "outputs": [
    {
     "data": {
      "text/plain": [
       "0.9125"
      ]
     },
     "execution_count": 145,
     "metadata": {},
     "output_type": "execute_result"
    }
   ],
   "source": [
    "accuracy_score(y_test, RF.predict(X_test))"
   ]
  },
  {
   "cell_type": "code",
   "execution_count": 146,
   "metadata": {},
   "outputs": [
    {
     "data": {
      "text/plain": [
       "Text(0.5, 1.0, 'ConfusionMatrix')"
      ]
     },
     "execution_count": 146,
     "metadata": {},
     "output_type": "execute_result"
    },
    {
     "data": {
      "image/png": "[encoded data removed]",
      "text/plain": [
       "<Figure size 432x288 with 2 Axes>"
      ]
     },
     "metadata": {
      "needs_background": "light"
     },
     "output_type": "display_data"
    }
   ],
   "source": [
    "cnf_matrix = confusion_matrix(X_train_op[\"y_train_actuals\"],X_train_op[\"y_train_pred\"])\n",
    "\n",
    "sns.heatmap(cnf_matrix, annot=True, cmap =\"YlGnBu\", fmt='.3g')\n",
    "plt.xlabel(\"Actuals\",fontsize=14)\n",
    "plt.ylabel(\"Predictions\",fontsize=14)\n",
    "plt.title(\"ConfusionMatrix\", fontsize=14)"
   ]
  },
  {
   "cell_type": "code",
   "execution_count": 147,
   "metadata": {},
   "outputs": [
    {
     "data": {
      "text/plain": [
       "100"
      ]
     },
     "execution_count": 147,
     "metadata": {},
     "output_type": "execute_result"
    }
   ],
   "source": [
    "# Bydefault 100 are used, count of trees used. \n",
    "RF.n_estimators"
   ]
  },
  {
   "cell_type": "code",
   "execution_count": 148,
   "metadata": {},
   "outputs": [
    {
     "data": {
      "text/plain": [
       "[DecisionTreeClassifier(max_depth=2, max_features='auto', random_state=366558600),\n",
       " DecisionTreeClassifier(max_depth=2, max_features='auto',\n",
       "                        random_state=1373146938),\n",
       " DecisionTreeClassifier(max_depth=2, max_features='auto', random_state=338122713),\n",
       " DecisionTreeClassifier(max_depth=2, max_features='auto',\n",
       "                        random_state=1163387403),\n",
       " DecisionTreeClassifier(max_depth=2, max_features='auto', random_state=593637506),\n",
       " DecisionTreeClassifier(max_depth=2, max_features='auto', random_state=972291679),\n",
       " DecisionTreeClassifier(max_depth=2, max_features='auto', random_state=637260518),\n",
       " DecisionTreeClassifier(max_depth=2, max_features='auto', random_state=4653318),\n",
       " DecisionTreeClassifier(max_depth=2, max_features='auto', random_state=41881271),\n",
       " DecisionTreeClassifier(max_depth=2, max_features='auto',\n",
       "                        random_state=2133356525),\n",
       " DecisionTreeClassifier(max_depth=2, max_features='auto',\n",
       "                        random_state=1030191961),\n",
       " DecisionTreeClassifier(max_depth=2, max_features='auto',\n",
       "                        random_state=1847296671),\n",
       " DecisionTreeClassifier(max_depth=2, max_features='auto', random_state=974259186),\n",
       " DecisionTreeClassifier(max_depth=2, max_features='auto', random_state=174739939),\n",
       " DecisionTreeClassifier(max_depth=2, max_features='auto',\n",
       "                        random_state=1105289804),\n",
       " DecisionTreeClassifier(max_depth=2, max_features='auto',\n",
       "                        random_state=2037302821),\n",
       " DecisionTreeClassifier(max_depth=2, max_features='auto',\n",
       "                        random_state=1095803954),\n",
       " DecisionTreeClassifier(max_depth=2, max_features='auto', random_state=793503146),\n",
       " DecisionTreeClassifier(max_depth=2, max_features='auto',\n",
       "                        random_state=1811832159),\n",
       " DecisionTreeClassifier(max_depth=2, max_features='auto',\n",
       "                        random_state=1520355892),\n",
       " DecisionTreeClassifier(max_depth=2, max_features='auto', random_state=218981853),\n",
       " DecisionTreeClassifier(max_depth=2, max_features='auto',\n",
       "                        random_state=1905914591),\n",
       " DecisionTreeClassifier(max_depth=2, max_features='auto', random_state=452209325),\n",
       " DecisionTreeClassifier(max_depth=2, max_features='auto',\n",
       "                        random_state=1448974094),\n",
       " DecisionTreeClassifier(max_depth=2, max_features='auto',\n",
       "                        random_state=2061942584),\n",
       " DecisionTreeClassifier(max_depth=2, max_features='auto',\n",
       "                        random_state=1599340430),\n",
       " DecisionTreeClassifier(max_depth=2, max_features='auto', random_state=66933940),\n",
       " DecisionTreeClassifier(max_depth=2, max_features='auto',\n",
       "                        random_state=1445708083),\n",
       " DecisionTreeClassifier(max_depth=2, max_features='auto', random_state=429702355),\n",
       " DecisionTreeClassifier(max_depth=2, max_features='auto', random_state=521764928),\n",
       " DecisionTreeClassifier(max_depth=2, max_features='auto',\n",
       "                        random_state=1104073096),\n",
       " DecisionTreeClassifier(max_depth=2, max_features='auto', random_state=233997331),\n",
       " DecisionTreeClassifier(max_depth=2, max_features='auto',\n",
       "                        random_state=1055512869),\n",
       " DecisionTreeClassifier(max_depth=2, max_features='auto',\n",
       "                        random_state=1799664586),\n",
       " DecisionTreeClassifier(max_depth=2, max_features='auto', random_state=130470353),\n",
       " DecisionTreeClassifier(max_depth=2, max_features='auto', random_state=465395837),\n",
       " DecisionTreeClassifier(max_depth=2, max_features='auto',\n",
       "                        random_state=1514831404),\n",
       " DecisionTreeClassifier(max_depth=2, max_features='auto', random_state=211764722),\n",
       " DecisionTreeClassifier(max_depth=2, max_features='auto',\n",
       "                        random_state=1097461311),\n",
       " DecisionTreeClassifier(max_depth=2, max_features='auto',\n",
       "                        random_state=1482566815),\n",
       " DecisionTreeClassifier(max_depth=2, max_features='auto', random_state=517805428),\n",
       " DecisionTreeClassifier(max_depth=2, max_features='auto',\n",
       "                        random_state=1625895776),\n",
       " DecisionTreeClassifier(max_depth=2, max_features='auto', random_state=369573377),\n",
       " DecisionTreeClassifier(max_depth=2, max_features='auto', random_state=282868934),\n",
       " DecisionTreeClassifier(max_depth=2, max_features='auto',\n",
       "                        random_state=1039857057),\n",
       " DecisionTreeClassifier(max_depth=2, max_features='auto', random_state=234490055),\n",
       " DecisionTreeClassifier(max_depth=2, max_features='auto',\n",
       "                        random_state=1832914322),\n",
       " DecisionTreeClassifier(max_depth=2, max_features='auto',\n",
       "                        random_state=2082029699),\n",
       " DecisionTreeClassifier(max_depth=2, max_features='auto', random_state=57160401),\n",
       " DecisionTreeClassifier(max_depth=2, max_features='auto',\n",
       "                        random_state=1252206471),\n",
       " DecisionTreeClassifier(max_depth=2, max_features='auto', random_state=230304035),\n",
       " DecisionTreeClassifier(max_depth=2, max_features='auto',\n",
       "                        random_state=1639318478),\n",
       " DecisionTreeClassifier(max_depth=2, max_features='auto',\n",
       "                        random_state=1705060952),\n",
       " DecisionTreeClassifier(max_depth=2, max_features='auto', random_state=185696037),\n",
       " DecisionTreeClassifier(max_depth=2, max_features='auto',\n",
       "                        random_state=2094817069),\n",
       " DecisionTreeClassifier(max_depth=2, max_features='auto', random_state=702840572),\n",
       " DecisionTreeClassifier(max_depth=2, max_features='auto',\n",
       "                        random_state=1010734071),\n",
       " DecisionTreeClassifier(max_depth=2, max_features='auto',\n",
       "                        random_state=1275884973),\n",
       " DecisionTreeClassifier(max_depth=2, max_features='auto',\n",
       "                        random_state=1316959986),\n",
       " DecisionTreeClassifier(max_depth=2, max_features='auto',\n",
       "                        random_state=1229565573),\n",
       " DecisionTreeClassifier(max_depth=2, max_features='auto',\n",
       "                        random_state=1211332768),\n",
       " DecisionTreeClassifier(max_depth=2, max_features='auto', random_state=573515925),\n",
       " DecisionTreeClassifier(max_depth=2, max_features='auto', random_state=647191776),\n",
       " DecisionTreeClassifier(max_depth=2, max_features='auto',\n",
       "                        random_state=1024562208),\n",
       " DecisionTreeClassifier(max_depth=2, max_features='auto', random_state=136427235),\n",
       " DecisionTreeClassifier(max_depth=2, max_features='auto', random_state=719751316),\n",
       " DecisionTreeClassifier(max_depth=2, max_features='auto', random_state=366437343),\n",
       " DecisionTreeClassifier(max_depth=2, max_features='auto',\n",
       "                        random_state=1636777737),\n",
       " DecisionTreeClassifier(max_depth=2, max_features='auto',\n",
       "                        random_state=1039788591),\n",
       " DecisionTreeClassifier(max_depth=2, max_features='auto', random_state=159419605),\n",
       " DecisionTreeClassifier(max_depth=2, max_features='auto',\n",
       "                        random_state=1882330519),\n",
       " DecisionTreeClassifier(max_depth=2, max_features='auto',\n",
       "                        random_state=2000337294),\n",
       " DecisionTreeClassifier(max_depth=2, max_features='auto',\n",
       "                        random_state=1642129238),\n",
       " DecisionTreeClassifier(max_depth=2, max_features='auto', random_state=529529373),\n",
       " DecisionTreeClassifier(max_depth=2, max_features='auto',\n",
       "                        random_state=1563692427),\n",
       " DecisionTreeClassifier(max_depth=2, max_features='auto',\n",
       "                        random_state=1276706177),\n",
       " DecisionTreeClassifier(max_depth=2, max_features='auto',\n",
       "                        random_state=1021061955),\n",
       " DecisionTreeClassifier(max_depth=2, max_features='auto',\n",
       "                        random_state=1828467627),\n",
       " DecisionTreeClassifier(max_depth=2, max_features='auto',\n",
       "                        random_state=1143642759),\n",
       " DecisionTreeClassifier(max_depth=2, max_features='auto', random_state=168385691),\n",
       " DecisionTreeClassifier(max_depth=2, max_features='auto',\n",
       "                        random_state=1747700472),\n",
       " DecisionTreeClassifier(max_depth=2, max_features='auto',\n",
       "                        random_state=1964360904),\n",
       " DecisionTreeClassifier(max_depth=2, max_features='auto',\n",
       "                        random_state=1971005633),\n",
       " DecisionTreeClassifier(max_depth=2, max_features='auto',\n",
       "                        random_state=1298877861),\n",
       " DecisionTreeClassifier(max_depth=2, max_features='auto', random_state=891675554),\n",
       " DecisionTreeClassifier(max_depth=2, max_features='auto', random_state=808552130),\n",
       " DecisionTreeClassifier(max_depth=2, max_features='auto', random_state=943495811),\n",
       " DecisionTreeClassifier(max_depth=2, max_features='auto', random_state=572059775),\n",
       " DecisionTreeClassifier(max_depth=2, max_features='auto', random_state=482576557),\n",
       " DecisionTreeClassifier(max_depth=2, max_features='auto',\n",
       "                        random_state=1470296510),\n",
       " DecisionTreeClassifier(max_depth=2, max_features='auto',\n",
       "                        random_state=1031704839),\n",
       " DecisionTreeClassifier(max_depth=2, max_features='auto',\n",
       "                        random_state=1974932306),\n",
       " DecisionTreeClassifier(max_depth=2, max_features='auto',\n",
       "                        random_state=2013936681),\n",
       " DecisionTreeClassifier(max_depth=2, max_features='auto', random_state=672351173),\n",
       " DecisionTreeClassifier(max_depth=2, max_features='auto',\n",
       "                        random_state=1060023957),\n",
       " DecisionTreeClassifier(max_depth=2, max_features='auto',\n",
       "                        random_state=1841593249),\n",
       " DecisionTreeClassifier(max_depth=2, max_features='auto', random_state=742906794),\n",
       " DecisionTreeClassifier(max_depth=2, max_features='auto',\n",
       "                        random_state=1601504386),\n",
       " DecisionTreeClassifier(max_depth=2, max_features='auto',\n",
       "                        random_state=1190106342),\n",
       " DecisionTreeClassifier(max_depth=2, max_features='auto',\n",
       "                        random_state=1892363007)]"
      ]
     },
     "execution_count": 148,
     "metadata": {},
     "output_type": "execute_result"
    }
   ],
   "source": [
    "# find the complete list of decision tree, inthat trees random state will change.\n",
    "RF.estimators_"
   ]
  },
  {
   "cell_type": "code",
   "execution_count": 162,
   "metadata": {},
   "outputs": [],
   "source": [
    "# Trying to plot decision tree\n",
    "#estimator = RF.estimators_[5]\n",
    "#from sklearn.tree import export_graphviz\n",
    "#export_graphviz(estimator, out_file='tree.dot', \n",
    "                #feature_names = df[\"Age\", \"Estimatedalary\"],\n",
    "               # class_names = df[\"Purchased\"],\n",
    "                #rounded = True, proportion = False, \n",
    "                #precision = 2, filled = True)\n",
    "#plt.figure(figsize=(15,5))\n",
    "#plot_tree(estimator, filled = True, fontsize=10, feature_names = df[\"Age\", \"Estimatedalary\"], class_names=df[\"Purchased\"])"
   ]
  },
  {
   "cell_type": "code",
   "execution_count": 150,
   "metadata": {},
   "outputs": [
    {
     "data": {
      "text/plain": [
       "array([0.55547788, 0.44452212])"
      ]
     },
     "execution_count": 150,
     "metadata": {},
     "output_type": "execute_result"
    }
   ],
   "source": [
    "RF.feature_importances_"
   ]
  },
  {
   "cell_type": "code",
   "execution_count": 152,
   "metadata": {},
   "outputs": [
    {
     "data": {
      "text/plain": [
       "array([1, 0], dtype=int64)"
      ]
     },
     "execution_count": 152,
     "metadata": {},
     "output_type": "execute_result"
    }
   ],
   "source": [
    "indices = np.argsort(RF.feature_importances_)\n",
    "indices"
   ]
  },
  {
   "cell_type": "code",
   "execution_count": 153,
   "metadata": {},
   "outputs": [
    {
     "data": {
      "text/plain": [
       "Text(0.5, 1.0, 'Feature Importance')"
      ]
     },
     "execution_count": 153,
     "metadata": {},
     "output_type": "execute_result"
    },
    {
     "data": {
      "image/png": "[encoded data removed]",
      "text/plain": [
       "<Figure size 432x288 with 1 Axes>"
      ]
     },
     "metadata": {
      "needs_background": "light"
     },
     "output_type": "display_data"
    }
   ],
   "source": [
    "sns.barplot(X_train.columns.tolist(),RF.feature_importances_*100)\n",
    "plt.ylabel(\"Percentage\", fontsize=14)\n",
    "plt.title(\"Feature Importance\", fontsize=14)"
   ]
  },
  {
   "cell_type": "code",
   "execution_count": null,
   "metadata": {},
   "outputs": [],
   "source": []
  }
 ],
 "metadata": {
  "kernelspec": {
   "display_name": "Python 3",
   "language": "python",
   "name": "python3"
  },
  "language_info": {
   "codemirror_mode": {
    "name": "ipython",
    "version": 3
   },
   "file_extension": ".py",
   "mimetype": "text/x-python",
   "name": "python",
   "nbconvert_exporter": "python",
   "pygments_lexer": "ipython3",
   "version": "3.8.3"
  }
 },
 "nbformat": 4,
 "nbformat_minor": 4
}
